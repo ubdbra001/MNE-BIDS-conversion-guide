{
 "cells": [
  {
   "cell_type": "markdown",
   "id": "62056a25",
   "metadata": {},
   "source": [
    "# MNE-BIDS pipeline\n",
    ">\n",
    "#### This document will serve as a step-by-step guide to walk you through transforming your EEG dataset into one compliant with the BIDS format, using MNE-BIDS."
   ]
  },
  {
   "cell_type": "markdown",
   "id": "28eba06a",
   "metadata": {},
   "source": [
    "### What is MNE?\n",
    "> MNE is an open source python package for working with EEG and MEG data, which serves to facilitate the exploration, visualisation and analysis of neuroimaging data."
   ]
  },
  {
   "attachments": {
    "BIDS hierarchy.png": {
     "image/png": "[encoded data removed]"
    }
   },
   "cell_type": "markdown",
   "id": "5eca1136",
   "metadata": {},
   "source": [
    "### What is BIDS?\n",
    "> BIDS (Brain Imaging Data Structure) is a simple method of organising neuroimaging data that is easy to adopt and promotes standardisation across neuroimaging experiments. This allows for easier, more open data sharing and collaboration.\n",
    ">\n",
    "> It involves a hierarchical folder organisation structure, with four main levels:\n",
    ">\n",
    "> ![BIDS hierarchy.png](<attachment:BIDS hierarchy.png>)"
   ]
  },
  {
   "cell_type": "markdown",
   "id": "45baf688",
   "metadata": {},
   "source": [
    "## SO, MNE-BIDS...?\n",
    "> Is a processing pipeline that uses MNE-python tools to generate BIDS compliant datasets!\n",
    ">\n",
    "If you don't currently have MNE-BIDS installed, please refer to their official [website](https://mne.tools/mne-bids-pipeline/stable/getting_started/install.html) to do so before beginning this walkthrough."
   ]
  },
  {
   "cell_type": "markdown",
   "id": "cc508c83",
   "metadata": {},
   "source": [
    "------"
   ]
  },
  {
   "cell_type": "markdown",
   "id": "2866c154",
   "metadata": {},
   "source": [
    "# Expected Proficiencies\n",
    "> #### Prior to using this pipeline, a certain level of understanding/ skill is expected. "
   ]
  },
  {
   "cell_type": "markdown",
   "id": "e572f6dd",
   "metadata": {},
   "source": [
    "This entails:\n",
    "- Some knowledge of python (to understand and implement the present code), although this will be explained throughout.\n",
    "- An understanding of what a BIDS formatted dataset should include and how it should look (for checking the dataset has converted correctly).\n",
    "  > This information can be found on the [BIDS website](https://bids.neuroimaging.io/getting_started/index.html).\n",
    "- Familiarity with your EEG dataset and its associated metadata (to ensure all important information is present post-conversion and add any that is missing)."
   ]
  },
  {
   "cell_type": "markdown",
   "id": "9b96f5df",
   "metadata": {},
   "source": [
    "-----"
   ]
  },
  {
   "cell_type": "markdown",
   "id": "481f30e7",
   "metadata": {},
   "source": [
    "# 1. Downloading data\n",
    "> #### Collecting the EEG dataset necessary to run through this pipeline"
   ]
  },
  {
   "cell_type": "markdown",
   "id": "5bb325c6",
   "metadata": {},
   "source": [
    "In order to complete this pipeline, you will first need some EEG data. If you intend to run this pipeline using your pre-existing dataset, you can simply move onto the next step. If you don't have any EEG data to test this process on, we suggest downloading the [EEG Motor Movement/Imagery Dataset](https://physionet.org/content/eegmmidb/1.0.0/) from the [Physiobank Database](https://physionet.org/data/). \n",
    "\n",
    "[Link this to all of the rest of the document (edit the files to fit it in)]"
   ]
  },
  {
   "cell_type": "markdown",
   "id": "6bd2b600",
   "metadata": {},
   "source": [
    "GIVE LINK TO DOWNLOAD FULL CODE FROM DOC just like MNE does [At bottom]"
   ]
  },
  {
   "cell_type": "markdown",
   "id": "18c438d4",
   "metadata": {},
   "source": [
    "# 2. Data formatting\n",
    "> #### This pipeline's data format expectations"
   ]
  },
  {
   "cell_type": "markdown",
   "id": "28464a6e",
   "metadata": {},
   "source": [
    "This pipeline is curated to work with EEGLab (brainvision and _EDF_ are recommended by MNE) [CHANGE THIS DEPENDING ON WHAT WE CHOOSE TO USE] formatted datasets, however MNE is capable of handling a variety of formats. \n",
    ">  If your data is currently in a different format, you will need to use a slightly different section of code when reading in your data (step 6). For guidance on this, refer to MNE's documentation on [importing data from EEG devices](https://mne.tools/stable/auto_tutorials/io/20_reading_eeg_data.html#sphx-glr-auto-tutorials-io-20-reading-eeg-data-py) for guidance. \n",
    ">\n",
    "The pipeline will also write the dataset into a BIDS-recommended format [EEGLab or BrainVision or EDF] in step 7. If you require a different output format, you may edit the `format` parameter of `write_raw_bids` using [MNE's guidance](https://mne.tools/mne-bids/stable/generated/mne_bids.write_raw_bids.html).\n",
    "\n",
    "USE THE DATA FORMAT OF THE PHYSIOBANK ONE ONCE SWITCHED OVER (EDF????)"
   ]
  },
  {
   "cell_type": "markdown",
   "id": "cc3bc51d",
   "metadata": {},
   "source": [
    "------"
   ]
  },
  {
   "cell_type": "markdown",
   "id": "90a62ce0",
   "metadata": {},
   "source": [
    "# 3. Importing the necessary tools\n",
    ">### To begin, we will need to import all the tools necessary for converting the data."
   ]
  },
  {
   "cell_type": "markdown",
   "id": "fc978cc5",
   "metadata": {},
   "source": [
    "This first section of code will import tools that allow us to work with the file paths and simplify the method of handling them."
   ]
  },
  {
   "cell_type": "code",
   "execution_count": null,
   "id": "1aa3095e",
   "metadata": {},
   "outputs": [],
   "source": [
    "#Allows us to work with file paths\n",
    "import os.path as op\n",
    "#Makes file path handling simpler\n",
    "from pathlib import Path"
   ]
  },
  {
   "cell_type": "markdown",
   "id": "222527de",
   "metadata": {},
   "source": [
    "Next, we need to `import MNE`, a python package for working with EEG and MEG data, and some associated tools that we will use here. \n",
    ">\n",
    "From `mne_bids`, we are importing:\n",
    "- `BIDSPath`:\n",
    "A tool for creating a BIDS formatted file path\n",
    "- `print_dir_tree`:\n",
    "A tool for presenting the contents of a folder in a 'tree' view\n",
    "- `write_raw_bids`:\n",
    "A tool for saving EEG data into BIDS format\n",
    ">\n",
    "Additionally, we wil be installing MNE-BIDS using [pip](https://pypi.org/project/pip/) (a package installer), before ensuring that MNE-BIDS is upgraded to be the newest version, to allow smooth functionality."
   ]
  },
  {
   "cell_type": "code",
   "execution_count": null,
   "id": "8117ec5b",
   "metadata": {},
   "outputs": [],
   "source": [
    "import mne\n",
    "%pip install mne_bids\n",
    "%pip install --upgrade mne_bids\n",
    "\n",
    "from mne_bids import BIDSPath, print_dir_tree, write_raw_bids, make_dataset_description, update_sidecar_json"
   ]
  },
  {
   "cell_type": "markdown",
   "id": "67c40bee",
   "metadata": {},
   "source": [
    "------"
   ]
  },
  {
   "cell_type": "markdown",
   "id": "cd272f5d",
   "metadata": {},
   "source": [
    "# 4. Finding the data\n",
    ">### After completing our imports, we need to find the EEG data files."
   ]
  },
  {
   "cell_type": "markdown",
   "id": "73fbeb4d",
   "metadata": {},
   "source": [
    "In the code below, the first line specifies where the folders and sub-folders for the data can be found. These should include your EEG data and any additional information (metadata). \n",
    ">\n",
    "You should modify this to include your own file pathway: `data_dir = Path(r\"___your file pathway____\")`. This should be the file containing your task files, or the highest file level containing your dataset and no external (dataset-unrelated) files.\n",
    "> Here, the `r` (raw) ensures the file location is read as is, and that the backslashes don't get interpreted as special characters, so don't break up the text.\n",
    ">\n",
    "The line below this prints a visualisation of the first sub-folders within (using the `print_dir_tree` tool!). \n",
    "> You may have 1 or more of these, depending on how much EEG data you wish to make BIDS compliant. Each of these should contain EEG data from one specific task type, including data from each participant and any associated metadata."
   ]
  },
  {
   "cell_type": "code",
   "execution_count": null,
   "id": "069ad766",
   "metadata": {},
   "outputs": [],
   "source": [
    "#Change the file path to your data's location\n",
    "data_dir = Path(r\"C:\\N8_internship_code\\source_data\")\n",
    "print_dir_tree(data_dir, max_depth=1)"
   ]
  },
  {
   "cell_type": "markdown",
   "id": "a0500035",
   "metadata": {},
   "source": [
    "This next section lists the file paths for the sub-folders we just visualised and adds them to the list 'children'."
   ]
  },
  {
   "cell_type": "code",
   "execution_count": null,
   "id": "5ab5a02b",
   "metadata": {},
   "outputs": [],
   "source": [
    "children = [child for child in data_dir.iterdir()]\n",
    "children"
   ]
  },
  {
   "cell_type": "markdown",
   "id": "5cef6ebe",
   "metadata": {},
   "source": [
    "------"
   ]
  },
  {
   "cell_type": "markdown",
   "id": "e35b5456",
   "metadata": {},
   "source": [
    "# 5. Selecting specific files\n",
    ">### Let's specify the files we want to use"
   ]
  },
  {
   "cell_type": "markdown",
   "id": "f4fd7eb1",
   "metadata": {},
   "source": [
    "Here, the first line serves to identify which of the two files we want to write into BIDS format (note: in python, the first index is given a value of 0). If you have multiple files, each time you run through this you should change the number at the end to match the file you are wanting to adapt. \n",
    ">\n",
    "The second line lists all the files in the specified subfolder."
   ]
  },
  {
   "cell_type": "code",
   "execution_count": null,
   "id": "8554874a",
   "metadata": {},
   "outputs": [],
   "source": [
    "#Change this to match the file number\n",
    "dir_number = 0\n",
    "files = [file for file in children[dir_number].iterdir()]"
   ]
  },
  {
   "cell_type": "markdown",
   "id": "d1342cd1",
   "metadata": {},
   "source": [
    "This sets the first file in the folder to the variable `file_path`, then prints this. \n",
    ">\n",
    "Even when completing multiple iterations (for more than one dataset), the value should NOT be changed from 0!"
   ]
  },
  {
   "cell_type": "code",
   "execution_count": null,
   "id": "8da3668c",
   "metadata": {},
   "outputs": [],
   "source": [
    "file_path = files[0]\n",
    "file_path"
   ]
  },
  {
   "cell_type": "markdown",
   "id": "6bffe158",
   "metadata": {},
   "source": [
    "-------"
   ]
  },
  {
   "cell_type": "markdown",
   "id": "932801a0",
   "metadata": {},
   "source": [
    "# 6. Reading the data\n",
    ">### Now we've completed our preparations, lets compile our data"
   ]
  },
  {
   "cell_type": "markdown",
   "id": "dae205c9",
   "metadata": {},
   "source": [
    "Here, we are reading the EEG data from the previously selected file path to the `data` variable.\n",
    ">\n",
    "As previously mentioned, the current code is tailored to EEGLab formatted datasets and won't work with any other formats. As such, you must use a slightly different line of code depending on the format of your data. "
   ]
  },
  {
   "cell_type": "code",
   "execution_count": null,
   "id": "b896a11f",
   "metadata": {},
   "outputs": [],
   "source": [
    "data = mne.io.read_raw_eeglab(file_path)"
   ]
  },
  {
   "cell_type": "code",
   "execution_count": null,
   "id": "e3d40778",
   "metadata": {},
   "outputs": [],
   "source": [
    "data"
   ]
  },
  {
   "cell_type": "markdown",
   "id": "9d1d74bc",
   "metadata": {},
   "source": [
    "Here, we will specify the line frequency for the dataset, as required by BIDS. You should change the number here to reflect the line frequency of your dataset."
   ]
  },
  {
   "cell_type": "code",
   "execution_count": null,
   "id": "03292ac2",
   "metadata": {},
   "outputs": [],
   "source": [
    "#specify line frequency\n",
    "data.info[\"line_freq\"] = 50"
   ]
  },
  {
   "cell_type": "markdown",
   "id": "00d0a64a",
   "metadata": {},
   "source": [
    "How to add montage HERE"
   ]
  },
  {
   "cell_type": "markdown",
   "id": "ef60ea5e",
   "metadata": {},
   "source": [
    "Printing `data` will display the data's information. [In what format? will it look the same as the previous table?]"
   ]
  },
  {
   "cell_type": "markdown",
   "id": "bbd970fd",
   "metadata": {},
   "source": [
    "This next section of code will create a new folder path for storing EEG data in BIDS format, then prints it out. \n",
    ">\n",
    "We recommend renaming your file to something more specific to your dataset, by switching out the text in the quotation marks (`\"bids_example\"`). Attempt to avoiding using any spaces in the title to prevent possible later complications."
   ]
  },
  {
   "cell_type": "code",
   "execution_count": null,
   "id": "fed8d54b",
   "metadata": {},
   "outputs": [],
   "source": [
    "bids_root = op.join(data_dir.parent, \"bids_example\")\n",
    "bids_root"
   ]
  },
  {
   "cell_type": "markdown",
   "id": "56c23650",
   "metadata": {},
   "source": [
    "# 7. Writing the data\n",
    "> #### Let's write our selected data into BIDS format!"
   ]
  },
  {
   "cell_type": "markdown",
   "id": "54eae464",
   "metadata": {},
   "source": [
    "First, you should manually define the partricipant number/ subject id and task name for this dataset, setting them each to a variable as seen in the first two rows.\n",
    ">\n",
    "Then, using the `BIDSPath` tool we imported earlier, we will assign the subject, task and the folder path we just created to `bids_path`. \n",
    ">\n",
    "We will then use another imported tool, `write_raw_bids` to write the data (from the file path we defined earlier) into the new file path we created, linking it to the subject id and task type we outlined. The desired format of the output data is also outlined here `format=\"EEGLAB\"`."
   ]
  },
  {
   "cell_type": "code",
   "execution_count": null,
   "id": "569683cb",
   "metadata": {},
   "outputs": [],
   "source": [
    "#Edit this information ot match your data\n",
    "subject_id = \"001\"\n",
    "task = \"rest\"\n",
    "\n",
    "bids_path = BIDSPath(subject=subject_id, task=task, root=bids_root)\n",
    "write_raw_bids(data, bids_path, overwrite=True, allow_preload=True, format=\"EEGLAB\")"
   ]
  },
  {
   "cell_type": "markdown",
   "id": "1fe4597c",
   "metadata": {},
   "source": [
    "_______"
   ]
  },
  {
   "cell_type": "markdown",
   "id": "a5c9b874",
   "metadata": {},
   "source": [
    "### Now you have formatted your dataset to BIDS standards! \n",
    "#### Don't forget to repeat steps 4 and 5 for all of the file paths we found in step 3\n",
    ">\n",
    "## But hold on!\n",
    "#### Your BIDS formatted dataset isn't quite complete yet..."
   ]
  },
  {
   "cell_type": "markdown",
   "id": "7a65353b",
   "metadata": {},
   "source": [
    "-----"
   ]
  },
  {
   "cell_type": "markdown",
   "id": "6f10e503",
   "metadata": {},
   "source": [
    "# Editing and checking your BIDS formatted dataset\n",
    "### The steps below will walk you through finding and editing some of the files in your new dataset, in order to make them BIDS-compliant. \n",
    "Each of these files should automatically include a large amount of information derived from your dataset and stored in BIDS format, however this may not always be completely accurate.\n",
    ">\n",
    "As such, the next steps will walk you through checking taht your BIDS dataset is accurate, and how to adapt these files if necessary. Some of the file's items will be deemed required for a BIDS-compliant dataset, while others are recommended or merely optional. You __MUST__ ensure that the required elements are present and have correct data, and although not necessary, it will be beneficial for you to include as much additional data as possible, especially if it is important information for your dataset."
   ]
  },
  {
   "cell_type": "markdown",
   "id": "1999b7d4",
   "metadata": {},
   "source": [
    "You can do this by navigating to the file path we assigned to the variable `bids_root` in step 4, then working through all of the files and investigating what is present/correct."
   ]
  },
  {
   "cell_type": "markdown",
   "id": "9a0828cf",
   "metadata": {},
   "source": [
    "----"
   ]
  },
  {
   "cell_type": "markdown",
   "id": "e14e2378",
   "metadata": {},
   "source": [
    "# File 1. Sidecar\n",
    ">\n",
    "This file's name should have a format simlilar to *_eeg.json in your 'eeg' subfolder. \n",
    "\n",
    "Once you have located the file, you should open it and look through the components it lists. Below is a list of information BIDS needs/suggests for this file. Take note of which elemets are missing/incorrect.\n",
    ">\n",
    "#### BIDS components:\n",
    ">\n",
    "Necessary:\n",
    ">\n",
    "    1. EEG Reference\n",
    "    2. Sampling Frequency\n",
    "    3. Powerline Frequency\n",
    "    4. Software Filters\n",
    "    5. Task Name\n",
    ">\n",
    "Recommended:\n",
    ">\n",
    "    6. Task Description\n",
    "    7. Instructions\n",
    "    8. CogAtlasID\n",
    "    9. CogPOID\n",
    "    10. Cap Manufacturer\n",
    "    11. Cap Manufacturer's Model Name\n",
    "    12. Software Versions\n",
    "    13. Device Serial Number\n",
    "    14. EEG Channel Count\n",
    "    15. ECG Channel Count\n",
    "    16. EMG Channel Count\n",
    "    17. EOG Channel Count\n",
    "    18. MISC Channel Count\n",
    "    19. Trigger Channel Count\n",
    "    20. Recording Duration\n",
    "    21. Recording Type\n",
    "    22. EpochLength\n",
    "    23. EEG Ground\n",
    "    24. Head Circumference\n",
    "    25. EEG Placement Scheme\n",
    "    26. Hardware Filters\n",
    "    27. Subject Artefact Description\n",
    "    28. Institution Name\n",
    "    29. Institution Address\n",
    "    30. Institutional Department Name\n",
    ">\n",
    "Optional:\n",
    ">\n",
    "    31. Electrical Stimulation\n",
    "    32. Electrical Stimulation Parameters\n",
    "\n"
   ]
  },
  {
   "cell_type": "markdown",
   "id": "c269e8be",
   "metadata": {},
   "source": [
    "## Manually updating the JSON file. \n",
    ">\n",
    "To begin, you must edit the first line of code to match your file path `Path(r'___Your file path here___')`, and the second line to match your files directory `root = (r'__Your file directory here__')`. Additionally, you must change the `subject=` and `task=` sections of `bids_path1` to match your dataset's file.\n",
    "\n",
    "Once these are re-defined, you can update specific aspects of the sidecar by editing the text in quotation marks `\"\"` (after the colon `:`). \n",
    ">\n",
    "- If the element you are editing already exists in the file, changing its associated data with the code below will change information text for that element in the file.\n",
    "- If the element isn't yet present, a new element will be added below with the data you assigned to it.\n",
    "- If you don't intend to include or change an item you can simply delete it from the code. "
   ]
  },
  {
   "cell_type": "code",
   "execution_count": null,
   "id": "8bc49e3a",
   "metadata": {},
   "outputs": [],
   "source": [
    "#updating a specific parameter in a JSON\n",
    "json_file = Path(r'C:\\N8_internship_code\\bids_example\\sub-001\\eeg\\sub-001_task-rest_eeg.json').absolute()\n",
    "# Create BIDSPath using the JSON file's directory as root\n",
    "root = (r'C:\\N8_internship_code\\bids_example')\n",
    "\n",
    "bids_path1 = BIDSPath(subject='001', task='rest',\n",
    "                     suffix='eeg', extension='.json', datatype='eeg',\n",
    "                     root=root)\n",
    "\n",
    "entries = {'EEGReference' : \"FCz\",\n",
    "           'SamplingFrequency': 1000.0,\n",
    "           'PowerLineFrequency': 50.0,\n",
    "           'SoftwareFilters': {\n",
    "                \"Anti-aliasing filter\":{\n",
    "                \"half-amplitude cutoff (Hz)\": 500,\n",
    "                \"Roll-off\": \"6dB/Octave\"\n",
    "                }\n",
    "                },\n",
    "            'TaskName': \"Resting State\",\n",
    "            'TaskDescription': \"Participants were asked to rest with their eyes closed for 5 minutes.\",\n",
    "            'Instructions': \"Please close your eyes and relax. Do not think about anything in particular.\",\n",
    "            'CogAtlasID': \"\", \n",
    "            'CogPOID': \"\",    \n",
    "            'Manufacturer': \"Brain Products GmbH\",\n",
    "            'ManufacturersModelName':\"Brain Products actiCHamp\",\n",
    "            'CapManufacturer': \"EasyCap\",\n",
    "            'CapManufacturersModelName': \"EasyCap 64-channel cap\",\n",
    "            'SoftwareVersions' : {\n",
    "                'MNE-BIDS': \"1.0.0\",\n",
    "                'MNE-Python': \"1.6.1\"\n",
    "                },\n",
    "            'DeviceSerialNumber': \"123456789\",\n",
    "            'EEGChannelCount': 64,\n",
    "            'ECGChannelCount': 2,\n",
    "            'EMGChannelCount': 0,\n",
    "            'EOGChannelCount': 0,\n",
    "            'MiscChannelCount': 0,\n",
    "            'TriggerChannelCount': 0,\n",
    "            'RecordingDuration': 600,\n",
    "            'RecordingType': \"Continuous\",\n",
    "            'EpochLength': 2.0,\n",
    "            'EEGGround':\"Fpz\", \n",
    "            'HeadCircumference': 58.0,\n",
    "            'EEGPlacementScheme': \"10 percent system\",\n",
    "            'HardwareFilters':{\n",
    "               \"ADC's decimation filter (hardware bandwidth limit)\":{\n",
    "                \"-3dB cutoff point (Hz)\": 480,\n",
    "                \"Filter order sinc response\": 5\n",
    "                }\n",
    "                },\n",
    "            'SubjectArtefactDescription': \"No known artifacts were present during the recording.\",\n",
    "            'InstitutionName': \"University of Leeds\",\n",
    "            'InstitutionAddress': \"Leeds, UK\", \n",
    "            'InstitutionalDepartmentName': \"School of Psychology\", \n",
    "            'ElectricalStimulation': \"\",\n",
    "            'ElectricalStimulationParameters': \"\" }\n",
    "           \n",
    "update_sidecar_json(bids_path1, entries, verbose=True)"
   ]
  },
  {
   "cell_type": "markdown",
   "id": "ca242e97",
   "metadata": {},
   "source": [
    "----"
   ]
  },
  {
   "cell_type": "markdown",
   "id": "9172f231",
   "metadata": {},
   "source": [
    "# File 2. Channels Description\n",
    ">\n",
    "This should have a format simlilar to *_channels.tsv in your 'eeg' subfolder. \n",
    "\n",
    "Once you have located the file, you should open it and look through the components it lists. Below is a list of information BIDS needs/suggests for this file. Take note of which elemets are missing or incorrect.\n",
    ">\n",
    "#### BIDS components:\n",
    ">\n",
    "Necessary:\n",
    ">\n",
    "    1. Name\n",
    "    2. Type\n",
    "    3. Units\n",
    "Recommended\n",
    ">\n",
    "    n/a\n",
    ">\n",
    "Optional:\n",
    ">\n",
    "    4. Description\n",
    "    5. Sampling Frequency\n",
    "    6. Reference\n",
    "    7. Low Cutoff\n",
    "    8. High Cutoff\n",
    "    9. Notch\n",
    "    10. Status\n",
    "    11. Status Description"
   ]
  },
  {
   "cell_type": "markdown",
   "id": "5dbacb2e",
   "metadata": {},
   "source": [
    "How to..."
   ]
  },
  {
   "cell_type": "code",
   "execution_count": null,
   "id": "d3a96532",
   "metadata": {},
   "outputs": [],
   "source": [
    "#Channels description editing code"
   ]
  },
  {
   "cell_type": "markdown",
   "id": "bf93bd3f",
   "metadata": {},
   "source": [
    "----"
   ]
  },
  {
   "cell_type": "markdown",
   "id": "41d72916",
   "metadata": {},
   "source": [
    "# File 3. Electrodes Description\n",
    "This should have a format simlilar to *_electrodes.tsv in your 'eeg' subfolder. \n",
    "\n",
    "Once you have located the file, you should open it and look through the components it lists. Below is a list of information BIDS needs/suggests for this file. Take note of which elemets are missing/incorrect.\n",
    ">\n",
    "#### BIDS components:\n",
    ">\n",
    "Necessary:\n",
    ">\n",
    "    1. X\n",
    "    2. Y\n",
    "    3. Z\n",
    ">\n",
    "Recommended:\n",
    ">\n",
    "    4. Type\n",
    "    5. Material\n",
    "    6. Impedance\n",
    ">\n",
    "Optional:\n",
    ">\n",
    "    n/a"
   ]
  },
  {
   "cell_type": "markdown",
   "id": "e455eadf",
   "metadata": {},
   "source": [
    "How to..."
   ]
  },
  {
   "cell_type": "code",
   "execution_count": null,
   "id": "1d5d0849",
   "metadata": {},
   "outputs": [],
   "source": [
    "#Electrodes Description editing code"
   ]
  },
  {
   "cell_type": "markdown",
   "id": "0695bc77",
   "metadata": {},
   "source": [
    "----"
   ]
  },
  {
   "cell_type": "markdown",
   "id": "f7b34933",
   "metadata": {},
   "source": [
    "# File 4. Coordinate System\n",
    "This should have a format simlilar to *_coordsystem.json in your 'eeg' subfolder. \n",
    "\n",
    "Once you have located the file, you should open it and look through the components it lists. Below is a list of information BIDS needs/suggests for this file. Take note of which elemets are missing/incorrect.\n",
    "\n",
    "#### BIDS components:\n",
    ">\n",
    "Necessary:\n",
    ">\n",
    "    1. EEG Coordinate System\n",
    "    2. EEG Coordinate Units\n",
    "    3. EEG Coordinate System Description\n",
    "Recommended:\n",
    ">\n",
    "    4. Fiducials Description\n",
    "    5. Fiducials Coordinates\n",
    "    6. Fiducials Coordinate System\n",
    "    7. Fiducials Coordinate Units\n",
    "    8. Fiducials Coordinate System Description\n",
    "    9. Anatomical Landmark Coordinates\n",
    "    10. Anatomical Landmark Coordinate System\n",
    "    11. Anatomical Landmark Coordinate Units\n",
    "    12. Anatomical Landmark Coordinate System Description\n",
    ">\n",
    "Optional:\n",
    ">\n",
    "    13. Intended For"
   ]
  },
  {
   "cell_type": "markdown",
   "id": "4386fe0b",
   "metadata": {},
   "source": [
    "As we did with the sidecar file, the first line of code should be edited to match your file path `Path(r'___Your file path here___')`, and the second line to match your files directory `root = (r'__Your file directory here__')`. Additionally, you must change the `subject=` and `task=` sections of `bids_path1` to match your dataset's file.\n",
    "\n",
    "Once these are redefined, you can update specific aspects of the sidecar by editing the text in quotation marks `\"\"` (after the colon `:`). \n",
    ">\n",
    "- If the element you are editing already exists in the file, changing its associated data with the code below will change information text for that element in the file.\n",
    "- If the element isn't yet present, a new element will be added below with the data you assigned to it.\n",
    "- If you don't intend to include or change an item you can simply delete it from the code. "
   ]
  },
  {
   "cell_type": "code",
   "execution_count": null,
   "id": "f05d3a53",
   "metadata": {},
   "outputs": [],
   "source": [
    "#updating a specific parameter in a JSON [COORDSYSTEM]\n",
    "json_file = Path(r'C:\\N8_internship_code\\bids_example\\sub-001\\eeg\\sub-001_space-CapTrak_coordsystem.json').absolute()\n",
    "# Create BIDSPath using the JSON file's directory as root\n",
    "root = Path(r'C:\\N8_internship_code\\bids_example')\n",
    "\n",
    "\n",
    "bids_path1 = BIDSPath(subject='001', task=None,\n",
    "                     suffix='coordsystem', extension='.json', datatype='eeg',\n",
    "                     root=json_file.parent.parent.parent)\n",
    "\n",
    "bids_path1.update(space='CapTrak')\n",
    "\n",
    "entries = {'EEGCoordinateSystem':\"CapTrak\",\n",
    "           'EEGCoordinateUnits':\"m\",\n",
    "           'EEGCoordinateSystemDescription': \"CapTrak is a 3D digitization system that provides accurate spatial coordinates for EEG electrode placement.\",\n",
    "           'FiducialsDescription': \"Fiducials are anatomical landmarks used to align the EEG cap with the participant's head. The fiducials used in this study were Nasion, Left Preauricular, and Right Preauricular.\",\n",
    "           'FiducialsCoordinates': {\n",
    "                'Nasion': [0.0, 0.0, 0.0],\n",
    "                'Left Preauricular': [-0.1, 0.0, 0.0],\n",
    "                'Right Preauricular': [0.1, 0.0, 0.0]\n",
    "           },\n",
    "           'FiducialsCoordinateSystem': \"CapTrak\",\n",
    "            'FiducialsCoordinateUnits': \"m\",\n",
    "            'FiducialsCoordinateSystemDescription': \"CapTrak fiducials are defined in a 3D coordinate system that aligns with the participant's head.\",\n",
    "            'AnatomicalLandmarkCoordinates': {\n",
    "                'Nasion': [0.0, 0.0, 0.0],\n",
    "                'Left Preauricular': [-0.1, 0.0, 0.0],\n",
    "                'Right Preauricular': [0.1, 0.0, 0.0]\n",
    "            },\n",
    "            'AnatomicalLandmarkCoordinateSystem': \"CapTrak\",\n",
    "            'AnatomicalLandmarkCoordinateUnits': \"m\",\n",
    "            'AnatomicalLandmarkCoordinateSystemDescription': \"CapTrak anatomical landmarks are defined in a 3D coordinate system that aligns with the participant's head.\"\n",
    "            }       \n",
    "update_sidecar_json(bids_path1, entries, verbose=True)\n",
    "\n",
    "#updated in mnebids, can i change it in mne, will mne write the changes\n",
    "#changing smaller sections during mne bids runthrough as opposed to editing\n",
    "#change set key with set value\n",
    "#example, changing single value/ nested dictionary"
   ]
  },
  {
   "cell_type": "markdown",
   "id": "6428e4ea",
   "metadata": {},
   "source": [
    "----"
   ]
  },
  {
   "cell_type": "markdown",
   "id": "5f91b9da",
   "metadata": {},
   "source": [
    "# File 5. Events\n",
    "This file's name should have a format simlilar to *_events.json in your 'eeg' subfolder. \n",
    "\n",
    "Once you have located the file, you should open it and look through the components it lists. Below is a list of information BIDS needs/suggests for this file. Take note of which elemets are missing/incorrect.\n",
    "\n",
    "#### BIDS components:\n",
    ">\n",
    "Necessary:\n",
    ">\n",
    "    1. Onset\n",
    "    2. Duration\n",
    ">\n",
    "Recommended:\n",
    ">\n",
    "    n/a\n",
    ">\n",
    "Optional:\n",
    ">\n",
    "    3. Trial Type\n",
    "    4. Response Time\n",
    "    5. HED\n",
    "    6. Stim file\n",
    "    7. Channel\n",
    ">"
   ]
  },
  {
   "cell_type": "markdown",
   "id": "d3cf72e7",
   "metadata": {},
   "source": [
    "Similarly to the procedure for steps 1 and 4, the first line of code should be edited to match your file path `Path(r'___Your file path here___')`, and the second line to match your files directory `root = (r'__Your file directory here__')`. Additionally, you must change the `subject=` and `task=` sections of `bids_path1` to match your dataset's file.\n",
    "\n",
    "Once these are redefined, you can update specific aspects of the sidecar by editing the text in quotation marks `\"\"` (after the colon `:`). \n",
    ">\n",
    "- If the element you are editing already exists in the file, changing its associated data with the code below will change information text for that element in the file.\n",
    "- If the element isn't yet present, a new element will be added below with the data you assigned to it.\n",
    "- If you don't intend to include or change an item you can simply delete it from the code. \n"
   ]
  },
  {
   "cell_type": "code",
   "execution_count": null,
   "id": "b6196304",
   "metadata": {},
   "outputs": [],
   "source": [
    "#Events editing code\n",
    "#updating a specific parameter in a JSON\n",
    "json_file = Path(r'C:\\N8_internship_code\\bids_example\\sub-001\\eeg\\sub-001_task-rest_events.json').absolute()\n",
    "# Create BIDSPath using the JSON file's directory as root\n",
    "root = (r'C:\\N8_internship_code\\bids_example')\n",
    "\n",
    "\n",
    "bids_path1 = BIDSPath(subject='001', task='rest',\n",
    "                     suffix='events', extension='.json', datatype='eeg',\n",
    "                     root=root)\n",
    "\n",
    "entries = {'Onset':{'Description': \"Onset time of the event in seconds relative to the start of the recording.\", 'Units': \"seconds\"},\n",
    "        'Duration':{'Description': \"Duration of the event in seconds.\", 'Units': \"Seconds\"},\n",
    "        'TrialType':{'LongName':\"Event Category\", \n",
    "                     'Description': \"Indicator of the type of action that is expected.\", \n",
    "                     'Levels': {\n",
    "                        'Start': \"A red square appears on the screen to indicate the start of a trial.\",\n",
    "                        'Stop': \"A green square appears on the screen to indicate the end of a trial\"}\n",
    "                     },\n",
    "        'ResponseTime':{'Description': \"Time taken by the participant to respond to the event in seconds.\", 'Units': \"seconds\"},\n",
    "        'HED': {'musc': \"EMG-artifact\"},\n",
    "        'Stim File': {'Description': \"File containing the stimulus presentation information for the event.\", 'FileType': \"CSV\", 'FilePath': \"sub-001_task-rest_stim.csv\"},\n",
    "        'Channel': {'Description': \"Channel used to record the event.\", 'Type': \"Trigger\"}\n",
    "        }       \n",
    "update_sidecar_json(bids_path1, entries, verbose=True)"
   ]
  },
  {
   "cell_type": "markdown",
   "id": "1e00c67e",
   "metadata": {},
   "source": [
    "----"
   ]
  },
  {
   "cell_type": "markdown",
   "id": "fc08c08a",
   "metadata": {},
   "source": [
    "# File 6. Dataset Description\n",
    "Now we can move on to the more general, yet equally as important information files. \n",
    ">\n",
    "The code below will re-write the dataset description, overwriting any previous dataset description files.\n",
    "This file should describe the dataset in as much detail as possible, so you should attempt to include as much of the data outlined below as possible although BIDS only requires the presence of the 'necessary' information.\n",
    "\n",
    "#### BIDS components:\n",
    ">\n",
    "Necessary:\n",
    ">\n",
    "    1. Study Name\n",
    "    2. BIDS Version \n",
    ">\n",
    "Recommended:\n",
    ">\n",
    "    3. HED Version\n",
    "    4. Dataset Type\n",
    "    5. Data License\n",
    "    6. Authors\n",
    "    7. Generated by\n",
    "        - Name\n",
    "        - Version\n",
    "        - Container\n",
    "        - Type\n",
    "        - Tag\n",
    "    8. Source Datasets\n",
    ">\n",
    "Optional:\n",
    ">\n",
    "    9. Acknowledgements\n",
    "    10. How to acknowledge\n",
    "    11. Funding\n",
    "    12. Ethics Approvals\n",
    "    13. References and Links\n",
    "    14 Doi\n",
    "Note: `BIDS version` will be automatically included in the data file once the code is run.\n"
   ]
  },
  {
   "cell_type": "markdown",
   "id": "5cedf0fd",
   "metadata": {},
   "source": [
    "Once you have decided on the information you wish to include, you can append the code below, changing the information in quotation marks to your dataset's information.\n",
    ">\n",
    "Any that you don't intend on including should be written as `<item>=None`, just as `acknowledgements` is below. This will skip that item, preventing its inclusion in the file. Please not that this code will overwrite any dataset description file previously generated. This can be changed by changing `overwrite=True` to `overwrite=False`. \n",
    ">\n",
    "Note: Doi must be input in the format `doi:<insert_doi>`."
   ]
  },
  {
   "cell_type": "code",
   "execution_count": null,
   "id": "c0769691",
   "metadata": {},
   "outputs": [],
   "source": [
    "#creating a dataset description JSON file (separate to other data entry types) [for people who want a better description of their dataset than previously provided] \n",
    "#{will overwrite any existing dataset_description.json file in the root of the BIDS directory}\n",
    "make_dataset_description(\n",
    "    path=bids_root,\n",
    "    name=\"EEGManyLabs Resting State Study\", \n",
    "    hed_version=\"1\",\n",
    "    dataset_type='raw',\n",
    "    data_license=\"CCO\",\n",
    "    authors=[\"Ariana Williams\", \"Daniel Brady\"],\n",
    "    generated_by=[\n",
    "        {\n",
    "            \"Name\": \"MNE-BIDS\",\n",
    "            \"Version\": \"0.14\",\n",
    "            \"Description\": \"Used to convert MEG data into BIDS format.\"\n",
    "        },\n",
    "        {\n",
    "            \"Name\": \"MNE-Python\",\n",
    "            \"Version\": \"1.6.1\",\n",
    "            \"Description\": \"Used for MEG preprocessing and analysis.\"\n",
    "        }\n",
    "    ],\n",
    "    source_datasets=[\n",
    "        {\n",
    "            \"URL\": \"https://example.com/source_dataset\",\n",
    "            \"DOI\": \"10.1234/example.doi\",\n",
    "        }],\n",
    "    acknowledgements=None,\n",
    "    how_to_acknowledge=\"Cite (Williams et al., 2025) when using this dataset\",\n",
    "    funding=[\"The NHS\", \"The Uk government\"],\n",
    "    ethics_approvals=\"Ethical approval was granted by the University of Leeds School of Psychology Ethics committee (12345 2025)\",\n",
    "    references_and_links=\"https://mne.tools/mne-bids/stable/whats_new_previous_releases.html\",\n",
    "    doi=\"doi:https://doi.org/10.1016/j.tins.2017.02.004\",\n",
    "            overwrite=True,\n",
    "            verbose=True)"
   ]
  },
  {
   "cell_type": "markdown",
   "id": "bb89d296",
   "metadata": {},
   "source": [
    "----"
   ]
  },
  {
   "cell_type": "markdown",
   "id": "48dfeaab",
   "metadata": {},
   "source": [
    "# File 7. Participants.tsv\n",
    "\n",
    ">\n",
    "MNE-BIDS will automatically input the majority of this information\n",
    "\n",
    "#### BIDS Components:\n",
    ">\n",
    "Necessary:\n",
    ">\n",
    "    1. Participant ID \n",
    ">\n",
    "Recommended:\n",
    ">\n",
    "    2. Species\n",
    "    3. Age\n",
    "    4. Sex\n",
    "    5. Handedness\n",
    "    6. Strain\n",
    "    7. Strain RRID\n",
    ">\n",
    "Optional:\n",
    ">\n",
    "    - Additional participant information may be included to further bolster your metadata."
   ]
  },
  {
   "cell_type": "markdown",
   "id": "1ef0e442",
   "metadata": {},
   "source": [
    "how to..."
   ]
  },
  {
   "cell_type": "code",
   "execution_count": null,
   "id": "3821fba4",
   "metadata": {},
   "outputs": [],
   "source": [
    "#CODE for participants.tsv"
   ]
  },
  {
   "cell_type": "markdown",
   "id": "558ed33e",
   "metadata": {},
   "source": [
    "----"
   ]
  },
  {
   "cell_type": "markdown",
   "id": "d61da025",
   "metadata": {},
   "source": [
    "# File 8. Participants.json\n",
    "The participants.json file exists as a counterpart to the participants.tsv file and is used to describe the TSV column names and the properties of their values, making interpretation easier, especially in the case of dataset-specific columns. \n",
    ">\n",
    "MNE-BIDS will automatically input the majority of this information\n",
    "\n",
    "#### BIDS Components:\n",
    ">\n",
    "Necessary:\n",
    ">\n",
    "    1. Participant ID \n",
    ">\n",
    "Recommended:\n",
    ">\n",
    "    2. Species\n",
    "    3. Age\n",
    "    4. Sex\n",
    "    5. Handedness\n",
    "    6. Strain\n",
    "    7. Strain RRID\n",
    ">\n",
    "Optional:\n",
    ">\n",
    "    - Additional participant information may be included to further bolster your metadata."
   ]
  },
  {
   "cell_type": "markdown",
   "id": "83dc4002",
   "metadata": {},
   "source": [
    "The code "
   ]
  },
  {
   "cell_type": "code",
   "execution_count": null,
   "id": "165f78cd",
   "metadata": {},
   "outputs": [],
   "source": [
    "#code for adding information to the participants.json file\n",
    "json_file = Path(r'C:\\N8_internship_code\\bids_example\\participants.json').absolute()\n",
    "# Create BIDSPath using the JSON file's directory as root\n",
    "root = (r'C:\\N8_internship_code\\bids_example')\n",
    "\n",
    "\n",
    "bids_path1 = BIDSPath(subject=None, task=None,\n",
    "                     suffix='participants', extension='.json', datatype=None,\n",
    "                     root=root)\n",
    "\n",
    "entries = {'Particpant ID':{'Description': \"Unique Participant identifier\"}, \n",
    "           'Species': {'Description': \"Species of the participant\"}, \n",
    "           'Age': {'Description': \"Age of the participant at time of testing\", 'Units': \"Years\"}, \n",
    "           'Sex': {'Description': \"Biological sex of the participant\", \n",
    "                   'Levels': {\n",
    "                       \"F\":'Female',\n",
    "                       \"M\":'Male'\n",
    "                   }\n",
    "                },\n",
    "            'Handedness': {'Description': \"Handedness of the participant\",\n",
    "                        'Levels': {\n",
    "                            \"R\": \"Right-handed\",\n",
    "                            \"L\": \"Left-handed\",\n",
    "                            \"A\": \"Ambidextrous\"\n",
    "                        }\n",
    "                },\n",
    "            'Strain': {'Description': \"Strain of the participant, if applicable\"},\n",
    "            'Strain RRID': {'Description': \"Strain RRI ID of the participant, if applicable\"},\n",
    "        }       \n",
    "update_sidecar_json(bids_path1, entries, verbose=True)\n",
    "\n",
    "#explaining how to add values and descriptions fpr extra things added to tsv file\n",
    "#phenotype file"
   ]
  },
  {
   "cell_type": "markdown",
   "id": "de753fcd",
   "metadata": {},
   "source": [
    "----"
   ]
  },
  {
   "cell_type": "markdown",
   "id": "8c3d86f2",
   "metadata": {},
   "source": []
  },
  {
   "cell_type": "markdown",
   "id": "e56eda23",
   "metadata": {},
   "source": []
  },
  {
   "cell_type": "markdown",
   "id": "aee45db5",
   "metadata": {},
   "source": []
  },
  {
   "cell_type": "markdown",
   "id": "5ae3026c",
   "metadata": {},
   "source": [
    "# 6. Adding missing *necessary* information\n",
    "># Information that should be included in the BIDS configuration if you have it"
   ]
  },
  {
   "cell_type": "code",
   "execution_count": null,
   "id": "fc7e60b8",
   "metadata": {},
   "outputs": [],
   "source": [
    "\n",
    "NOTES\n",
    "\n",
    "#mne bids code\n",
    "# Get the electrode coordinates\n",
    "testing_data = mne.datasets.testing.data_path()\n",
    "captrak_path = op.join(testing_data, \"montage\", \"captrak_coords.bvct\")\n",
    "montage = mne.channels.read_dig_captrak(captrak_path)\n",
    "\n",
    "# Rename the montage channel names only for this example, because as said\n",
    "# before, coordinate and EEG data were not actually collected together\n",
    "# Do *not* do this for your own data.\n",
    "montage.rename_channels(dict(zip(montage.ch_names, raw.ch_names)))\n",
    "\n",
    "# \"attach\" the electrode coordinates to the `raw` object\n",
    "# Note that this only works for some channel types (EEG/sEEG/ECoG/DBS/fNIRS)\n",
    "raw.set_montage(montage)\n",
    "\n",
    "# show the electrode positions\n",
    "raw.plot_sensors()"
   ]
  },
  {
   "cell_type": "markdown",
   "id": "a728d6dd",
   "metadata": {},
   "source": [
    "### BIDS-Required information for:\n",
    "- #### Electrons description (tsv):\n",
    "  - X\n",
    "  - Y\n",
    "  - Z\n",
    "   > auto generated, uses default electrode locations, not always correct (heres how to set for a specific type montage- standardised positions (percentage gaps))\n",
    "- #### Channels description (tsv):\n",
    "  - Name\n",
    "  - Type\n",
    "  - Units\n",
    "    auto\n",
    "- #### Events (tsv):\n",
    "  - Onset\n",
    "  - Duration\n",
    "    >events auto, descriptions need to be manually added after (.json) (this is auto generated but blank)\n",
    "- #### Coordinates System (JSON):\n",
    "  - EEG Coordinate System\n",
    "  - EEG Coordinate Units\n",
    "  - EEG Coordinate System Description\n",
    "- #### Sidecar (JSON):\n",
    "  - EEG Reference\n",
    "    - `mne.set_eeg_reference()` // `raw.set_eeg_reference()`\n",
    "    > may/may not be set or may need to be set through software [highlight branching paths]\n",
    "  - Sampling Frequency\n",
    "    >automatically produced during conversion\n",
    "  - Powerline Frequency\n",
    "    >manually needs setting\n",
    "    >##### specify power line frequency as required by BIDS\n",
    "    raw.info[\"line_freq\"] = 60\n",
    "    raw_er.info[\"line_freq\"] = 60\n",
    "\n",
    "  - Software Filters\n",
    "  - Task Name\n",
    "\n",
    "`mne.io.Raw.set_montage()` = electrode locations and head shapes for EEG recordings\n",
    "https://mne.tools/stable/auto_tutorials/io/20_reading_eeg_data.html#sphx-glr-auto-tutorials-io-20-reading-eeg-data-py\n",
    "__Both of these are uncertain, need to check them in an actual coding setting__\n",
    "\n",
    "\n",
    "https://mne.tools/stable/generated/mne.io.Raw.html#mne.io.Raw.set_eeg_reference\n",
    "\n",
    "https://mne.tools/stable/help/migrating.html - some more commands?\n",
    "\n",
    "add to files after, set in code, manual\n",
    "ideally as much as possible will be done in code, but some may need to be done in files manually"
   ]
  },
  {
   "cell_type": "code",
   "execution_count": null,
   "id": "668647b9",
   "metadata": {},
   "outputs": [],
   "source": [
    "\n",
    "NOTES\n",
    "\n",
    "Let’s pause and check that the information that we’ve written out to the sidecar files that describe our data is correct.\n",
    "# Get the sidecar ``.json`` file\n",
    "sidecar_json_bids_path = bids_path.copy().update(suffix=\"meg\", extension=\".json\")\n",
    "sidecar_json_content = sidecar_json_bids_path.fpath.read_text(encoding=\"utf-8-sig\")\n",
    "print(sidecar_json_content)"
   ]
  },
  {
   "cell_type": "markdown",
   "id": "e7cfd456",
   "metadata": {},
   "source": [
    "----"
   ]
  },
  {
   "cell_type": "markdown",
   "id": "2cf612c8",
   "metadata": {},
   "source": [
    "# 7. Adding missing *recommended* information\n",
    ">### Information that isn't required to add, but is often useful to include"
   ]
  },
  {
   "cell_type": "markdown",
   "id": "7d854cd1",
   "metadata": {},
   "source": [
    "### BIDS-recommended information for:\n",
    "- #### Electrons description (tsv):\n",
    "  - __~Type~__\n",
    "  - __~Material~__\n",
    "  - __~Impedance~__\n",
    "_are these still required bits of info?_\n",
    "- #### Sidecar (JSON):\n",
    "  - Cap Manufacturer\n",
    "  - Cap Manufacturer's Model Name\n",
    "  - EEG Channel Count\n",
    "  - ECG Channel Count\n",
    "  - EMG Channel Count\n",
    "  - EOG Channel Count\n",
    "  - MISC Channel Count\n",
    "  - Trigger Channel Count\n",
    "  - Recording Duration\n",
    "  - Recording Type\n",
    "  - __~EpochLength~__\n",
    "  - EEG Ground\n",
    "  - Head Circumference\n",
    "  - EEG Placement Scheme\n",
    "  - Hardware Filters\n",
    "  - Subject Artefact Description\n",
    "  - Task Description\n",
    "  - Instructions\n",
    "  - __~CogAtlasID~__\n",
    "  - __~CogPOID~__\n",
    "  - Institution Name\n",
    "  - Institution Address\n",
    "  - Institutional Department Name\n",
    "\n",
    "can link to mne doc or say cant be added and will be added manually"
   ]
  },
  {
   "cell_type": "markdown",
   "id": "dea777d3",
   "metadata": {},
   "source": [
    "-----"
   ]
  },
  {
   "cell_type": "markdown",
   "id": "1bac02e3",
   "metadata": {},
   "source": [
    "# 8. Adding missing *optional* information \n",
    ">### information that isn't at all necessary to add, but may be useful for your particular dataset"
   ]
  },
  {
   "cell_type": "markdown",
   "id": "db8855e8",
   "metadata": {},
   "source": [
    "### BIDS-Optional information:\n",
    "- #### Electrons description (tsv):\n",
    " ???\n",
    "- #### Channels description (tsv):\n",
    "  - Description\n",
    "  - Sampling Frequency\n",
    "  - Reference\n",
    "  - Low Cutoff\n",
    "  - High Cutoff\n",
    "  - Notch\n",
    "  - Status\n",
    "  - Status Description\n",
    "- #### Events (tsv):\n",
    "  - __~TrialType~__\n",
    "  - __~ResponseTime~__\n",
    "  - __~HED~__\n",
    "  - __~StimFile~__\n",
    "  - __~Channel~__\n",
    "- #### Sidecar (JSON):\n",
    "  - Electrical Stimulation\n",
    "  - Electrical Stimulation Parameters"
   ]
  },
  {
   "cell_type": "markdown",
   "id": "ede764c4",
   "metadata": {},
   "source": [
    "# Citations\n",
    "MNE-BIDS\n",
    "> Appelhoff, S., Sanderson, M., Brooks, T., Vliet, M., Quentin, R., Holdgraf, C., Chaumon, M., Mikulan, E., Tavabi, K., Höchenberger, R., Welke, D., Brunner, C., Rockhill, A., Larson, E., Gramfort, A., & Jas, M. (2019). MNE-BIDS: Organizing electrophysiological data into the BIDS format and facilitating their analysis. Journal of Open Source Software, 4:1896. DOI: 10.21105/joss.01896\n",
    ">\n",
    ">  Pernet, C.R., Appelhoff, S., Gorgolewski, K.J. et al. EEG-BIDS, an extension to the brain imaging data structure for electroencephalography. Sci Data 6, 103 (2019). https://doi.org/10.1038/s41597-019-0104-8\n",
    ">\n",
    "MNE-Python\n",
    "> Alexandre Gramfort, Martin Luessi, Eric Larson, Denis A. Engemann, Daniel Strohmeier, Christian Brodbeck, Roman Goj, Mainak Jas, Teon Brooks, Lauri Parkkonen, and Matti S. Hämäläinen. MEG and EEG data analysis with MNE-Python. Frontiers in Neuroscience, 7(267):1–13, 2013. doi:10.3389/fnins.2013.00267.\n",
    ">\n",
    "BIDS\n",
    "> Gorgolewski, K.J., Auer, T., Calhoun, V.D., Craddock, R.C., Das, S., Duff, E.P., Flandin, G., Ghosh, S.S., Glatard, T., Halchenko, Y.O., Handwerker, D.A., Hanke, M., Keator, D., Li, X., Michael, Z., Maumet, C., Nichols, B.N., Nichols, T.E., Pellman, J., Poline, J.-B., Rokem, A., Schaefer, G., Sochat, V., Triplett, W., Turner, J.A., Varoquaux, G., Poldrack, R.A. (2016). The brain imaging data structure, a format for organizing and describing outputs of neuroimaging experiments. Scientific Data, 3 (160044). doi:10.1038/sdata.2016.44\n",
    ">\n",
    ">  Pernet, C. R., Appelhoff, S., Gorgolewski, K.J., Flandin, G., Phillips, C., Delorme, A., Oostenveld, R. (2019). EEG-BIDS, an extension to the brain imaging data structure for electroencephalography. Scientific data, 6 (103). doi:10.1038/s41597-019-0104-8"
   ]
  },
  {
   "cell_type": "markdown",
   "id": "f4ee5b47",
   "metadata": {},
   "source": [
    "# how you should cite MNE-BIDS (look at their pipeline)"
   ]
  },
  {
   "cell_type": "code",
   "execution_count": null,
   "id": "980bca8f",
   "metadata": {},
   "outputs": [],
   "source": [
    "readme = op.join(bids_root, \"README\")\n",
    "with open(readme, encoding=\"utf-8-sig\") as fid:\n",
    "    text = fid.read()\n",
    "print(text)"
   ]
  }
 ],
 "metadata": {
  "kernelspec": {
   "display_name": "base",
   "language": "python",
   "name": "python3"
  },
  "language_info": {
   "codemirror_mode": {
    "name": "ipython",
    "version": 3
   },
   "file_extension": ".py",
   "mimetype": "text/x-python",
   "name": "python",
   "nbconvert_exporter": "python",
   "pygments_lexer": "ipython3",
   "version": "3.12.7"
  }
 },
 "nbformat": 4,
 "nbformat_minor": 5
}
