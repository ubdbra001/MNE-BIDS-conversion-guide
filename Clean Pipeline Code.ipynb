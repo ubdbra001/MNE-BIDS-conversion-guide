{
 "cells": [
  {
   "cell_type": "code",
   "execution_count": null,
   "id": "e8bc795d",
   "metadata": {},
   "outputs": [],
   "source": [
    "import mne\n",
    "%pip install mne_bids\n",
    "%pip install --upgrade mne_bids\n",
    "\n",
    "from mne_bids import BIDSPath, print_dir_tree, write_raw_bids, make_dataset_description, update_sidecar_json"
   ]
  },
  {
   "cell_type": "code",
   "execution_count": null,
   "id": "ba2676a4",
   "metadata": {},
   "outputs": [],
   "source": [
    "#Allows us to work with file paths\n",
    "import os.path as op\n",
    "#Makes file path handling simpler\n",
    "from pathlib import Path"
   ]
  },
  {
   "cell_type": "code",
   "execution_count": null,
   "id": "abb7f985",
   "metadata": {},
   "outputs": [],
   "source": [
    "#Change the file path to your data's location\n",
    "data_dir = Path(r\"C:\\N8_internship_code\\second_tester_data\\source_data\")\n",
    "print_dir_tree(data_dir, max_depth=1)"
   ]
  },
  {
   "cell_type": "code",
   "execution_count": null,
   "id": "7ba1a7ad",
   "metadata": {},
   "outputs": [],
   "source": [
    "children = [child for child in data_dir.iterdir()]\n",
    "children"
   ]
  },
  {
   "cell_type": "code",
   "execution_count": null,
   "id": "f84eed44",
   "metadata": {},
   "outputs": [],
   "source": [
    "#Change this to match the file number\n",
    "dir_number = 0\n",
    "files = [file for file in children[dir_number].iterdir()]"
   ]
  },
  {
   "cell_type": "code",
   "execution_count": null,
   "id": "68c823cb",
   "metadata": {},
   "outputs": [
    {
     "ename": "NameError",
     "evalue": "name 'files' is not defined",
     "output_type": "error",
     "traceback": [
      "\u001b[1;31m---------------------------------------------------------------------------\u001b[0m",
      "\u001b[1;31mNameError\u001b[0m                                 Traceback (most recent call last)",
      "Cell \u001b[1;32mIn[1], line 1\u001b[0m\n\u001b[1;32m----> 1\u001b[0m file_path \u001b[38;5;241m=\u001b[39m \u001b[43mfiles\u001b[49m[\u001b[38;5;241m1\u001b[39m]\n\u001b[0;32m      2\u001b[0m file_path\n",
      "\u001b[1;31mNameError\u001b[0m: name 'files' is not defined"
     ]
    }
   ],
   "source": [
    "file_path = files[0]\n",
    "file_path"
   ]
  },
  {
   "cell_type": "code",
   "execution_count": null,
   "id": "0cdcecd4",
   "metadata": {},
   "outputs": [],
   "source": [
    "data = mne.io.read_raw_eeglab(file_path)"
   ]
  },
  {
   "cell_type": "code",
   "execution_count": null,
   "id": "601ac592",
   "metadata": {},
   "outputs": [],
   "source": [
    "data"
   ]
  },
  {
   "cell_type": "code",
   "execution_count": null,
   "id": "4386559f",
   "metadata": {},
   "outputs": [],
   "source": [
    "from datetime import datetime, timezone\n",
    "from dateutil.relativedelta import relativedelta\n",
    "from mne.transforms import Transform\n",
    "\n",
    "data.info[\"device_info\"] = {\n",
    "    \"type\": \"Emotiv Epoc X\",\n",
    "    \"model\": \"12-channel EEG\",\n",
    "    \"serial\": 33456423,\n",
    "    \"site\": \"yes\"\n",
    "    }\n",
    "\n",
    "\n",
    "\n",
    "# Generates the (approx) birthdate of the participant based on the measurement date and age\n",
    "data.set_meas_date(datetime(2015, 6, 7, tzinfo= timezone.utc))\n",
    "recording_date = data.info[\"meas_date\"]\n",
    "Birthdate = recording_date - relativedelta(years=30)\n",
    "\n",
    "\n",
    "data.info[\"subject_info\"] = {\n",
    "    \"id\": 1,\n",
    "    \"his_id\": \"sub-001\",\n",
    "    \"last_name\": \"Doe\",\n",
    "    \"first_name\": \"John\",\n",
    "    \"middle_name\": \"A\",\n",
    "    \"birthday\": Birthdate,\n",
    "    \"sex\": 2,\n",
    "    \"hand\": 1,\n",
    "    \"weight\": 70.0,\n",
    "    \"height\": 175.0,\n",
    "}\n",
    "\n",
    "data.info[\"line_freq\"] = 50\n",
    "\n",
    "data.info[\"bads\"] = [\"C3\", \"F3\" ]\n",
    "\n",
    "data.info[\"description\"] = \"a resting state dataset\"\n",
    "\n",
    "data.info[\"dev_head_t\"] = Transform(\"meg\", \"head\")\n",
    "\n",
    "data.info[\"experimenter\"] = \"John Doe\"\n",
    "\n",
    "data.info[\"helium_info\"] = {\n",
    "    \"he_level_raw\": 20,\n",
    "    \"helium_level\": 12,\n",
    "    \"orig_file_guid\": \"1234567890abcdef\",\n",
    "    \"meas_date\": (datetime(2015, 6, 7, tzinfo= timezone.utc))\n",
    "    }\n"
   ]
  },
  {
   "cell_type": "code",
   "execution_count": null,
   "id": "07b85174",
   "metadata": {},
   "outputs": [],
   "source": [
    "data"
   ]
  },
  {
   "cell_type": "code",
   "execution_count": null,
   "id": "670d2695",
   "metadata": {},
   "outputs": [],
   "source": [
    "bids_root = op.join(data_dir.parent, \"bids_example\")\n",
    "bids_root"
   ]
  },
  {
   "cell_type": "code",
   "execution_count": null,
   "id": "5708f1a4",
   "metadata": {},
   "outputs": [],
   "source": [
    "mne.channels.get_builtin_montages()"
   ]
  },
  {
   "cell_type": "code",
   "execution_count": null,
   "id": "99cd42ce",
   "metadata": {},
   "outputs": [],
   "source": [
    "builtin_montages = mne.channels.get_builtin_montages(descriptions=True)\n",
    "for montage_name, montage_description in builtin_montages:\n",
    "    print(f\"{montage_name}: {montage_description}\")"
   ]
  },
  {
   "cell_type": "code",
   "execution_count": null,
   "id": "d8095c40",
   "metadata": {},
   "outputs": [],
   "source": [
    "import mne\n",
    "\n",
    "my_montage = mne.channels.make_standard_montage(\"biosemi64\")\n",
    "\n",
    "# Printing montage information\n",
    "print(my_montage)\n",
    "\n",
    "# Viualising montage in 2D\n",
    "my_montage.plot()\n",
    "\n",
    "# Visualising montage in 3D\n",
    "fig = my_montage.plot(kind=\"3d\", show=False)  # 3D\n",
    "fig = fig.gca().view_init(azim=70, elev=15)  # set view angle"
   ]
  },
  {
   "cell_type": "code",
   "execution_count": null,
   "id": "56dae772",
   "metadata": {},
   "outputs": [],
   "source": [
    "data.set_montage(my_montage, match_case=True, match_alias=False, on_missing='ignore', verbose=None)"
   ]
  },
  {
   "cell_type": "code",
   "execution_count": null,
   "id": "1b5b0a20",
   "metadata": {},
   "outputs": [],
   "source": [
    "#Edit this information ot match your data\n",
    "subject_id = \"001\"\n",
    "task = \"rest\"\n",
    "\n",
    "bids_path = BIDSPath(subject=subject_id, task=task, root=bids_root)\n",
    "write_raw_bids(data, bids_path, overwrite=True, allow_preload=True, format=\"EEGLAB\")"
   ]
  },
  {
   "cell_type": "code",
   "execution_count": null,
   "id": "2a32fda6",
   "metadata": {},
   "outputs": [],
   "source": [
    "#Edit this information ot match your data\n",
    "subject_id = \"001\"\n",
    "task = \"rest\"\n",
    "\n",
    "bids_path = BIDSPath(subject=subject_id, task=task, root=bids_root)\n",
    "write_raw_bids(data, bids_path, overwrite=True, allow_preload=True, format=\"EEGLAB\")"
   ]
  },
  {
   "cell_type": "code",
   "execution_count": null,
   "id": "86d706db",
   "metadata": {},
   "outputs": [],
   "source": [
    "#creating a dataset description JSON file (separate to other data entry types) [for people who want a better description of their dataset than previously provided] \n",
    "# #{will overwrite any existing dataset_description.json file in the root of the BIDS directory}\n",
    "make_dataset_description(\n",
    "    path=bids_root,\n",
    "    name=\"EEGManyLabs Resting State Study\", \n",
    "    hed_version=\"1\",\n",
    "    dataset_type='raw',\n",
    "    data_license=\"CCO\",\n",
    "    authors=[\"Ariana Williams\", \"Daniel Brady\"],\n",
    "    acknowledgements=None,\n",
    "    how_to_acknowledge=\"Cite (Williams et al., 2025) when using this dataset\",\n",
    "    funding=[\"The NHS\", \"The Uk government\"],\n",
    "    ethics_approvals=\"Ethical approval was granted by the University of Leeds School of Psychology Ethics committee (12345 2025)\",\n",
    "    references_and_links=\"https://mne.tools/mne-bids/stable/whats_new_previous_releases.html\",\n",
    "    doi=\"doi:https://doi.org/10.1016/j.tins.2017.02.004\",\n",
    "    generated_by=[\n",
    "        {\n",
    "            \"Name\": \"MNE-BIDS\",\n",
    "            \"Version\": \"0.14\",\n",
    "            \"Description\": \"Used to convert MEG data into BIDS format.\"\n",
    "        },\n",
    "        {\n",
    "            \"Name\": \"MNE-Python\",\n",
    "            \"Version\": \"1.6.1\",\n",
    "            \"Description\": \"Used for MEG preprocessing and analysis.\"\n",
    "        }\n",
    "    ],\n",
    "    source_datasets=[\n",
    "        {\n",
    "            \"URL\": \"https://example.com/source_dataset\",\n",
    "            \"DOI\": \"10.1234/example.doi\",\n",
    "        }],\n",
    "            overwrite=True,\n",
    "            verbose=True)"
   ]
  },
  {
   "cell_type": "markdown",
   "id": "24ae0c59",
   "metadata": {},
   "source": [
    "----"
   ]
  },
  {
   "cell_type": "markdown",
   "id": "e32208f9",
   "metadata": {},
   "source": [
    "# SEPARATE"
   ]
  },
  {
   "cell_type": "markdown",
   "id": "aa03c02f",
   "metadata": {},
   "source": [
    "### iterating code\n",
    "removed all visualisations, should be able to be run in one go"
   ]
  },
  {
   "cell_type": "markdown",
   "id": "df12b6d6",
   "metadata": {},
   "source": [
    "The following block of code is intended to be run in one go. It uses the same code as explained earlier in the pipeline, but has no visualisations and has some added code to allow it to format all of your participant data into BIDS formatting automatically, with minimal input.\n",
    "\n",
    "You should edit:\n",
    "- The file path for the 'data_dir' variable -> the file path for the folder containing your entire dataset (in single quotation marks)\n",
    "- The file path in the df variable -> the file path for your excel spreadsheet (in single quotation marks)\n",
    "- The inputs for each of the 'raw.info' items (excluding subject_info) -> by editing the second set of double quotation marks or swapping out the integer (either after the colon or equals symbol)"
   ]
  },
  {
   "cell_type": "markdown",
   "id": "d5b729fe",
   "metadata": {},
   "source": [
    "Due to the differences in inputs for the 'subject_info' entry between participants, in order to automatically input the data, we must use a different method. This entails a spreadsheet, in which you must input entries for all of the subject_info variables (in columns) for every participant (one per row) in order (starting with the lowest participant id). The process also requires a 'for' loop, which will input (preset or spreadsheet) information to the 'info' variable and create a BIDS formatted dataset for each participant's files.\n",
    "\n",
    "The required variables are:\n",
    "- his_id - The string subject identifier\n",
    "- last_name - The participant's last name\n",
    "- first_name - The participant's first name\n",
    "- middle_name - The participants middle name\n",
    "- birthday - The participant's birthday (YYYY/M/D)\n",
    "- sex - The biological sex of the participant (0 = unknown, 1 = male, 2 = female)\n",
    "- hand - Whether the participant is right handed (1), left handed (2) or ambidextrous (3)\n",
    "- weight - Weight in kilograms\n",
    "- height - Height in meters\n",
    "\n",
    "A sample version of an excel sheet formatted this way can be downloaded [here]. \n",
    "\n",
    "this should be done for each of the tasks present (e.g. one run through for 'rest' and one for 'video')"
   ]
  },
  {
   "cell_type": "markdown",
   "id": "5ac4216a",
   "metadata": {},
   "source": [
    "most of these columns will map directly onto the inputs for subject_info, however, we have chosen to collect 'age' instead of 'birthday', as it is more commonly generated, and requires an additional section of code to transform it into 'birthday', the accepted format for this 'info' section. If your datasets use 'birthday' instead of 'age', you must simply change the column name, along with the in-code input (in single quotation marks) for the age variable. You may also change the variable name but this is not necessary; the variable name must also be changed in the input section for the 'subject_info' variable, \"birthday\".\n",
    "\n",
    "\n",
    "any variables that you have no information for can be labelled n/a (not really true)"
   ]
  },
  {
   "cell_type": "code",
   "execution_count": null,
   "id": "44b10f06",
   "metadata": {},
   "outputs": [
    {
     "name": "stdout",
     "output_type": "stream",
     "text": [
      "Requirement already satisfied: mne_bids in c:\\users\\ariana\\lib\\site-packages (0.16.0)\n",
      "Requirement already satisfied: mne>=1.7 in c:\\users\\ariana\\lib\\site-packages (from mne_bids) (1.9.0)\n",
      "Requirement already satisfied: numpy>=1.21.2 in c:\\users\\ariana\\lib\\site-packages (from mne_bids) (1.26.4)\n",
      "Requirement already satisfied: scipy>=1.7.1 in c:\\users\\ariana\\lib\\site-packages (from mne_bids) (1.14.1)\n",
      "Requirement already satisfied: decorator in c:\\users\\ariana\\lib\\site-packages (from mne>=1.7->mne_bids) (5.1.1)\n",
      "Requirement already satisfied: jinja2 in c:\\users\\ariana\\lib\\site-packages (from mne>=1.7->mne_bids) (3.1.4)\n",
      "Requirement already satisfied: lazy-loader>=0.3 in c:\\users\\ariana\\lib\\site-packages (from mne>=1.7->mne_bids) (0.4)\n",
      "Requirement already satisfied: matplotlib>=3.6 in c:\\users\\ariana\\lib\\site-packages (from mne>=1.7->mne_bids) (3.10.0)\n",
      "Requirement already satisfied: packaging in c:\\users\\ariana\\lib\\site-packages (from mne>=1.7->mne_bids) (24.2)\n",
      "Requirement already satisfied: pooch>=1.5 in c:\\users\\ariana\\lib\\site-packages (from mne>=1.7->mne_bids) (1.8.2)\n",
      "Requirement already satisfied: tqdm in c:\\users\\ariana\\lib\\site-packages (from mne>=1.7->mne_bids) (4.67.1)\n",
      "Requirement already satisfied: contourpy>=1.0.1 in c:\\users\\ariana\\lib\\site-packages (from matplotlib>=3.6->mne>=1.7->mne_bids) (1.3.1)\n",
      "Requirement already satisfied: cycler>=0.10 in c:\\users\\ariana\\lib\\site-packages (from matplotlib>=3.6->mne>=1.7->mne_bids) (0.12.1)\n",
      "Requirement already satisfied: fonttools>=4.22.0 in c:\\users\\ariana\\lib\\site-packages (from matplotlib>=3.6->mne>=1.7->mne_bids) (4.55.3)\n",
      "Requirement already satisfied: kiwisolver>=1.3.1 in c:\\users\\ariana\\lib\\site-packages (from matplotlib>=3.6->mne>=1.7->mne_bids) (1.4.7)\n",
      "Requirement already satisfied: pillow>=8 in c:\\users\\ariana\\lib\\site-packages (from matplotlib>=3.6->mne>=1.7->mne_bids) (11.0.0)\n",
      "Requirement already satisfied: pyparsing>=2.3.1 in c:\\users\\ariana\\lib\\site-packages (from matplotlib>=3.6->mne>=1.7->mne_bids) (3.2.0)\n",
      "Requirement already satisfied: python-dateutil>=2.7 in c:\\users\\ariana\\lib\\site-packages (from matplotlib>=3.6->mne>=1.7->mne_bids) (2.9.0.post0)\n",
      "Requirement already satisfied: platformdirs>=2.5.0 in c:\\users\\ariana\\lib\\site-packages (from pooch>=1.5->mne>=1.7->mne_bids) (4.3.6)\n",
      "Requirement already satisfied: requests>=2.19.0 in c:\\users\\ariana\\lib\\site-packages (from pooch>=1.5->mne>=1.7->mne_bids) (2.32.3)\n",
      "Requirement already satisfied: MarkupSafe>=2.0 in c:\\users\\ariana\\lib\\site-packages (from jinja2->mne>=1.7->mne_bids) (3.0.2)\n",
      "Requirement already satisfied: colorama in c:\\users\\ariana\\lib\\site-packages (from tqdm->mne>=1.7->mne_bids) (0.4.6)\n",
      "Requirement already satisfied: six>=1.5 in c:\\users\\ariana\\lib\\site-packages (from python-dateutil>=2.7->matplotlib>=3.6->mne>=1.7->mne_bids) (1.17.0)\n",
      "Requirement already satisfied: charset_normalizer<4,>=2 in c:\\users\\ariana\\lib\\site-packages (from requests>=2.19.0->pooch>=1.5->mne>=1.7->mne_bids) (3.4.0)\n",
      "Requirement already satisfied: idna<4,>=2.5 in c:\\users\\ariana\\lib\\site-packages (from requests>=2.19.0->pooch>=1.5->mne>=1.7->mne_bids) (3.10)\n",
      "Requirement already satisfied: urllib3<3,>=1.21.1 in c:\\users\\ariana\\lib\\site-packages (from requests>=2.19.0->pooch>=1.5->mne>=1.7->mne_bids) (2.2.3)\n",
      "Requirement already satisfied: certifi>=2017.4.17 in c:\\users\\ariana\\lib\\site-packages (from requests>=2.19.0->pooch>=1.5->mne>=1.7->mne_bids) (2024.12.14)\n",
      "Note: you may need to restart the kernel to use updated packages.\n",
      "Requirement already satisfied: mne_bids in c:\\users\\ariana\\lib\\site-packages (0.16.0)\n",
      "Requirement already satisfied: mne>=1.7 in c:\\users\\ariana\\lib\\site-packages (from mne_bids) (1.9.0)\n",
      "Requirement already satisfied: numpy>=1.21.2 in c:\\users\\ariana\\lib\\site-packages (from mne_bids) (1.26.4)\n",
      "Requirement already satisfied: scipy>=1.7.1 in c:\\users\\ariana\\lib\\site-packages (from mne_bids) (1.14.1)\n",
      "Requirement already satisfied: decorator in c:\\users\\ariana\\lib\\site-packages (from mne>=1.7->mne_bids) (5.1.1)\n",
      "Requirement already satisfied: jinja2 in c:\\users\\ariana\\lib\\site-packages (from mne>=1.7->mne_bids) (3.1.4)\n",
      "Requirement already satisfied: lazy-loader>=0.3 in c:\\users\\ariana\\lib\\site-packages (from mne>=1.7->mne_bids) (0.4)\n",
      "Requirement already satisfied: matplotlib>=3.6 in c:\\users\\ariana\\lib\\site-packages (from mne>=1.7->mne_bids) (3.10.0)\n",
      "Requirement already satisfied: packaging in c:\\users\\ariana\\lib\\site-packages (from mne>=1.7->mne_bids) (24.2)\n",
      "Requirement already satisfied: pooch>=1.5 in c:\\users\\ariana\\lib\\site-packages (from mne>=1.7->mne_bids) (1.8.2)\n",
      "Requirement already satisfied: tqdm in c:\\users\\ariana\\lib\\site-packages (from mne>=1.7->mne_bids) (4.67.1)\n",
      "Requirement already satisfied: contourpy>=1.0.1 in c:\\users\\ariana\\lib\\site-packages (from matplotlib>=3.6->mne>=1.7->mne_bids) (1.3.1)\n",
      "Requirement already satisfied: cycler>=0.10 in c:\\users\\ariana\\lib\\site-packages (from matplotlib>=3.6->mne>=1.7->mne_bids) (0.12.1)\n",
      "Requirement already satisfied: fonttools>=4.22.0 in c:\\users\\ariana\\lib\\site-packages (from matplotlib>=3.6->mne>=1.7->mne_bids) (4.55.3)\n",
      "Requirement already satisfied: kiwisolver>=1.3.1 in c:\\users\\ariana\\lib\\site-packages (from matplotlib>=3.6->mne>=1.7->mne_bids) (1.4.7)\n",
      "Requirement already satisfied: pillow>=8 in c:\\users\\ariana\\lib\\site-packages (from matplotlib>=3.6->mne>=1.7->mne_bids) (11.0.0)\n",
      "Requirement already satisfied: pyparsing>=2.3.1 in c:\\users\\ariana\\lib\\site-packages (from matplotlib>=3.6->mne>=1.7->mne_bids) (3.2.0)\n",
      "Requirement already satisfied: python-dateutil>=2.7 in c:\\users\\ariana\\lib\\site-packages (from matplotlib>=3.6->mne>=1.7->mne_bids) (2.9.0.post0)\n",
      "Requirement already satisfied: platformdirs>=2.5.0 in c:\\users\\ariana\\lib\\site-packages (from pooch>=1.5->mne>=1.7->mne_bids) (4.3.6)\n",
      "Requirement already satisfied: requests>=2.19.0 in c:\\users\\ariana\\lib\\site-packages (from pooch>=1.5->mne>=1.7->mne_bids) (2.32.3)\n",
      "Requirement already satisfied: MarkupSafe>=2.0 in c:\\users\\ariana\\lib\\site-packages (from jinja2->mne>=1.7->mne_bids) (3.0.2)\n",
      "Requirement already satisfied: colorama in c:\\users\\ariana\\lib\\site-packages (from tqdm->mne>=1.7->mne_bids) (0.4.6)\n",
      "Requirement already satisfied: six>=1.5 in c:\\users\\ariana\\lib\\site-packages (from python-dateutil>=2.7->matplotlib>=3.6->mne>=1.7->mne_bids) (1.17.0)\n",
      "Requirement already satisfied: charset_normalizer<4,>=2 in c:\\users\\ariana\\lib\\site-packages (from requests>=2.19.0->pooch>=1.5->mne>=1.7->mne_bids) (3.4.0)\n",
      "Requirement already satisfied: idna<4,>=2.5 in c:\\users\\ariana\\lib\\site-packages (from requests>=2.19.0->pooch>=1.5->mne>=1.7->mne_bids) (3.10)\n",
      "Requirement already satisfied: urllib3<3,>=1.21.1 in c:\\users\\ariana\\lib\\site-packages (from requests>=2.19.0->pooch>=1.5->mne>=1.7->mne_bids) (2.2.3)\n",
      "Requirement already satisfied: certifi>=2017.4.17 in c:\\users\\ariana\\lib\\site-packages (from requests>=2.19.0->pooch>=1.5->mne>=1.7->mne_bids) (2024.12.14)\n",
      "Note: you may need to restart the kernel to use updated packages.\n",
      "Extracting EDF parameters from c:\\N8_internship_code\\Motor_Imaging_Dataset\\S001\\S001R01.edf...\n",
      "EDF file detected\n",
      "Setting channel info structure...\n",
      "Creating raw.info structure...\n",
      "Writing 'c:\\N8_internship_code\\iterate_test\\participants.tsv'...\n",
      "Writing 'c:\\N8_internship_code\\iterate_test\\participants.json'...\n",
      "The provided raw data contains annotations, but you did not pass an \"event_id\" mapping from annotation descriptions to event codes. We will generate arbitrary event codes. To specify custom event codes, please pass \"event_id\".\n",
      "Used Annotations descriptions: ['T0']\n",
      "Writing 'c:\\N8_internship_code\\iterate_test\\sub-S001\\eeg\\sub-S001_task-task1_events.tsv'...\n",
      "Writing 'c:\\N8_internship_code\\iterate_test\\sub-S001\\eeg\\sub-S001_task-task1_events.json'...\n",
      "Writing 'c:\\N8_internship_code\\iterate_test\\dataset_description.json'...\n",
      "Writing 'c:\\N8_internship_code\\iterate_test\\sub-S001\\eeg\\sub-S001_task-task1_eeg.json'...\n",
      "Writing 'c:\\N8_internship_code\\iterate_test\\sub-S001\\eeg\\sub-S001_task-task1_channels.tsv'...\n",
      "Copying data files to sub-S001_task-task1_eeg.edf\n",
      "Reading 0 ... 9759  =      0.000 ...    60.994 secs...\n",
      "Writing 'c:\\N8_internship_code\\iterate_test\\sub-S001\\sub-S001_scans.tsv'...\n",
      "Wrote c:\\N8_internship_code\\iterate_test\\sub-S001\\sub-S001_scans.tsv entry with eeg\\sub-S001_task-task1_eeg.edf.\n",
      "Writing 'c:\\N8_internship_code\\iterate_test\\participants.tsv'...\n",
      "Writing 'c:\\N8_internship_code\\iterate_test\\participants.json'...\n",
      "The provided raw data contains annotations, but you did not pass an \"event_id\" mapping from annotation descriptions to event codes. We will generate arbitrary event codes. To specify custom event codes, please pass \"event_id\".\n",
      "Used Annotations descriptions: ['T0']\n",
      "Writing 'c:\\N8_internship_code\\iterate_test\\sub-S002\\eeg\\sub-S002_task-task1_events.tsv'...\n",
      "Writing 'c:\\N8_internship_code\\iterate_test\\sub-S002\\eeg\\sub-S002_task-task1_events.json'...\n",
      "Writing 'c:\\N8_internship_code\\iterate_test\\dataset_description.json'...\n",
      "Writing 'c:\\N8_internship_code\\iterate_test\\sub-S002\\eeg\\sub-S002_task-task1_eeg.json'...\n",
      "Writing 'c:\\N8_internship_code\\iterate_test\\sub-S002\\eeg\\sub-S002_task-task1_channels.tsv'...\n",
      "Copying data files to sub-S002_task-task1_eeg.edf\n",
      "Reading 0 ... 9759  =      0.000 ...    60.994 secs...\n",
      "Writing 'c:\\N8_internship_code\\iterate_test\\sub-S002\\sub-S002_scans.tsv'...\n",
      "Wrote c:\\N8_internship_code\\iterate_test\\sub-S002\\sub-S002_scans.tsv entry with eeg\\sub-S002_task-task1_eeg.edf.\n",
      "Writing 'c:\\N8_internship_code\\iterate_test\\participants.tsv'...\n",
      "Writing 'c:\\N8_internship_code\\iterate_test\\participants.json'...\n",
      "The provided raw data contains annotations, but you did not pass an \"event_id\" mapping from annotation descriptions to event codes. We will generate arbitrary event codes. To specify custom event codes, please pass \"event_id\".\n",
      "Used Annotations descriptions: ['T0']\n",
      "Writing 'c:\\N8_internship_code\\iterate_test\\sub-S003\\eeg\\sub-S003_task-task1_events.tsv'...\n",
      "Writing 'c:\\N8_internship_code\\iterate_test\\sub-S003\\eeg\\sub-S003_task-task1_events.json'...\n",
      "Writing 'c:\\N8_internship_code\\iterate_test\\dataset_description.json'...\n",
      "Writing 'c:\\N8_internship_code\\iterate_test\\sub-S003\\eeg\\sub-S003_task-task1_eeg.json'...\n",
      "Writing 'c:\\N8_internship_code\\iterate_test\\sub-S003\\eeg\\sub-S003_task-task1_channels.tsv'...\n",
      "Copying data files to sub-S003_task-task1_eeg.edf\n",
      "Reading 0 ... 9759  =      0.000 ...    60.994 secs...\n",
      "Writing 'c:\\N8_internship_code\\iterate_test\\sub-S003\\sub-S003_scans.tsv'...\n",
      "Wrote c:\\N8_internship_code\\iterate_test\\sub-S003\\sub-S003_scans.tsv entry with eeg\\sub-S003_task-task1_eeg.edf.\n",
      "Writing 'c:\\N8_internship_code\\iterate_test\\participants.tsv'...\n",
      "Writing 'c:\\N8_internship_code\\iterate_test\\participants.json'...\n",
      "The provided raw data contains annotations, but you did not pass an \"event_id\" mapping from annotation descriptions to event codes. We will generate arbitrary event codes. To specify custom event codes, please pass \"event_id\".\n",
      "Used Annotations descriptions: ['T0']\n",
      "Writing 'c:\\N8_internship_code\\iterate_test\\sub-S004\\eeg\\sub-S004_task-task1_events.tsv'...\n",
      "Writing 'c:\\N8_internship_code\\iterate_test\\sub-S004\\eeg\\sub-S004_task-task1_events.json'...\n",
      "Writing 'c:\\N8_internship_code\\iterate_test\\dataset_description.json'...\n",
      "Writing 'c:\\N8_internship_code\\iterate_test\\sub-S004\\eeg\\sub-S004_task-task1_eeg.json'...\n",
      "Writing 'c:\\N8_internship_code\\iterate_test\\sub-S004\\eeg\\sub-S004_task-task1_channels.tsv'...\n",
      "Copying data files to sub-S004_task-task1_eeg.edf\n",
      "Reading 0 ... 9759  =      0.000 ...    60.994 secs...\n",
      "Writing 'c:\\N8_internship_code\\iterate_test\\sub-S004\\sub-S004_scans.tsv'...\n",
      "Wrote c:\\N8_internship_code\\iterate_test\\sub-S004\\sub-S004_scans.tsv entry with eeg\\sub-S004_task-task1_eeg.edf.\n",
      "Writing 'c:\\N8_internship_code\\iterate_test\\participants.tsv'...\n",
      "Writing 'c:\\N8_internship_code\\iterate_test\\participants.json'...\n",
      "The provided raw data contains annotations, but you did not pass an \"event_id\" mapping from annotation descriptions to event codes. We will generate arbitrary event codes. To specify custom event codes, please pass \"event_id\".\n",
      "Used Annotations descriptions: ['T0']\n",
      "Writing 'c:\\N8_internship_code\\iterate_test\\sub-S005\\eeg\\sub-S005_task-task1_events.tsv'...\n",
      "Writing 'c:\\N8_internship_code\\iterate_test\\sub-S005\\eeg\\sub-S005_task-task1_events.json'...\n",
      "Writing 'c:\\N8_internship_code\\iterate_test\\dataset_description.json'...\n",
      "Writing 'c:\\N8_internship_code\\iterate_test\\sub-S005\\eeg\\sub-S005_task-task1_eeg.json'...\n",
      "Writing 'c:\\N8_internship_code\\iterate_test\\sub-S005\\eeg\\sub-S005_task-task1_channels.tsv'...\n",
      "Copying data files to sub-S005_task-task1_eeg.edf\n",
      "Reading 0 ... 9759  =      0.000 ...    60.994 secs...\n",
      "Writing 'c:\\N8_internship_code\\iterate_test\\sub-S005\\sub-S005_scans.tsv'...\n",
      "Wrote c:\\N8_internship_code\\iterate_test\\sub-S005\\sub-S005_scans.tsv entry with eeg\\sub-S005_task-task1_eeg.edf.\n"
     ]
    },
    {
     "name": "stderr",
     "output_type": "stream",
     "text": [
      "C:\\Users\\Ariana Williams\\AppData\\Local\\Temp\\ipykernel_7952\\1402385674.py:100: RuntimeWarning: Converting data files to EDF format\n",
      "  write_raw_bids(raw, bids_path, overwrite=True, allow_preload=True, format=\"EDF\")\n",
      "C:\\Users\\Ariana Williams\\AppData\\Local\\Temp\\ipykernel_7952\\1402385674.py:100: RuntimeWarning: Converting data files to EDF format\n",
      "  write_raw_bids(raw, bids_path, overwrite=True, allow_preload=True, format=\"EDF\")\n",
      "C:\\Users\\Ariana Williams\\AppData\\Local\\Temp\\ipykernel_7952\\1402385674.py:100: RuntimeWarning: Converting data files to EDF format\n",
      "  write_raw_bids(raw, bids_path, overwrite=True, allow_preload=True, format=\"EDF\")\n",
      "C:\\Users\\Ariana Williams\\AppData\\Local\\Temp\\ipykernel_7952\\1402385674.py:100: RuntimeWarning: Converting data files to EDF format\n",
      "  write_raw_bids(raw, bids_path, overwrite=True, allow_preload=True, format=\"EDF\")\n",
      "C:\\Users\\Ariana Williams\\AppData\\Local\\Temp\\ipykernel_7952\\1402385674.py:100: RuntimeWarning: Converting data files to EDF format\n",
      "  write_raw_bids(raw, bids_path, overwrite=True, allow_preload=True, format=\"EDF\")\n"
     ]
    },
    {
     "ename": "TypeError",
     "evalue": "subject_info[\"last_name\"] must be an instance of str, got <class 'float'> instead.",
     "output_type": "error",
     "traceback": [
      "\u001b[1;31m---------------------------------------------------------------------------\u001b[0m",
      "\u001b[1;31mTypeError\u001b[0m                                 Traceback (most recent call last)",
      "Cell \u001b[1;32mIn[7], line 58\u001b[0m\n\u001b[0;32m     55\u001b[0m birthdate \u001b[38;5;241m=\u001b[39m recording_date \u001b[38;5;241m-\u001b[39m relativedelta(years\u001b[38;5;241m=\u001b[39myears)\n\u001b[0;32m     57\u001b[0m \u001b[38;5;66;03m# Setting the participant's metadata using the excel sheet (different for every participant)\u001b[39;00m\n\u001b[1;32m---> 58\u001b[0m \u001b[43mraw\u001b[49m\u001b[38;5;241;43m.\u001b[39;49m\u001b[43minfo\u001b[49m\u001b[43m[\u001b[49m\u001b[38;5;124;43m\"\u001b[39;49m\u001b[38;5;124;43msubject_info\u001b[39;49m\u001b[38;5;124;43m\"\u001b[39;49m\u001b[43m]\u001b[49m \u001b[38;5;241m=\u001b[39m {\n\u001b[0;32m     59\u001b[0m     \u001b[38;5;124m\"\u001b[39m\u001b[38;5;124mid\u001b[39m\u001b[38;5;124m\"\u001b[39m: index,\n\u001b[0;32m     60\u001b[0m     \u001b[38;5;124m\"\u001b[39m\u001b[38;5;124mhis_id\u001b[39m\u001b[38;5;124m\"\u001b[39m: \u001b[38;5;28mstr\u001b[39m(his_id),\n\u001b[0;32m     61\u001b[0m     \u001b[38;5;124m\"\u001b[39m\u001b[38;5;124mlast_name\u001b[39m\u001b[38;5;124m\"\u001b[39m: last_name,\n\u001b[0;32m     62\u001b[0m     \u001b[38;5;124m\"\u001b[39m\u001b[38;5;124mfirst_name\u001b[39m\u001b[38;5;124m\"\u001b[39m: first_name,\n\u001b[0;32m     63\u001b[0m     \u001b[38;5;124m\"\u001b[39m\u001b[38;5;124mmiddle_name\u001b[39m\u001b[38;5;124m\"\u001b[39m: middle_name,\n\u001b[0;32m     64\u001b[0m     \u001b[38;5;124m\"\u001b[39m\u001b[38;5;124mbirthday\u001b[39m\u001b[38;5;124m\"\u001b[39m: birthdate,\n\u001b[0;32m     65\u001b[0m     \u001b[38;5;124m\"\u001b[39m\u001b[38;5;124msex\u001b[39m\u001b[38;5;124m\"\u001b[39m: \u001b[38;5;28mint\u001b[39m(sex),\n\u001b[0;32m     66\u001b[0m     \u001b[38;5;124m\"\u001b[39m\u001b[38;5;124mhand\u001b[39m\u001b[38;5;124m\"\u001b[39m: \u001b[38;5;28mint\u001b[39m(hand),\n\u001b[0;32m     67\u001b[0m     \u001b[38;5;124m\"\u001b[39m\u001b[38;5;124mweight\u001b[39m\u001b[38;5;124m\"\u001b[39m: weight,\n\u001b[0;32m     68\u001b[0m     \u001b[38;5;124m\"\u001b[39m\u001b[38;5;124mheight\u001b[39m\u001b[38;5;124m\"\u001b[39m: height,\n\u001b[0;32m     69\u001b[0m }\n\u001b[0;32m     70\u001b[0m \u001b[38;5;66;03m# Setting the dataset's metadata manually (inputs will be the same for all participants)\u001b[39;00m\n\u001b[0;32m     71\u001b[0m raw\u001b[38;5;241m.\u001b[39minfo[\u001b[38;5;124m\"\u001b[39m\u001b[38;5;124mdevice_info\u001b[39m\u001b[38;5;124m\"\u001b[39m] \u001b[38;5;241m=\u001b[39m {\n\u001b[0;32m     72\u001b[0m     \u001b[38;5;124m\"\u001b[39m\u001b[38;5;124mtype\u001b[39m\u001b[38;5;124m\"\u001b[39m: \u001b[38;5;124m\"\u001b[39m\u001b[38;5;124mEEG\u001b[39m\u001b[38;5;124m\"\u001b[39m,\n\u001b[0;32m     73\u001b[0m     \u001b[38;5;124m\"\u001b[39m\u001b[38;5;124mmodel\u001b[39m\u001b[38;5;124m\"\u001b[39m: \u001b[38;5;124m\"\u001b[39m\u001b[38;5;124m12-channel EEG\u001b[39m\u001b[38;5;124m\"\u001b[39m,\n\u001b[0;32m     74\u001b[0m     \u001b[38;5;124m\"\u001b[39m\u001b[38;5;124mserial\u001b[39m\u001b[38;5;124m\"\u001b[39m: \u001b[38;5;241m33456423\u001b[39m\n\u001b[0;32m     75\u001b[0m     }\n",
      "File \u001b[1;32mc:\\Users\\Ariana\\Lib\\site-packages\\mne\\_fiff\\meas_info.py:960\u001b[0m, in \u001b[0;36mValidatedDict.__setitem__\u001b[1;34m(self, key, val)\u001b[0m\n\u001b[0;32m    958\u001b[0m             \u001b[38;5;28;01mraise\u001b[39;00m \u001b[38;5;167;01mRuntimeError\u001b[39;00m(\u001b[38;5;28mself\u001b[39m\u001b[38;5;241m.\u001b[39m_attributes[key])\n\u001b[0;32m    959\u001b[0m     \u001b[38;5;28;01melse\u001b[39;00m:\n\u001b[1;32m--> 960\u001b[0m         val \u001b[38;5;241m=\u001b[39m \u001b[38;5;28;43mself\u001b[39;49m\u001b[38;5;241;43m.\u001b[39;49m\u001b[43m_attributes\u001b[49m\u001b[43m[\u001b[49m\u001b[43mkey\u001b[49m\u001b[43m]\u001b[49m\u001b[43m(\u001b[49m\n\u001b[0;32m    961\u001b[0m \u001b[43m            \u001b[49m\u001b[43mval\u001b[49m\u001b[43m,\u001b[49m\u001b[43m \u001b[49m\u001b[43minfo\u001b[49m\u001b[38;5;241;43m=\u001b[39;49m\u001b[38;5;28;43mself\u001b[39;49m\n\u001b[0;32m    962\u001b[0m \u001b[43m        \u001b[49m\u001b[43m)\u001b[49m  \u001b[38;5;66;03m# attribute checker function\u001b[39;00m\n\u001b[0;32m    963\u001b[0m \u001b[38;5;28;01melse\u001b[39;00m:\n\u001b[0;32m    964\u001b[0m     class_name \u001b[38;5;241m=\u001b[39m \u001b[38;5;28mself\u001b[39m\u001b[38;5;241m.\u001b[39m\u001b[38;5;18m__class__\u001b[39m\u001b[38;5;241m.\u001b[39m\u001b[38;5;18m__name__\u001b[39m\n",
      "File \u001b[1;32mc:\\Users\\Ariana\\Lib\\site-packages\\mne\\_fiff\\meas_info.py:1010\u001b[0m, in \u001b[0;36m_check_types\u001b[1;34m(x, info, name, types, cast)\u001b[0m\n\u001b[0;32m   1008\u001b[0m _validate_type(x, types, name)\n\u001b[0;32m   1009\u001b[0m \u001b[38;5;28;01mif\u001b[39;00m cast \u001b[38;5;129;01mis\u001b[39;00m \u001b[38;5;129;01mnot\u001b[39;00m \u001b[38;5;28;01mNone\u001b[39;00m \u001b[38;5;129;01mand\u001b[39;00m x \u001b[38;5;129;01mis\u001b[39;00m \u001b[38;5;129;01mnot\u001b[39;00m \u001b[38;5;28;01mNone\u001b[39;00m:\n\u001b[1;32m-> 1010\u001b[0m     x \u001b[38;5;241m=\u001b[39m \u001b[43mcast\u001b[49m\u001b[43m(\u001b[49m\u001b[43mx\u001b[49m\u001b[43m)\u001b[49m\n\u001b[0;32m   1011\u001b[0m \u001b[38;5;28;01mreturn\u001b[39;00m x\n",
      "File \u001b[1;32mc:\\Users\\Ariana\\Lib\\site-packages\\mne\\_fiff\\meas_info.py:1042\u001b[0m, in \u001b[0;36mSubjectInfo.__init__\u001b[1;34m(self, initial)\u001b[0m\n\u001b[0;32m   1040\u001b[0m \u001b[38;5;28msuper\u001b[39m()\u001b[38;5;241m.\u001b[39m\u001b[38;5;21m__init__\u001b[39m()\n\u001b[0;32m   1041\u001b[0m \u001b[38;5;28;01mfor\u001b[39;00m key, val \u001b[38;5;129;01min\u001b[39;00m initial\u001b[38;5;241m.\u001b[39mitems():\n\u001b[1;32m-> 1042\u001b[0m     \u001b[38;5;28;43mself\u001b[39;49m\u001b[43m[\u001b[49m\u001b[43mkey\u001b[49m\u001b[43m]\u001b[49m \u001b[38;5;241m=\u001b[39m val\n",
      "File \u001b[1;32mc:\\Users\\Ariana\\Lib\\site-packages\\mne\\_fiff\\meas_info.py:960\u001b[0m, in \u001b[0;36mValidatedDict.__setitem__\u001b[1;34m(self, key, val)\u001b[0m\n\u001b[0;32m    958\u001b[0m             \u001b[38;5;28;01mraise\u001b[39;00m \u001b[38;5;167;01mRuntimeError\u001b[39;00m(\u001b[38;5;28mself\u001b[39m\u001b[38;5;241m.\u001b[39m_attributes[key])\n\u001b[0;32m    959\u001b[0m     \u001b[38;5;28;01melse\u001b[39;00m:\n\u001b[1;32m--> 960\u001b[0m         val \u001b[38;5;241m=\u001b[39m \u001b[38;5;28;43mself\u001b[39;49m\u001b[38;5;241;43m.\u001b[39;49m\u001b[43m_attributes\u001b[49m\u001b[43m[\u001b[49m\u001b[43mkey\u001b[49m\u001b[43m]\u001b[49m\u001b[43m(\u001b[49m\n\u001b[0;32m    961\u001b[0m \u001b[43m            \u001b[49m\u001b[43mval\u001b[49m\u001b[43m,\u001b[49m\u001b[43m \u001b[49m\u001b[43minfo\u001b[49m\u001b[38;5;241;43m=\u001b[39;49m\u001b[38;5;28;43mself\u001b[39;49m\n\u001b[0;32m    962\u001b[0m \u001b[43m        \u001b[49m\u001b[43m)\u001b[49m  \u001b[38;5;66;03m# attribute checker function\u001b[39;00m\n\u001b[0;32m    963\u001b[0m \u001b[38;5;28;01melse\u001b[39;00m:\n\u001b[0;32m    964\u001b[0m     class_name \u001b[38;5;241m=\u001b[39m \u001b[38;5;28mself\u001b[39m\u001b[38;5;241m.\u001b[39m\u001b[38;5;18m__class__\u001b[39m\u001b[38;5;241m.\u001b[39m\u001b[38;5;18m__name__\u001b[39m\n",
      "File \u001b[1;32mc:\\Users\\Ariana\\Lib\\site-packages\\mne\\_fiff\\meas_info.py:1008\u001b[0m, in \u001b[0;36m_check_types\u001b[1;34m(x, info, name, types, cast)\u001b[0m\n\u001b[0;32m   1007\u001b[0m \u001b[38;5;28;01mdef\u001b[39;00m \u001b[38;5;21m_check_types\u001b[39m(x, \u001b[38;5;241m*\u001b[39m, info, name, types, cast\u001b[38;5;241m=\u001b[39m\u001b[38;5;28;01mNone\u001b[39;00m):\n\u001b[1;32m-> 1008\u001b[0m     \u001b[43m_validate_type\u001b[49m\u001b[43m(\u001b[49m\u001b[43mx\u001b[49m\u001b[43m,\u001b[49m\u001b[43m \u001b[49m\u001b[43mtypes\u001b[49m\u001b[43m,\u001b[49m\u001b[43m \u001b[49m\u001b[43mname\u001b[49m\u001b[43m)\u001b[49m\n\u001b[0;32m   1009\u001b[0m     \u001b[38;5;28;01mif\u001b[39;00m cast \u001b[38;5;129;01mis\u001b[39;00m \u001b[38;5;129;01mnot\u001b[39;00m \u001b[38;5;28;01mNone\u001b[39;00m \u001b[38;5;129;01mand\u001b[39;00m x \u001b[38;5;129;01mis\u001b[39;00m \u001b[38;5;129;01mnot\u001b[39;00m \u001b[38;5;28;01mNone\u001b[39;00m:\n\u001b[0;32m   1010\u001b[0m         x \u001b[38;5;241m=\u001b[39m cast(x)\n",
      "File \u001b[1;32mc:\\Users\\Ariana\\Lib\\site-packages\\mne\\utils\\check.py:641\u001b[0m, in \u001b[0;36m_validate_type\u001b[1;34m(item, types, item_name, type_name, extra)\u001b[0m\n\u001b[0;32m    639\u001b[0m         type_name \u001b[38;5;241m=\u001b[39m \u001b[38;5;124m\"\u001b[39m\u001b[38;5;124m, \u001b[39m\u001b[38;5;124m\"\u001b[39m\u001b[38;5;241m.\u001b[39mjoin(type_name)\n\u001b[0;32m    640\u001b[0m _item_name \u001b[38;5;241m=\u001b[39m \u001b[38;5;124m\"\u001b[39m\u001b[38;5;124mItem\u001b[39m\u001b[38;5;124m\"\u001b[39m \u001b[38;5;28;01mif\u001b[39;00m item_name \u001b[38;5;129;01mis\u001b[39;00m \u001b[38;5;28;01mNone\u001b[39;00m \u001b[38;5;28;01melse\u001b[39;00m item_name\n\u001b[1;32m--> 641\u001b[0m \u001b[38;5;28;01mraise\u001b[39;00m \u001b[38;5;167;01mTypeError\u001b[39;00m(\n\u001b[0;32m    642\u001b[0m     \u001b[38;5;124mf\u001b[39m\u001b[38;5;124m\"\u001b[39m\u001b[38;5;132;01m{\u001b[39;00m_item_name\u001b[38;5;132;01m}\u001b[39;00m\u001b[38;5;124m must be an instance of \u001b[39m\u001b[38;5;132;01m{\u001b[39;00mtype_name\u001b[38;5;132;01m}\u001b[39;00m\u001b[38;5;132;01m{\u001b[39;00mextra\u001b[38;5;132;01m}\u001b[39;00m\u001b[38;5;124m, \u001b[39m\u001b[38;5;124m\"\u001b[39m\n\u001b[0;32m    643\u001b[0m     \u001b[38;5;124mf\u001b[39m\u001b[38;5;124m\"\u001b[39m\u001b[38;5;124mgot \u001b[39m\u001b[38;5;132;01m{\u001b[39;00m\u001b[38;5;28mtype\u001b[39m(item)\u001b[38;5;132;01m}\u001b[39;00m\u001b[38;5;124m instead.\u001b[39m\u001b[38;5;124m\"\u001b[39m\n\u001b[0;32m    644\u001b[0m )\n",
      "\u001b[1;31mTypeError\u001b[0m: subject_info[\"last_name\"] must be an instance of str, got <class 'float'> instead."
     ]
    }
   ],
   "source": [
    "\n",
    "# Imports\n",
    "import mne\n",
    "%pip install mne_bids\n",
    "%pip install --upgrade mne_bids\n",
    "\n",
    "from mne_bids import BIDSPath, write_raw_bids\n",
    "import os.path as op\n",
    "from pathlib import Path\n",
    "\n",
    "import pandas as pd\n",
    "\n",
    "from datetime import datetime, timezone\n",
    "from dateutil.relativedelta import relativedelta\n",
    "from mne.transforms import Transform\n",
    "\n",
    "# Setting overall file location [edit this]\n",
    "data_dir = Path(r'c:\\N8_internship_code\\Motor_Imaging_Dataset')\n",
    "\n",
    "# Specifying the files\n",
    "children = [child for child in data_dir.iterdir()]\n",
    "dir_number = 5\n",
    "files = [file for file in children[dir_number].iterdir()]\n",
    "file_path = files[1]\n",
    "\n",
    "# Reading the files\n",
    "raw = mne.io.read_raw_edf(file_path)\n",
    "\n",
    "# Load your Excel data into a dataframe [edit this]\n",
    "df = pd.read_excel(r'c:\\N8_internship_code\\N8 tester sheet.xlsx')\n",
    "\n",
    "# Making a list of (only) participant folders from the 'location' file path\n",
    "folders = [p_folder for p_folder in data_dir.iterdir() if p_folder.is_dir()]\n",
    "\n",
    "\n",
    "# Looping through every participant folder and its index in the folders list, using enumerate\n",
    "for index, participant_folder in enumerate(folders):\n",
    "\n",
    "    # Setting contents of excel columns (at the current index row) to variables\n",
    "    his_id = df.loc[index, 'his_id']    \n",
    "    last_name = df.loc[index, 'last_name']\n",
    "    first_name = df.loc[index, 'first_name']\n",
    "    middle_name = df.loc[index, 'middle_name']\n",
    "    age = df.loc[index, 'age']\n",
    "    sex = df.loc[index, 'sex']\n",
    "    hand = df.loc[index, 'hand']\n",
    "    weight = df.loc[index, 'weight']\n",
    "    height = df.loc[index, 'height']\n",
    "\n",
    "    # Sets the variable 'years' to 'age' from the imported excel sheet\n",
    "    years = int(age)\n",
    "\n",
    "    # Generates the (approximate) birthdate of the participant based on the measurement date and age\n",
    "    raw.set_meas_date(datetime(2015, 6, 7, tzinfo= timezone.utc))\n",
    "    recording_date = raw.info[\"meas_date\"]\n",
    "    birthdate = recording_date - relativedelta(years=years)\n",
    "\n",
    "    # Setting the participant's metadata using the excel sheet (different for every participant)\n",
    "    raw.info[\"subject_info\"] = {\n",
    "        \"id\": index,\n",
    "        \"his_id\": str(his_id),\n",
    "        \"last_name\": str(last_name),\n",
    "        \"first_name\": first_name,\n",
    "        \"middle_name\": middle_name,\n",
    "        \"birthday\": birthdate,\n",
    "        \"sex\": int(sex),\n",
    "        \"hand\": int(hand),\n",
    "        \"weight\": weight,\n",
    "        \"height\": height,\n",
    "    }\n",
    "    # Setting the dataset's metadata manually (inputs will often be the same for all participants)\n",
    "    raw.info[\"device_info\"] = {\n",
    "        \"type\": \"EEG\",\n",
    "        \"model\": \"12-channel EEG\",\n",
    "        \"serial\": 33456423\n",
    "        }\n",
    "\n",
    "    raw.info[\"line_freq\"] = 50\n",
    "\n",
    "    raw.info[\"description\"] = \"a resting state dataset\"\n",
    "\n",
    "    raw.info[\"dev_head_t\"] = Transform(\"meg\", \"head\")\n",
    "\n",
    "    raw.info[\"experimenter\"] = \"John Doe\"\n",
    "\n",
    "    my_montage = mne.channels.make_standard_montage(\"biosemi64\")\n",
    "    \n",
    "\n",
    "    # Creating the output file location for the dataset\n",
    "    bids_root = op.join(data_dir.parent, \"iterate_test\")\n",
    "    \n",
    "    # Collecting the file name (also participant id) from the file\n",
    "    file_name = participant_folder.name\n",
    "\n",
    "    # Setting participant id, task name should be inputted manually\n",
    "    subject_id = file_name\n",
    "    task = \"task1\"\n",
    "\n",
    "    # Writing the BIDS dataset\n",
    "    bids_path = BIDSPath(subject=subject_id, task=task, root=bids_root)\n",
    "    write_raw_bids(raw, bids_path, overwrite=True, allow_preload=True, format=\"EDF\")\n"
   ]
  },
  {
   "cell_type": "code",
   "execution_count": 1,
   "id": "50f988b2",
   "metadata": {},
   "outputs": [
    {
     "ename": "NameError",
     "evalue": "name 'birthdate' is not defined",
     "output_type": "error",
     "traceback": [
      "\u001b[1;31m---------------------------------------------------------------------------\u001b[0m",
      "\u001b[1;31mNameError\u001b[0m                                 Traceback (most recent call last)",
      "Cell \u001b[1;32mIn[1], line 1\u001b[0m\n\u001b[1;32m----> 1\u001b[0m \u001b[38;5;28mprint\u001b[39m(\u001b[43mbirthdate\u001b[49m)\n",
      "\u001b[1;31mNameError\u001b[0m: name 'birthdate' is not defined"
     ]
    }
   ],
   "source": [
    "print(birthdate)"
   ]
  },
  {
   "cell_type": "code",
   "execution_count": null,
   "id": "6b1703bf",
   "metadata": {},
   "outputs": [],
   "source": [
    "data.info[\"bads\"] = [\"\", \"\"]"
   ]
  }
 ],
 "metadata": {
  "kernelspec": {
   "display_name": "base",
   "language": "python",
   "name": "python3"
  },
  "language_info": {
   "codemirror_mode": {
    "name": "ipython",
    "version": 3
   },
   "file_extension": ".py",
   "mimetype": "text/x-python",
   "name": "python",
   "nbconvert_exporter": "python",
   "pygments_lexer": "ipython3",
   "version": "3.12.7"
  }
 },
 "nbformat": 4,
 "nbformat_minor": 5
}
