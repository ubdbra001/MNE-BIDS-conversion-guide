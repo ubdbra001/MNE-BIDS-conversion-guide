{
 "cells": [
  {
   "cell_type": "code",
   "execution_count": 2,
   "id": "7d8eb021",
   "metadata": {},
   "outputs": [
    {
     "name": "stdout",
     "output_type": "stream",
     "text": [
      "Requirement already satisfied: mne_bids in c:\\users\\ariana\\lib\\site-packages (0.16.0)\n",
      "Requirement already satisfied: mne>=1.7 in c:\\users\\ariana\\lib\\site-packages (from mne_bids) (1.9.0)\n",
      "Requirement already satisfied: numpy>=1.21.2 in c:\\users\\ariana\\lib\\site-packages (from mne_bids) (1.26.4)\n",
      "Requirement already satisfied: scipy>=1.7.1 in c:\\users\\ariana\\lib\\site-packages (from mne_bids) (1.14.1)\n",
      "Requirement already satisfied: decorator in c:\\users\\ariana\\lib\\site-packages (from mne>=1.7->mne_bids) (5.1.1)\n",
      "Requirement already satisfied: jinja2 in c:\\users\\ariana\\lib\\site-packages (from mne>=1.7->mne_bids) (3.1.4)\n",
      "Requirement already satisfied: lazy-loader>=0.3 in c:\\users\\ariana\\lib\\site-packages (from mne>=1.7->mne_bids) (0.4)\n",
      "Requirement already satisfied: matplotlib>=3.6 in c:\\users\\ariana\\lib\\site-packages (from mne>=1.7->mne_bids) (3.10.0)\n",
      "Requirement already satisfied: packaging in c:\\users\\ariana\\lib\\site-packages (from mne>=1.7->mne_bids) (24.2)\n",
      "Requirement already satisfied: pooch>=1.5 in c:\\users\\ariana\\lib\\site-packages (from mne>=1.7->mne_bids) (1.8.2)\n",
      "Requirement already satisfied: tqdm in c:\\users\\ariana\\lib\\site-packages (from mne>=1.7->mne_bids) (4.67.1)\n",
      "Requirement already satisfied: contourpy>=1.0.1 in c:\\users\\ariana\\lib\\site-packages (from matplotlib>=3.6->mne>=1.7->mne_bids) (1.3.1)\n",
      "Requirement already satisfied: cycler>=0.10 in c:\\users\\ariana\\lib\\site-packages (from matplotlib>=3.6->mne>=1.7->mne_bids) (0.12.1)\n",
      "Requirement already satisfied: fonttools>=4.22.0 in c:\\users\\ariana\\lib\\site-packages (from matplotlib>=3.6->mne>=1.7->mne_bids) (4.55.3)\n",
      "Requirement already satisfied: kiwisolver>=1.3.1 in c:\\users\\ariana\\lib\\site-packages (from matplotlib>=3.6->mne>=1.7->mne_bids) (1.4.7)\n",
      "Requirement already satisfied: pillow>=8 in c:\\users\\ariana\\lib\\site-packages (from matplotlib>=3.6->mne>=1.7->mne_bids) (11.0.0)\n",
      "Requirement already satisfied: pyparsing>=2.3.1 in c:\\users\\ariana\\lib\\site-packages (from matplotlib>=3.6->mne>=1.7->mne_bids) (3.2.0)\n",
      "Requirement already satisfied: python-dateutil>=2.7 in c:\\users\\ariana\\lib\\site-packages (from matplotlib>=3.6->mne>=1.7->mne_bids) (2.9.0.post0)\n",
      "Requirement already satisfied: platformdirs>=2.5.0 in c:\\users\\ariana\\lib\\site-packages (from pooch>=1.5->mne>=1.7->mne_bids) (4.3.6)\n",
      "Requirement already satisfied: requests>=2.19.0 in c:\\users\\ariana\\lib\\site-packages (from pooch>=1.5->mne>=1.7->mne_bids) (2.32.3)\n",
      "Requirement already satisfied: MarkupSafe>=2.0 in c:\\users\\ariana\\lib\\site-packages (from jinja2->mne>=1.7->mne_bids) (3.0.2)\n",
      "Requirement already satisfied: colorama in c:\\users\\ariana\\lib\\site-packages (from tqdm->mne>=1.7->mne_bids) (0.4.6)\n",
      "Requirement already satisfied: six>=1.5 in c:\\users\\ariana\\lib\\site-packages (from python-dateutil>=2.7->matplotlib>=3.6->mne>=1.7->mne_bids) (1.17.0)\n",
      "Requirement already satisfied: charset_normalizer<4,>=2 in c:\\users\\ariana\\lib\\site-packages (from requests>=2.19.0->pooch>=1.5->mne>=1.7->mne_bids) (3.4.0)\n",
      "Requirement already satisfied: idna<4,>=2.5 in c:\\users\\ariana\\lib\\site-packages (from requests>=2.19.0->pooch>=1.5->mne>=1.7->mne_bids) (3.10)\n",
      "Requirement already satisfied: urllib3<3,>=1.21.1 in c:\\users\\ariana\\lib\\site-packages (from requests>=2.19.0->pooch>=1.5->mne>=1.7->mne_bids) (2.2.3)\n",
      "Requirement already satisfied: certifi>=2017.4.17 in c:\\users\\ariana\\lib\\site-packages (from requests>=2.19.0->pooch>=1.5->mne>=1.7->mne_bids) (2024.12.14)\n",
      "Note: you may need to restart the kernel to use updated packages.\n",
      "Requirement already satisfied: mne_bids in c:\\users\\ariana\\lib\\site-packages (0.16.0)\n",
      "Requirement already satisfied: mne>=1.7 in c:\\users\\ariana\\lib\\site-packages (from mne_bids) (1.9.0)\n",
      "Requirement already satisfied: numpy>=1.21.2 in c:\\users\\ariana\\lib\\site-packages (from mne_bids) (1.26.4)\n",
      "Requirement already satisfied: scipy>=1.7.1 in c:\\users\\ariana\\lib\\site-packages (from mne_bids) (1.14.1)\n",
      "Requirement already satisfied: decorator in c:\\users\\ariana\\lib\\site-packages (from mne>=1.7->mne_bids) (5.1.1)\n",
      "Requirement already satisfied: jinja2 in c:\\users\\ariana\\lib\\site-packages (from mne>=1.7->mne_bids) (3.1.4)\n",
      "Requirement already satisfied: lazy-loader>=0.3 in c:\\users\\ariana\\lib\\site-packages (from mne>=1.7->mne_bids) (0.4)\n",
      "Requirement already satisfied: matplotlib>=3.6 in c:\\users\\ariana\\lib\\site-packages (from mne>=1.7->mne_bids) (3.10.0)\n",
      "Requirement already satisfied: packaging in c:\\users\\ariana\\lib\\site-packages (from mne>=1.7->mne_bids) (24.2)\n",
      "Requirement already satisfied: pooch>=1.5 in c:\\users\\ariana\\lib\\site-packages (from mne>=1.7->mne_bids) (1.8.2)\n",
      "Requirement already satisfied: tqdm in c:\\users\\ariana\\lib\\site-packages (from mne>=1.7->mne_bids) (4.67.1)\n",
      "Requirement already satisfied: contourpy>=1.0.1 in c:\\users\\ariana\\lib\\site-packages (from matplotlib>=3.6->mne>=1.7->mne_bids) (1.3.1)\n",
      "Requirement already satisfied: cycler>=0.10 in c:\\users\\ariana\\lib\\site-packages (from matplotlib>=3.6->mne>=1.7->mne_bids) (0.12.1)\n",
      "Requirement already satisfied: fonttools>=4.22.0 in c:\\users\\ariana\\lib\\site-packages (from matplotlib>=3.6->mne>=1.7->mne_bids) (4.55.3)\n",
      "Requirement already satisfied: kiwisolver>=1.3.1 in c:\\users\\ariana\\lib\\site-packages (from matplotlib>=3.6->mne>=1.7->mne_bids) (1.4.7)\n",
      "Requirement already satisfied: pillow>=8 in c:\\users\\ariana\\lib\\site-packages (from matplotlib>=3.6->mne>=1.7->mne_bids) (11.0.0)\n",
      "Requirement already satisfied: pyparsing>=2.3.1 in c:\\users\\ariana\\lib\\site-packages (from matplotlib>=3.6->mne>=1.7->mne_bids) (3.2.0)\n",
      "Requirement already satisfied: python-dateutil>=2.7 in c:\\users\\ariana\\lib\\site-packages (from matplotlib>=3.6->mne>=1.7->mne_bids) (2.9.0.post0)\n",
      "Requirement already satisfied: platformdirs>=2.5.0 in c:\\users\\ariana\\lib\\site-packages (from pooch>=1.5->mne>=1.7->mne_bids) (4.3.6)\n",
      "Requirement already satisfied: requests>=2.19.0 in c:\\users\\ariana\\lib\\site-packages (from pooch>=1.5->mne>=1.7->mne_bids) (2.32.3)\n",
      "Requirement already satisfied: MarkupSafe>=2.0 in c:\\users\\ariana\\lib\\site-packages (from jinja2->mne>=1.7->mne_bids) (3.0.2)\n",
      "Requirement already satisfied: colorama in c:\\users\\ariana\\lib\\site-packages (from tqdm->mne>=1.7->mne_bids) (0.4.6)\n",
      "Requirement already satisfied: six>=1.5 in c:\\users\\ariana\\lib\\site-packages (from python-dateutil>=2.7->matplotlib>=3.6->mne>=1.7->mne_bids) (1.17.0)\n",
      "Requirement already satisfied: charset_normalizer<4,>=2 in c:\\users\\ariana\\lib\\site-packages (from requests>=2.19.0->pooch>=1.5->mne>=1.7->mne_bids) (3.4.0)\n",
      "Requirement already satisfied: idna<4,>=2.5 in c:\\users\\ariana\\lib\\site-packages (from requests>=2.19.0->pooch>=1.5->mne>=1.7->mne_bids) (3.10)\n",
      "Requirement already satisfied: urllib3<3,>=1.21.1 in c:\\users\\ariana\\lib\\site-packages (from requests>=2.19.0->pooch>=1.5->mne>=1.7->mne_bids) (2.2.3)\n",
      "Requirement already satisfied: certifi>=2017.4.17 in c:\\users\\ariana\\lib\\site-packages (from requests>=2.19.0->pooch>=1.5->mne>=1.7->mne_bids) (2024.12.14)\n",
      "Note: you may need to restart the kernel to use updated packages.\n"
     ]
    }
   ],
   "source": [
    "import mne\n",
    "%pip install mne_bids\n",
    "%pip install --upgrade mne_bids\n",
    "\n",
    "from mne_bids import BIDSPath, print_dir_tree, write_raw_bids, make_dataset_description, update_sidecar_json"
   ]
  },
  {
   "cell_type": "code",
   "execution_count": 3,
   "id": "4238690b",
   "metadata": {},
   "outputs": [],
   "source": [
    "#Allows us to work with file paths\n",
    "import os.path as op\n",
    "#Makes file path handling simpler\n",
    "from pathlib import Path"
   ]
  },
  {
   "cell_type": "code",
   "execution_count": 4,
   "id": "e926a3fb",
   "metadata": {},
   "outputs": [
    {
     "name": "stdout",
     "output_type": "stream",
     "text": [
      "|source_data\\\n",
      "|--- rest\\\n",
      "|--- video\\\n"
     ]
    }
   ],
   "source": [
    "#Change the file path to your data's location\n",
    "data_dir = Path(r\"C:\\N8_internship_code\\source_data\")\n",
    "print_dir_tree(data_dir, max_depth=1)"
   ]
  },
  {
   "cell_type": "code",
   "execution_count": null,
   "id": "9f13c002",
   "metadata": {},
   "outputs": [
    {
     "data": {
      "text/plain": [
       "[WindowsPath('C:/N8_internship_code/source_data/rest'),\n",
       " WindowsPath('C:/N8_internship_code/source_data/video')]"
      ]
     },
     "execution_count": 5,
     "metadata": {},
     "output_type": "execute_result"
    }
   ],
   "source": [
    "children = [child for child in data_dir.iterdir()]\n",
    "children"
   ]
  },
  {
   "cell_type": "code",
   "execution_count": 6,
   "id": "8367f8ce",
   "metadata": {},
   "outputs": [],
   "source": [
    "#Change this to match the file number\n",
    "dir_number = 0\n",
    "files = [file for file in children[dir_number].iterdir()]"
   ]
  },
  {
   "cell_type": "code",
   "execution_count": 7,
   "id": "7f3aef18",
   "metadata": {},
   "outputs": [
    {
     "data": {
      "text/plain": [
       "WindowsPath('C:/N8_internship_code/source_data/rest/CLV002.set')"
      ]
     },
     "execution_count": 7,
     "metadata": {},
     "output_type": "execute_result"
    }
   ],
   "source": [
    "file_path = files[0]\n",
    "file_path"
   ]
  },
  {
   "cell_type": "code",
   "execution_count": 8,
   "id": "d32a8193",
   "metadata": {},
   "outputs": [
    {
     "name": "stderr",
     "output_type": "stream",
     "text": [
      "C:\\Users\\Ariana Williams\\AppData\\Local\\Temp\\ipykernel_17688\\4240071171.py:1: RuntimeWarning: Data will be preloaded. preload=False or a string preload is not supported when the data is stored in the .set file\n",
      "  data = mne.io.read_raw_eeglab(file_path)\n",
      "C:\\Users\\Ariana Williams\\AppData\\Local\\Temp\\ipykernel_17688\\4240071171.py:1: RuntimeWarning: Limited 1 annotation(s) that were expanding outside the data range.\n",
      "  data = mne.io.read_raw_eeglab(file_path)\n",
      "C:\\Users\\Ariana Williams\\AppData\\Local\\Temp\\ipykernel_17688\\4240071171.py:1: RuntimeWarning: The data contains 'boundary' events, indicating data discontinuities. Be cautious of filtering and epoching around these events.\n",
      "  data = mne.io.read_raw_eeglab(file_path)\n"
     ]
    }
   ],
   "source": [
    "data = mne.io.read_raw_eeglab(file_path)"
   ]
  },
  {
   "cell_type": "code",
   "execution_count": 9,
   "id": "9fadd1b9",
   "metadata": {},
   "outputs": [
    {
     "data": {
      "text/html": [
       "<script type=\"text/javascript\">\n",
       "    // must be `var` (not `const`) because this can get embedded multiple times on a page\n",
       "var toggleVisibility = (className) => {\n",
       "\n",
       "    const elements = document.querySelectorAll(`.${className}`);\n",
       "\n",
       "    elements.forEach(element => {\n",
       "        if (element.classList.contains(\"mne-repr-section-header\")) {\n",
       "            return  // Don't collapse the section header row\n",
       "        }\n",
       "        element.classList.toggle(\"mne-repr-collapsed\");\n",
       "    });\n",
       "\n",
       "    // trigger caret to rotate\n",
       "    var sel = `.mne-repr-section-header.${className} > th.mne-repr-section-toggle > button`;\n",
       "    const button = document.querySelector(sel);\n",
       "    button.classList.toggle(\"collapsed\");\n",
       "\n",
       "    // adjust tooltip\n",
       "    sel = `tr.mne-repr-section-header.${className}`;\n",
       "    const secHeadRow = document.querySelector(sel);\n",
       "    secHeadRow.classList.toggle(\"collapsed\");\n",
       "    secHeadRow.title = secHeadRow.title === \"Hide section\" ? \"Show section\" : \"Hide section\";\n",
       "}\n",
       "</script>\n",
       "\n",
       "<style type=\"text/css\">\n",
       "    /*\n",
       "Styles in this section apply both to the sphinx-built website docs and to notebooks\n",
       "rendered in an IDE or in Jupyter. In our web docs, styles here are complemented by\n",
       "doc/_static/styles.css and other CSS files (e.g. from the sphinx theme, sphinx-gallery,\n",
       "or bootstrap). In IDEs/Jupyter, those style files are unavailable, so only the rules in\n",
       "this file apply (plus whatever default styling the IDE applies).\n",
       "*/\n",
       ".mne-repr-table {\n",
       "    display: inline;  /* prevent using full container width */\n",
       "}\n",
       ".mne-repr-table tr.mne-repr-section-header > th {\n",
       "    padding-top: 1rem;\n",
       "    text-align: left;\n",
       "    vertical-align: middle;\n",
       "}\n",
       ".mne-repr-section-toggle > button {\n",
       "    all: unset;\n",
       "    display: block;\n",
       "    height: 1rem;\n",
       "    width: 1rem;\n",
       "}\n",
       ".mne-repr-section-toggle > button > svg {\n",
       "    height: 60%;\n",
       "}\n",
       "\n",
       "/* transition (rotation) effects on the collapser button */\n",
       ".mne-repr-section-toggle > button.collapsed > svg {\n",
       "    transition: 0.1s ease-out;\n",
       "    transform: rotate(-90deg);\n",
       "}\n",
       ".mne-repr-section-toggle > button:not(.collapsed) > svg {\n",
       "    transition: 0.1s ease-out;\n",
       "    transform: rotate(0deg);\n",
       "}\n",
       "\n",
       "/* hide collapsed table rows */\n",
       ".mne-repr-collapsed {\n",
       "    display: none;\n",
       "}\n",
       "\n",
       "\n",
       "@layer {\n",
       "    /*\n",
       "    Selectors in a `@layer` will always be lower-precedence than selectors outside the\n",
       "    layer. So even though e.g. `div.output_html` is present in the sphinx-rendered\n",
       "    website docs, the styles here won't take effect there as long as some other rule\n",
       "    somewhere in the page's CSS targets the same element.\n",
       "\n",
       "    In IDEs or Jupyter notebooks, though, the CSS files from the sphinx theme,\n",
       "    sphinx-gallery, and bootstrap are unavailable, so these styles will apply.\n",
       "\n",
       "    Notes:\n",
       "\n",
       "    - the selector `.accordion-body` is for MNE Reports\n",
       "    - the selector `.output_html` is for VSCode's notebook interface\n",
       "    - the selector `.jp-RenderedHTML` is for Jupyter notebook\n",
       "    - variables starting with `--theme-` are VSCode-specific.\n",
       "    - variables starting with `--jp-` are Jupyter styles, *some of which* are also\n",
       "      available in VSCode. Here we try the `--theme-` variable first, then fall back to\n",
       "      the `--jp-` ones.\n",
       "    */\n",
       "    .mne-repr-table {\n",
       "        --mne-toggle-color: var(--theme-foreground, var(--jp-ui-font-color1));\n",
       "        --mne-button-bg-color: var(--theme-button-background, var(--jp-info-color0, var(--jp-content-link-color)));\n",
       "        --mne-button-fg-color: var(--theme-button-foreground, var(--jp-ui-inverse-font-color0, var(--jp-editor-background)));\n",
       "        --mne-button-hover-bg-color: var(--theme-button-hover-background, var(--jp-info-color1));\n",
       "        --mne-button-radius: var(--jp-border-radius, 0.25rem);\n",
       "    }\n",
       "    /* chevron position/alignment; in VSCode it looks ok without adjusting */\n",
       "    .accordion-body .mne-repr-section-toggle > button,\n",
       "    .jp-RenderedHTML .mne-repr-section-toggle > button {\n",
       "        padding: 0 0 45% 25% !important;\n",
       "    }\n",
       "    /* chevron color; MNE Report doesn't have light/dark mode */\n",
       "    div.output_html .mne-repr-section-toggle > button > svg > path,\n",
       "    .jp-RenderedHTML .mne-repr-section-toggle > button > svg > path {\n",
       "        fill: var(--mne-toggle-color);\n",
       "    }\n",
       "    .accordion-body .mne-ch-names-btn,\n",
       "    div.output_html .mne-ch-names-btn,\n",
       "    .jp-RenderedHTML .mne-ch-names-btn {\n",
       "        -webkit-border-radius: var(--mne-button-radius);\n",
       "        -moz-border-radius: var(--mne-button-radius);\n",
       "        border-radius: var(--mne-button-radius);\n",
       "        border: none;\n",
       "        background-image: none;\n",
       "        background-color: var(--mne-button-bg-color);\n",
       "        color: var(--mne-button-fg-color);\n",
       "        font-size: inherit;\n",
       "        min-width: 1.5rem;\n",
       "        padding: 0.25rem;\n",
       "        text-align: center;\n",
       "        text-decoration: none;\n",
       "    }\n",
       "    .accordion-body .mne-ch-names-btn:hover,\n",
       "    div.output_html .mne.ch-names-btn:hover,\n",
       "    .jp-RenderedHTML .mne-ch-names-btn:hover {\n",
       "        background-color: var(--mne-button-hover-bg-color);\n",
       "        text-decoration: underline;\n",
       "    }\n",
       "    .accordion-body .mne-ch-names-btn:focus-visible,\n",
       "    div.output_html .mne-ch-names-btn:focus-visible,\n",
       "    .jp-RenderedHTML .mne-ch-names-btn:focus-visible {\n",
       "        outline: 0.1875rem solid var(--mne-button-bg-color) !important;\n",
       "        outline-offset: 0.1875rem !important;\n",
       "    }\n",
       "}\n",
       "</style>\n",
       "\n",
       "\n",
       "\n",
       "<table class=\"table mne-repr-table\">\n",
       "    \n",
       "\n",
       "\n",
       "\n",
       "\n",
       "\n",
       "\n",
       "\n",
       "<tr class=\"mne-repr-section-header general-a8193fb5-27c8-45d3-b5fa-5885e3e374f6\"\n",
       "     title=\"Hide section\" \n",
       "    onclick=\"toggleVisibility('general-a8193fb5-27c8-45d3-b5fa-5885e3e374f6')\">\n",
       "    <th class=\"mne-repr-section-toggle\">\n",
       "        <button >\n",
       "            <svg xmlns=\"http://www.w3.org/2000/svg\" viewBox=\"0 0 512 512\"><!--!Font Awesome Free 6.6.0 by @fontawesome - https://fontawesome.com License - https://fontawesome.com/license/free Copyright 2024 Fonticons, Inc.--><path d=\"M233.4 406.6c12.5 12.5 32.8 12.5 45.3 0l192-192c12.5-12.5 12.5-32.8 0-45.3s-32.8-12.5-45.3 0L256 338.7 86.6 169.4c-12.5-12.5-32.8-12.5-45.3 0s-12.5 32.8 0 45.3l192 192z\"/></svg>\n",
       "        </button>\n",
       "    </th>\n",
       "    <th colspan=\"2\">\n",
       "        <strong>General</strong>\n",
       "    </th>\n",
       "</tr>\n",
       "\n",
       "\n",
       "<tr class=\"repr-element general-a8193fb5-27c8-45d3-b5fa-5885e3e374f6 \">\n",
       "    <td class=\"mne-repr-section-toggle\"></td>\n",
       "    <td>Filename(s)</td>\n",
       "    <td>\n",
       "        \n",
       "        CLV002.set\n",
       "        \n",
       "        \n",
       "    </td>\n",
       "</tr>\n",
       "\n",
       "<tr class=\"repr-element general-a8193fb5-27c8-45d3-b5fa-5885e3e374f6 \">\n",
       "    <td class=\"mne-repr-section-toggle\"></td>\n",
       "    <td>MNE object type</td>\n",
       "    <td>RawEEGLAB</td>\n",
       "</tr>\n",
       "<tr class=\"repr-element general-a8193fb5-27c8-45d3-b5fa-5885e3e374f6 \">\n",
       "    <td class=\"mne-repr-section-toggle\"></td>\n",
       "    <td>Measurement date</td>\n",
       "    \n",
       "    <td>Unknown</td>\n",
       "    \n",
       "</tr>\n",
       "<tr class=\"repr-element general-a8193fb5-27c8-45d3-b5fa-5885e3e374f6 \">\n",
       "    <td class=\"mne-repr-section-toggle\"></td>\n",
       "    <td>Participant</td>\n",
       "    \n",
       "    <td>Unknown</td>\n",
       "    \n",
       "</tr>\n",
       "<tr class=\"repr-element general-a8193fb5-27c8-45d3-b5fa-5885e3e374f6 \">\n",
       "    <td class=\"mne-repr-section-toggle\"></td>\n",
       "    <td>Experimenter</td>\n",
       "    \n",
       "    <td>Unknown</td>\n",
       "    \n",
       "</tr>\n",
       "    \n",
       "\n",
       "\n",
       "\n",
       "\n",
       "\n",
       "\n",
       "\n",
       "<tr class=\"mne-repr-section-header acquisition-0e2ff704-8005-47c6-a7af-5a20030818e0\"\n",
       "     title=\"Hide section\" \n",
       "    onclick=\"toggleVisibility('acquisition-0e2ff704-8005-47c6-a7af-5a20030818e0')\">\n",
       "    <th class=\"mne-repr-section-toggle\">\n",
       "        <button >\n",
       "            <svg xmlns=\"http://www.w3.org/2000/svg\" viewBox=\"0 0 512 512\"><!--!Font Awesome Free 6.6.0 by @fontawesome - https://fontawesome.com License - https://fontawesome.com/license/free Copyright 2024 Fonticons, Inc.--><path d=\"M233.4 406.6c12.5 12.5 32.8 12.5 45.3 0l192-192c12.5-12.5 12.5-32.8 0-45.3s-32.8-12.5-45.3 0L256 338.7 86.6 169.4c-12.5-12.5-32.8-12.5-45.3 0s-12.5 32.8 0 45.3l192 192z\"/></svg>\n",
       "        </button>\n",
       "    </th>\n",
       "    <th colspan=\"2\">\n",
       "        <strong>Acquisition</strong>\n",
       "    </th>\n",
       "</tr>\n",
       "\n",
       "\n",
       "<tr class=\"repr-element acquisition-0e2ff704-8005-47c6-a7af-5a20030818e0 \">\n",
       "    <td class=\"mne-repr-section-toggle\"></td>\n",
       "    <td>Duration</td>\n",
       "    <td>00:08:02 (HH:MM:SS)</td>\n",
       "</tr>\n",
       "\n",
       "\n",
       "\n",
       "\n",
       "\n",
       "\n",
       "\n",
       "\n",
       "<tr class=\"repr-element acquisition-0e2ff704-8005-47c6-a7af-5a20030818e0 \">\n",
       "    <td class=\"mne-repr-section-toggle\"></td>\n",
       "    <td>Sampling frequency</td>\n",
       "    <td>1000.00 Hz</td>\n",
       "</tr>\n",
       "\n",
       "\n",
       "<tr class=\"repr-element acquisition-0e2ff704-8005-47c6-a7af-5a20030818e0 \">\n",
       "    <td class=\"mne-repr-section-toggle\"></td>\n",
       "    <td>Time points</td>\n",
       "    <td>481,064</td>\n",
       "</tr>\n",
       "\n",
       "\n",
       "    \n",
       "\n",
       "\n",
       "\n",
       "\n",
       "\n",
       "\n",
       "\n",
       "<tr class=\"mne-repr-section-header channels-2c9901c5-d367-453d-b72e-58ad08789c7a\"\n",
       "     title=\"Hide section\" \n",
       "    onclick=\"toggleVisibility('channels-2c9901c5-d367-453d-b72e-58ad08789c7a')\">\n",
       "    <th class=\"mne-repr-section-toggle\">\n",
       "        <button >\n",
       "            <svg xmlns=\"http://www.w3.org/2000/svg\" viewBox=\"0 0 512 512\"><!--!Font Awesome Free 6.6.0 by @fontawesome - https://fontawesome.com License - https://fontawesome.com/license/free Copyright 2024 Fonticons, Inc.--><path d=\"M233.4 406.6c12.5 12.5 32.8 12.5 45.3 0l192-192c12.5-12.5 12.5-32.8 0-45.3s-32.8-12.5-45.3 0L256 338.7 86.6 169.4c-12.5-12.5-32.8-12.5-45.3 0s-12.5 32.8 0 45.3l192 192z\"/></svg>\n",
       "        </button>\n",
       "    </th>\n",
       "    <th colspan=\"2\">\n",
       "        <strong>Channels</strong>\n",
       "    </th>\n",
       "</tr>\n",
       "\n",
       "\n",
       "    \n",
       "<tr class=\"repr-element channels-2c9901c5-d367-453d-b72e-58ad08789c7a \">\n",
       "    <td class=\"mne-repr-section-toggle\"></td>\n",
       "    <td>EEG</td>\n",
       "    <td>\n",
       "        <button class=\"mne-ch-names-btn sd-sphinx-override sd-btn sd-btn-info sd-text-wrap sd-shadow-sm\" onclick=\"alert('Good EEG:\\n\\nFp1, Fz, F3, F7, FT9, FC5, FC1, C3, T7, TP9, CP5, CP1, Pz, P3, P7, O1, Oz, O2, P4, P8, TP10, CP6, CP2, Cz, C4, T8, FT10, FC6, FC2, F4, F8, Fp2, AF7, AF3, AFz, F1, F5, FT7, FC3, C1, C5, TP7, CP3, P1, P5, PO7, PO3, POz, PO4, PO8, P6, P2, CPz, CP4, TP8, C6, C2, FC4, FT8, F6, AF8, AF4, F2, PPG, ECG')\" title=\"(Click to open in popup)&#13;&#13;Fp1, Fz, F3, F7, FT9, FC5, FC1, C3, T7, TP9, CP5, CP1, Pz, P3, P7, O1, Oz, O2, P4, P8, TP10, CP6, CP2, Cz, C4, T8, FT10, FC6, FC2, F4, F8, Fp2, AF7, AF3, AFz, F1, F5, FT7, FC3, C1, C5, TP7, CP3, P1, P5, PO7, PO3, POz, PO4, PO8, P6, P2, CPz, CP4, TP8, C6, C2, FC4, FT8, F6, AF8, AF4, F2, PPG, ECG\">\n",
       "            65\n",
       "        </button>\n",
       "\n",
       "        \n",
       "    </td>\n",
       "</tr>\n",
       "\n",
       "\n",
       "<tr class=\"repr-element channels-2c9901c5-d367-453d-b72e-58ad08789c7a \">\n",
       "    <td class=\"mne-repr-section-toggle\"></td>\n",
       "    <td>Head & sensor digitization</td>\n",
       "    \n",
       "    <td>68 points</td>\n",
       "    \n",
       "</tr>\n",
       "    \n",
       "\n",
       "\n",
       "\n",
       "\n",
       "\n",
       "\n",
       "\n",
       "<tr class=\"mne-repr-section-header filters-b77d8d59-efad-4499-bcc1-29f4262080de\"\n",
       "     title=\"Hide section\" \n",
       "    onclick=\"toggleVisibility('filters-b77d8d59-efad-4499-bcc1-29f4262080de')\">\n",
       "    <th class=\"mne-repr-section-toggle\">\n",
       "        <button >\n",
       "            <svg xmlns=\"http://www.w3.org/2000/svg\" viewBox=\"0 0 512 512\"><!--!Font Awesome Free 6.6.0 by @fontawesome - https://fontawesome.com License - https://fontawesome.com/license/free Copyright 2024 Fonticons, Inc.--><path d=\"M233.4 406.6c12.5 12.5 32.8 12.5 45.3 0l192-192c12.5-12.5 12.5-32.8 0-45.3s-32.8-12.5-45.3 0L256 338.7 86.6 169.4c-12.5-12.5-32.8-12.5-45.3 0s-12.5 32.8 0 45.3l192 192z\"/></svg>\n",
       "        </button>\n",
       "    </th>\n",
       "    <th colspan=\"2\">\n",
       "        <strong>Filters</strong>\n",
       "    </th>\n",
       "</tr>\n",
       "\n",
       "\n",
       "<tr class=\"repr-element filters-b77d8d59-efad-4499-bcc1-29f4262080de \">\n",
       "    <td class=\"mne-repr-section-toggle\"></td>\n",
       "    <td>Highpass</td>\n",
       "    <td>0.00 Hz</td>\n",
       "</tr>\n",
       "\n",
       "\n",
       "<tr class=\"repr-element filters-b77d8d59-efad-4499-bcc1-29f4262080de \">\n",
       "    <td class=\"mne-repr-section-toggle\"></td>\n",
       "    <td>Lowpass</td>\n",
       "    <td>500.00 Hz</td>\n",
       "</tr>\n",
       "\n",
       "\n",
       "</table>"
      ],
      "text/plain": [
       "<RawEEGLAB | CLV002.set, 65 x 481064 (481.1 s), ~238.6 MiB, data loaded>"
      ]
     },
     "execution_count": 9,
     "metadata": {},
     "output_type": "execute_result"
    }
   ],
   "source": [
    "data"
   ]
  },
  {
   "cell_type": "code",
   "execution_count": 10,
   "id": "ab949c0a",
   "metadata": {},
   "outputs": [],
   "source": [
    "#specify line frequency\n",
    "data.info[\"line_freq\"] = 50"
   ]
  },
  {
   "cell_type": "code",
   "execution_count": 11,
   "id": "20ab2111",
   "metadata": {},
   "outputs": [
    {
     "data": {
      "text/plain": [
       "'C:\\\\N8_internship_code\\\\bids_example'"
      ]
     },
     "execution_count": 11,
     "metadata": {},
     "output_type": "execute_result"
    }
   ],
   "source": [
    "bids_root = op.join(data_dir.parent, \"bids_example\")\n",
    "bids_root"
   ]
  },
  {
   "cell_type": "code",
   "execution_count": 12,
   "id": "097e4d69",
   "metadata": {},
   "outputs": [
    {
     "name": "stdout",
     "output_type": "stream",
     "text": [
      "Writing 'C:\\N8_internship_code\\bids_example\\participants.tsv'...\n",
      "Writing 'C:\\N8_internship_code\\bids_example\\participants.json'...\n",
      "Writing 'C:/N8_internship_code/bids_example/sub-001/eeg/sub-001_space-CapTrak_electrodes.tsv'...\n",
      "Writing 'C:/N8_internship_code/bids_example/sub-001/eeg/sub-001_space-CapTrak_coordsystem.json'...\n",
      "The provided raw data contains annotations, but you did not pass an \"event_id\" mapping from annotation descriptions to event codes. We will generate arbitrary event codes. To specify custom event codes, please pass \"event_id\".\n",
      "Used Annotations descriptions: ['S 20', 'S 21', 'boundary']\n",
      "Writing 'C:\\N8_internship_code\\bids_example\\sub-001\\eeg\\sub-001_task-rest_events.tsv'...\n",
      "Writing 'C:\\N8_internship_code\\bids_example\\sub-001\\eeg\\sub-001_task-rest_events.json'...\n",
      "Writing 'C:\\N8_internship_code\\bids_example\\dataset_description.json'...\n",
      "Writing 'C:\\N8_internship_code\\bids_example\\sub-001\\eeg\\sub-001_task-rest_eeg.json'...\n",
      "Writing 'C:\\N8_internship_code\\bids_example\\sub-001\\eeg\\sub-001_task-rest_channels.tsv'...\n",
      "Copying data files to sub-001_task-rest_eeg.set\n"
     ]
    },
    {
     "name": "stderr",
     "output_type": "stream",
     "text": [
      "C:\\Users\\Ariana Williams\\AppData\\Local\\Temp\\ipykernel_17688\\1908755717.py:6: RuntimeWarning: Converting data files to EEGLAB format\n",
      "  write_raw_bids(data, bids_path, overwrite=True, allow_preload=True, format=\"EEGLAB\")\n"
     ]
    },
    {
     "name": "stdout",
     "output_type": "stream",
     "text": [
      "Writing 'C:\\N8_internship_code\\bids_example\\sub-001\\sub-001_scans.tsv'...\n",
      "Wrote C:\\N8_internship_code\\bids_example\\sub-001\\sub-001_scans.tsv entry with eeg\\sub-001_task-rest_eeg.set.\n"
     ]
    },
    {
     "data": {
      "text/plain": [
       "BIDSPath(\n",
       "root: C:/N8_internship_code/bids_example\n",
       "datatype: eeg\n",
       "basename: sub-001_task-rest_eeg.set)"
      ]
     },
     "execution_count": 12,
     "metadata": {},
     "output_type": "execute_result"
    }
   ],
   "source": [
    "#Edit this information ot match your data\n",
    "subject_id = \"001\"\n",
    "task = \"rest\"\n",
    "\n",
    "bids_path = BIDSPath(subject=subject_id, task=task, root=bids_root)\n",
    "write_raw_bids(data, bids_path, overwrite=True, allow_preload=True, format=\"EEGLAB\")"
   ]
  },
  {
   "cell_type": "code",
   "execution_count": 13,
   "id": "a95ac32e",
   "metadata": {},
   "outputs": [
    {
     "name": "stdout",
     "output_type": "stream",
     "text": [
      "Writing 'C:\\N8_internship_code\\bids_example\\dataset_description.json'...\n"
     ]
    }
   ],
   "source": [
    "#creating a dataset description JSON file (separate to other data entry types) [for people who want a better description of their dataset than previously provided] \n",
    "# #{will overwrite any existing dataset_description.json file in the root of the BIDS directory}\n",
    "make_dataset_description(\n",
    "    path=bids_root,\n",
    "    name=\"EEGManyLabs Resting State Study\", \n",
    "    hed_version=\"1\",\n",
    "    dataset_type='raw',\n",
    "    data_license=\"CCO\",\n",
    "    authors=[\"Ariana Williams\", \"Daniel Brady\"],\n",
    "    acknowledgements=None,\n",
    "    how_to_acknowledge=\"Cite (Williams et al., 2025) when using this dataset\",\n",
    "    funding=[\"The NHS\", \"The Uk government\"],\n",
    "    ethics_approvals=\"Ethical approval was granted by the University of Leeds School of Psychology Ethics committee (12345 2025)\",\n",
    "    references_and_links=\"https://mne.tools/mne-bids/stable/whats_new_previous_releases.html\",\n",
    "    doi=\"doi:https://doi.org/10.1016/j.tins.2017.02.004\",\n",
    "    generated_by=[\n",
    "        {\n",
    "            \"Name\": \"MNE-BIDS\",\n",
    "            \"Version\": \"0.14\",\n",
    "            \"Description\": \"Used to convert MEG data into BIDS format.\"\n",
    "        },\n",
    "        {\n",
    "            \"Name\": \"MNE-Python\",\n",
    "            \"Version\": \"1.6.1\",\n",
    "            \"Description\": \"Used for MEG preprocessing and analysis.\"\n",
    "        }\n",
    "    ],\n",
    "    source_datasets=[\n",
    "        {\n",
    "            \"URL\": \"https://example.com/source_dataset\",\n",
    "            \"DOI\": \"10.1234/example.doi\",\n",
    "        }],\n",
    "            overwrite=True,\n",
    "            verbose=True)"
   ]
  },
  {
   "cell_type": "code",
   "execution_count": null,
   "id": "4e6b7174",
   "metadata": {},
   "outputs": [
    {
     "name": "stdout",
     "output_type": "stream",
     "text": [
      "Writing 'C:\\N8_internship_code\\bids_example\\sub-001\\eeg\\sub-001_task-rest_eeg.json'...\n"
     ]
    }
   ],
   "source": [
    "#updating a specific parameter in a JSON [SIDECAR]\n",
    "json_file = Path(r'C:\\N8_internship_code\\bids_example\\sub-001\\eeg\\sub-001_task-rest_eeg.json').absolute()\n",
    "# Create BIDSPath using the JSON file's directory as root\n",
    "root = (r'C:\\N8_internship_code\\bids_example')\n",
    "\n",
    "bids_path1 = BIDSPath(subject='001', task='rest',\n",
    "                     suffix='eeg', extension='.json', datatype='eeg',\n",
    "                     root=root)\n",
    "\n",
    "entries = {'EEGReference' : \"FCz\",\n",
    "           'SamplingFrequency': 1000.0,\n",
    "           'PowerLineFrequency': 50.0,\n",
    "           'SoftwareFilters': {\n",
    "                \"Anti-aliasing filter\":{\n",
    "                \"half-amplitude cutoff (Hz)\": 500,\n",
    "                \"Roll-off\": \"6dB/Octave\"\n",
    "                }\n",
    "                },\n",
    "            'TaskName': \"Resting State\",\n",
    "            'TaskDescription': \"Participants were asked to rest with their eyes closed for 5 minutes.\",\n",
    "            'Instructions': \"Please close your eyes and relax. Do not think about anything in particular.\",\n",
    "            'CogAtlasID': \"\", \n",
    "            'CogPOID': \"\",    \n",
    "            'Manufacturer': \"Brain Products GmbH\",\n",
    "            'ManufacturersModelName':\"Brain Products actiCHamp\",\n",
    "            'CapManufacturer': \"EasyCap\",\n",
    "            'CapManufacturersModelName': \"EasyCap 64-channel cap\",\n",
    "            'SoftwareVersions' : {\n",
    "                'MNE-BIDS': \"1.0.0\",\n",
    "                'MNE-Python': \"1.6.1\"\n",
    "                },\n",
    "            'DeviceSerialNumber': \"123456789\",\n",
    "            'EEGChannelCount': 64,\n",
    "            'ECGChannelCount': 2,\n",
    "            'EMGChannelCount': 0,\n",
    "            'EOGChannelCount': 0,\n",
    "            'MiscChannelCount': 0,\n",
    "            'TriggerChannelCount': 0,\n",
    "            'RecordingDuration': 600,\n",
    "            'RecordingType': \"Continuous\",\n",
    "            'EpochLength': 2.0,\n",
    "            'EEGGround':\"Fpz\", \n",
    "            'HeadCircumference': 58.0,\n",
    "            'EEGPlacementScheme': \"10 percent system\",\n",
    "            'HardwareFilters':{\n",
    "               \"ADC's decimation filter (hardware bandwidth limit)\":{\n",
    "                \"-3dB cutoff point (Hz)\": 480,\n",
    "                \"Filter order sinc response\": 5\n",
    "                }\n",
    "                },\n",
    "            'SubjectArtefactDescription': \"No known artifacts were present during the recording.\",\n",
    "            'InstitutionName': \"University of Leeds\",\n",
    "            'InstitutionAddress': \"Leeds, UK\", \n",
    "            'InstitutionalDepartmentName': \"School of Psychology\", \n",
    "            'ElectricalStimulation': \"\",\n",
    "            'ElectricalStimulationParameters': \"\"}\n",
    "           \n",
    "update_sidecar_json(bids_path1, entries, verbose=True)"
   ]
  },
  {
   "cell_type": "code",
   "execution_count": 15,
   "id": "ee71ba86",
   "metadata": {},
   "outputs": [
    {
     "name": "stdout",
     "output_type": "stream",
     "text": [
      "Writing 'C:\\N8_internship_code\\bids_example\\sub-001\\eeg\\sub-001_space-CapTrak_coordsystem.json'...\n"
     ]
    }
   ],
   "source": [
    "#updating a specific parameter in a JSON [COORDSYSTEM]\n",
    "json_file = Path(r'C:\\N8_internship_code\\bids_example\\sub-001\\eeg\\sub-001_space-CapTrak_coordsystem.json').absolute()\n",
    "# Create BIDSPath using the JSON file's directory as root\n",
    "root = Path(r'C:\\N8_internship_code\\bids_example')\n",
    "\n",
    "\n",
    "bids_path1 = BIDSPath(subject='001', task=None,\n",
    "                     suffix='coordsystem', extension='.json', datatype='eeg',\n",
    "                     root=root, space='CapTrak')\n",
    "\n",
    "entries = {'EEGCoordinateSystem':\"CapTrak\",\n",
    "           'EEGCoordinateUnits':\"m\",\n",
    "           'EEGCoordinateSystemDescription': \"CapTrak is a 3D digitization system that provides accurate spatial coordinates for EEG electrode placement.\",\n",
    "           'FiducialsDescription': \"Fiducials are anatomical landmarks used to align the EEG cap with the participant's head. The fiducials used in this study were Nasion, Left Preauricular, and Right Preauricular.\",\n",
    "           'FiducialsCoordinates': {\n",
    "                'Nasion': [0.0, 0.0, 0.0],\n",
    "                'Left Preauricular': [-0.1, 0.0, 0.0],\n",
    "                'Right Preauricular': [0.1, 0.0, 0.0]\n",
    "           },\n",
    "           'FiducialsCoordinateSystem': \"CapTrak\",\n",
    "            'FiducialsCoordinateUnits': \"m\",\n",
    "            'FiducialsCoordinateSystemDescription': \"CapTrak fiducials are defined in a 3D coordinate system that aligns with the participant's head.\",\n",
    "            'AnatomicalLandmarkCoordinates': {\n",
    "                'Nasion': [0.0, 0.0, 0.0],\n",
    "                'Left Preauricular': [-0.1, 0.0, 0.0],\n",
    "                'Right Preauricular': [0.1, 0.0, 0.0]\n",
    "            },\n",
    "            'AnatomicalLandmarkCoordinateSystem': \"CapTrak\",\n",
    "            'AnatomicalLandmarkCoordinateUnits': \"m\",\n",
    "            'AnatomicalLandmarkCoordinateSystemDescription': \"CapTrak anatomical landmarks are defined in a 3D coordinate system that aligns with the participant's head.\"\n",
    "            }       \n",
    "update_sidecar_json(bids_path1, entries, verbose=True)"
   ]
  },
  {
   "cell_type": "code",
   "execution_count": 16,
   "id": "f8199444",
   "metadata": {},
   "outputs": [
    {
     "name": "stdout",
     "output_type": "stream",
     "text": [
      "Writing 'C:\\N8_internship_code\\bids_example\\sub-001\\eeg\\sub-001_task-rest_events.json'...\n"
     ]
    }
   ],
   "source": [
    "#updating a specific parameter in a JSON [EVENTS]\n",
    "json_file = Path(r'C:\\N8_internship_code\\bids_example\\sub-001\\eeg\\sub-001_task-rest_events.json').absolute()\n",
    "# Create BIDSPath using the JSON file's directory as root\n",
    "root = (r'C:\\N8_internship_code\\bids_example')\n",
    "\n",
    "\n",
    "bids_path1 = BIDSPath(subject='001', task='rest',\n",
    "                     suffix='events', extension='.json', datatype='eeg',\n",
    "                     root=root)\n",
    "\n",
    "entries = {'Onset':{'Description': \"Onset time of the event in seconds relative to the start of the recording.\", 'Units': \"seconds\"},\n",
    "        'Duration':{'Description': \"Duration of the event in seconds.\", 'Units': \"Seconds\"},\n",
    "        'TrialType':{'LongName':\"Event Category\", \n",
    "                     'Description': \"Indicator of the type of action that is expected.\", \n",
    "                     'Levels': {\n",
    "                        'Start': \"A red square appears on the screen to indicate the start of a trial.\",\n",
    "                        'Stop': \"A green square appears on the screen to indicate the end of a trial\"}\n",
    "                     },\n",
    "        'ResponseTime':{'Description': \"Time taken by the participant to respond to the event in seconds.\", 'Units': \"seconds\"},\n",
    "        'HED': {'musc': \"EMG-artifact\"},\n",
    "        'Stim File': {'Description': \"File containing the stimulus presentation information for the event.\", 'FileType': \"CSV\", 'FilePath': \"sub-001_task-rest_stim.csv\"},\n",
    "        'Channel': {'Description': \"Channel used to record the event.\", 'Type': \"Trigger\"}\n",
    "        }       \n",
    "update_sidecar_json(bids_path1, entries, verbose=True)"
   ]
  },
  {
   "cell_type": "code",
   "execution_count": 17,
   "id": "af41e8fd",
   "metadata": {},
   "outputs": [
    {
     "name": "stdout",
     "output_type": "stream",
     "text": [
      "Writing 'C:\\N8_internship_code\\bids_example\\participants.json'...\n"
     ]
    }
   ],
   "source": [
    "#code for adding information to the participants.json file\n",
    "#updating a specific parameter in a JSON\n",
    "json_file = Path(r'C:\\N8_internship_code\\bids_example\\participants.json').absolute()\n",
    "# Create BIDSPath using the JSON file's directory as root\n",
    "root = (r'C:\\N8_internship_code\\bids_example')\n",
    "\n",
    "\n",
    "bids_path1 = BIDSPath(subject=None, task=None,\n",
    "                     suffix='participants', extension='.json', datatype=None,\n",
    "                     root=root)\n",
    "\n",
    "entries = {'Partiipant ID':{'Description': \"Unique Participant identifier\"}, \n",
    "           'Species': {'Description': \"Species of the participant\"}, \n",
    "           'Age': {'Description': \"Age of the participant at time of testing\", 'Units': \"Years\"}, \n",
    "           'Sex': {'Description': \"Biological sex of the participant\", \n",
    "                   'Levels': {\n",
    "                       \"F\":'Female',\n",
    "                       \"M\":'Male'\n",
    "                   }\n",
    "                },\n",
    "            'Handedness': {'Description': \"Handedness of the participant\",\n",
    "                        'Levels': {\n",
    "                            \"R\": \"Right-handed\",\n",
    "                            \"L\": \"Left-handed\",\n",
    "                            \"A\": \"Ambidextrous\"\n",
    "                        }\n",
    "                },\n",
    "            'Strain': {'Description': \"Strain of the participant, if applicable\"},\n",
    "            'Strain RRID': {'Description': \"Strain RRI ID of the participant, if applicable\"},\n",
    "        }       \n",
    "update_sidecar_json(bids_path1, entries, verbose=True)"
   ]
  },
  {
   "cell_type": "markdown",
   "id": "4cac9370",
   "metadata": {},
   "source": [
    "This is the extended code, the first bit should be automatically done in the pipeline, I can edit this to just update some parameters\n",
    "\n",
    "Necessary:\n",
    ">\n",
    "    1. Participant ID \n",
    "\n",
    "Recommended:\n",
    ">\n",
    "    2. Species\n",
    "    3. Age\n",
    "    set_meas_date()\n",
    "    4. Sex\n",
    "    5. Handedness\n",
    "    6. Strain\n",
    "    7. Strain RRID\n",
    ">\n",
    "Optional:\n",
    ">\n",
    "    - Additional participant information may be included to further bolster your metadata."
   ]
  },
  {
   "cell_type": "code",
   "execution_count": 18,
   "id": "94ed73f1",
   "metadata": {},
   "outputs": [
    {
     "data": {
      "text/plain": [
       "dict_keys(['acq_pars', 'acq_stim', 'ctf_head_t', 'description', 'dev_ctf_t', 'dig', 'experimenter', 'utc_offset', 'device_info', 'file_id', 'highpass', 'hpi_subsystem', 'kit_system_id', 'helium_info', 'line_freq', 'lowpass', 'meas_date', 'meas_id', 'proj_id', 'proj_name', 'subject_info', 'xplotter_layout', 'gantry_angle', 'bads', 'chs', 'comps', 'events', 'hpi_meas', 'hpi_results', 'projs', 'proc_history', 'custom_ref_applied', 'sfreq', 'dev_head_t', 'ch_names', 'nchan'])"
      ]
     },
     "execution_count": 18,
     "metadata": {},
     "output_type": "execute_result"
    }
   ],
   "source": [
    "data.info.keys()"
   ]
  },
  {
   "cell_type": "code",
   "execution_count": 19,
   "id": "7bfc43bf",
   "metadata": {},
   "outputs": [
    {
     "name": "stdout",
     "output_type": "stream",
     "text": [
      "1985-06-07 00:00:00+00:00\n"
     ]
    }
   ],
   "source": [
    "from datetime import datetime, timezone\n",
    "from dateutil.relativedelta import relativedelta\n",
    "\n",
    "# Generates the (approx) birthdate of the participant based on the measurement date and age\n",
    "\n",
    "data.set_meas_date(datetime(2015, 6, 7, tzinfo= timezone.utc))\n",
    "\n",
    "recording_date = data.info[\"meas_date\"]\n",
    "\n",
    "Birthdate = recording_date - relativedelta(years=30)\n",
    "print(Birthdate)\n"
   ]
  },
  {
   "cell_type": "code",
   "execution_count": 20,
   "id": "2ff0d2e5",
   "metadata": {},
   "outputs": [],
   "source": [
    "data.info[\"subject_info\"] = {\n",
    "    \"id\": 1,\n",
    "    \"his_id\": \"sub-001\",\n",
    "    \"last_name\": \"Doe\",\n",
    "    \"first_name\": \"John\",\n",
    "    \"middle_name\": \"A\",\n",
    "    \"birthday\": Birthdate,\n",
    "    \"sex\": 2,\n",
    "    \"hand\": 1,\n",
    "    \"weight\": 70.0,\n",
    "    \"height\": 175.0,\n",
    "}"
   ]
  },
  {
   "cell_type": "code",
   "execution_count": 21,
   "id": "a9aca2dd",
   "metadata": {},
   "outputs": [
    {
     "data": {
      "text/plain": [
       "<subject_info | id: 1, his_id: sub-001, last_name: Doe, first_name: John, middle_name: A, birthday: 1985-06-07 00:00:00+00:00, sex: 2, hand: 1, weight: 70.0, height: 175.0>"
      ]
     },
     "execution_count": 21,
     "metadata": {},
     "output_type": "execute_result"
    }
   ],
   "source": [
    "data.info[\"subject_info\"]\n"
   ]
  },
  {
   "cell_type": "code",
   "execution_count": 22,
   "id": "bae35efd",
   "metadata": {},
   "outputs": [
    {
     "data": {
      "text/plain": [
       "<DigMontage | 0 extras (headshape), 0 HPIs, 3 fiducials, 65 channels>"
      ]
     },
     "execution_count": 22,
     "metadata": {},
     "output_type": "execute_result"
    }
   ],
   "source": [
    "data.get_montage()"
   ]
  },
  {
   "cell_type": "code",
   "execution_count": 36,
   "id": "dea3d0b5",
   "metadata": {},
   "outputs": [],
   "source": [
    "from datetime import datetime, timezone\n",
    "from dateutil.relativedelta import relativedelta\n",
    "from mne.transforms import Transform\n",
    "\n",
    "data.info[\"device_info\"] = {\n",
    "    \"type\": _,\n",
    "    \"model\": \"_\",\n",
    "    \"serial\": \"_\",\n",
    "    \"site\": \"_\"\n",
    "    }\n",
    "\n",
    "\n",
    "\n",
    "# Generates the (approx) birthdate of the participant based on the measurement date and age\n",
    "data.set_meas_date(datetime(2015, 6, 7, tzinfo= timezone.utc))\n",
    "recording_date = data.info[\"meas_date\"]\n",
    "Birthdate = recording_date - relativedelta(years=30)\n",
    "\n",
    "\n",
    "data.info[\"subject_info\"] = {\n",
    "    \"id\": 1,\n",
    "    \"his_id\": \"sub-001\",\n",
    "    \"last_name\": \"Doe\",\n",
    "    \"first_name\": \"John\",\n",
    "    \"middle_name\": \"A\",\n",
    "    \"birthday\": Birthdate,\n",
    "    \"sex\": 2,\n",
    "    \"hand\": 1,\n",
    "    \"weight\": 70.0,\n",
    "    \"height\": 175.0,\n",
    "}\n",
    "\n",
    "data.info[\"line_freq\"] = 50\n",
    "\n",
    "data.info[\"bads\"] = [\"C3\", \"F3\" ]\n",
    "\n",
    "data.info[\"description\"] = \"a restingstate dataset\"\n",
    "\n",
    "data.info[\"dev_head_t\"] = Transform(\"meg\", \"head\")\n",
    "\n",
    "data.info[\"experimenter\"] = \"John Doe\"\n",
    "\n",
    "data.info[\"helium_info\"] = {\n",
    "    \"he_level_raw\": 20,\n",
    "    \"helium_level\": 12,\n",
    "    \"orig_file_guid\": \"_\",\n",
    "    \"meas_date\": (datetime(2015, 6, 7, tzinfo= timezone.utc))\n",
    "    }\n"
   ]
  },
  {
   "cell_type": "code",
   "execution_count": 45,
   "id": "dfed854c",
   "metadata": {},
   "outputs": [
    {
     "ename": "RuntimeError",
     "evalue": "proj_name cannot be set directly.",
     "output_type": "error",
     "traceback": [
      "\u001b[1;31m---------------------------------------------------------------------------\u001b[0m",
      "\u001b[1;31mRuntimeError\u001b[0m                              Traceback (most recent call last)",
      "Cell \u001b[1;32mIn[45], line 1\u001b[0m\n\u001b[1;32m----> 1\u001b[0m \u001b[43mdata\u001b[49m\u001b[38;5;241;43m.\u001b[39;49m\u001b[43minfo\u001b[49m\u001b[43m[\u001b[49m\u001b[38;5;124;43m\"\u001b[39;49m\u001b[38;5;124;43mproj_name\u001b[39;49m\u001b[38;5;124;43m\"\u001b[39;49m\u001b[43m]\u001b[49m \u001b[38;5;241m=\u001b[39m \u001b[38;5;124m\"\u001b[39m\u001b[38;5;124mEEGManyLabs restingstate\u001b[39m\u001b[38;5;124m\"\u001b[39m\n",
      "File \u001b[1;32mc:\\Users\\Ariana\\Lib\\site-packages\\mne\\_fiff\\meas_info.py:958\u001b[0m, in \u001b[0;36mValidatedDict.__setitem__\u001b[1;34m(self, key, val)\u001b[0m\n\u001b[0;32m    956\u001b[0m \u001b[38;5;28;01mif\u001b[39;00m \u001b[38;5;28misinstance\u001b[39m(\u001b[38;5;28mself\u001b[39m\u001b[38;5;241m.\u001b[39m_attributes[key], \u001b[38;5;28mstr\u001b[39m):\n\u001b[0;32m    957\u001b[0m     \u001b[38;5;28;01mif\u001b[39;00m \u001b[38;5;129;01mnot\u001b[39;00m unlocked:\n\u001b[1;32m--> 958\u001b[0m         \u001b[38;5;28;01mraise\u001b[39;00m \u001b[38;5;167;01mRuntimeError\u001b[39;00m(\u001b[38;5;28mself\u001b[39m\u001b[38;5;241m.\u001b[39m_attributes[key])\n\u001b[0;32m    959\u001b[0m \u001b[38;5;28;01melse\u001b[39;00m:\n\u001b[0;32m    960\u001b[0m     val \u001b[38;5;241m=\u001b[39m \u001b[38;5;28mself\u001b[39m\u001b[38;5;241m.\u001b[39m_attributes[key](\n\u001b[0;32m    961\u001b[0m         val, info\u001b[38;5;241m=\u001b[39m\u001b[38;5;28mself\u001b[39m\n\u001b[0;32m    962\u001b[0m     )  \u001b[38;5;66;03m# attribute checker function\u001b[39;00m\n",
      "\u001b[1;31mRuntimeError\u001b[0m: proj_name cannot be set directly."
     ]
    }
   ],
   "source": [
    "data.info[\"proj_name\"] = \"EEGManyLabs restingstate\""
   ]
  },
  {
   "cell_type": "code",
   "execution_count": 37,
   "id": "31c9f2df",
   "metadata": {},
   "outputs": [
    {
     "data": {
      "text/html": [
       "<script type=\"text/javascript\">\n",
       "    // must be `var` (not `const`) because this can get embedded multiple times on a page\n",
       "var toggleVisibility = (className) => {\n",
       "\n",
       "    const elements = document.querySelectorAll(`.${className}`);\n",
       "\n",
       "    elements.forEach(element => {\n",
       "        if (element.classList.contains(\"mne-repr-section-header\")) {\n",
       "            return  // Don't collapse the section header row\n",
       "        }\n",
       "        element.classList.toggle(\"mne-repr-collapsed\");\n",
       "    });\n",
       "\n",
       "    // trigger caret to rotate\n",
       "    var sel = `.mne-repr-section-header.${className} > th.mne-repr-section-toggle > button`;\n",
       "    const button = document.querySelector(sel);\n",
       "    button.classList.toggle(\"collapsed\");\n",
       "\n",
       "    // adjust tooltip\n",
       "    sel = `tr.mne-repr-section-header.${className}`;\n",
       "    const secHeadRow = document.querySelector(sel);\n",
       "    secHeadRow.classList.toggle(\"collapsed\");\n",
       "    secHeadRow.title = secHeadRow.title === \"Hide section\" ? \"Show section\" : \"Hide section\";\n",
       "}\n",
       "</script>\n",
       "\n",
       "<style type=\"text/css\">\n",
       "    /*\n",
       "Styles in this section apply both to the sphinx-built website docs and to notebooks\n",
       "rendered in an IDE or in Jupyter. In our web docs, styles here are complemented by\n",
       "doc/_static/styles.css and other CSS files (e.g. from the sphinx theme, sphinx-gallery,\n",
       "or bootstrap). In IDEs/Jupyter, those style files are unavailable, so only the rules in\n",
       "this file apply (plus whatever default styling the IDE applies).\n",
       "*/\n",
       ".mne-repr-table {\n",
       "    display: inline;  /* prevent using full container width */\n",
       "}\n",
       ".mne-repr-table tr.mne-repr-section-header > th {\n",
       "    padding-top: 1rem;\n",
       "    text-align: left;\n",
       "    vertical-align: middle;\n",
       "}\n",
       ".mne-repr-section-toggle > button {\n",
       "    all: unset;\n",
       "    display: block;\n",
       "    height: 1rem;\n",
       "    width: 1rem;\n",
       "}\n",
       ".mne-repr-section-toggle > button > svg {\n",
       "    height: 60%;\n",
       "}\n",
       "\n",
       "/* transition (rotation) effects on the collapser button */\n",
       ".mne-repr-section-toggle > button.collapsed > svg {\n",
       "    transition: 0.1s ease-out;\n",
       "    transform: rotate(-90deg);\n",
       "}\n",
       ".mne-repr-section-toggle > button:not(.collapsed) > svg {\n",
       "    transition: 0.1s ease-out;\n",
       "    transform: rotate(0deg);\n",
       "}\n",
       "\n",
       "/* hide collapsed table rows */\n",
       ".mne-repr-collapsed {\n",
       "    display: none;\n",
       "}\n",
       "\n",
       "\n",
       "@layer {\n",
       "    /*\n",
       "    Selectors in a `@layer` will always be lower-precedence than selectors outside the\n",
       "    layer. So even though e.g. `div.output_html` is present in the sphinx-rendered\n",
       "    website docs, the styles here won't take effect there as long as some other rule\n",
       "    somewhere in the page's CSS targets the same element.\n",
       "\n",
       "    In IDEs or Jupyter notebooks, though, the CSS files from the sphinx theme,\n",
       "    sphinx-gallery, and bootstrap are unavailable, so these styles will apply.\n",
       "\n",
       "    Notes:\n",
       "\n",
       "    - the selector `.accordion-body` is for MNE Reports\n",
       "    - the selector `.output_html` is for VSCode's notebook interface\n",
       "    - the selector `.jp-RenderedHTML` is for Jupyter notebook\n",
       "    - variables starting with `--theme-` are VSCode-specific.\n",
       "    - variables starting with `--jp-` are Jupyter styles, *some of which* are also\n",
       "      available in VSCode. Here we try the `--theme-` variable first, then fall back to\n",
       "      the `--jp-` ones.\n",
       "    */\n",
       "    .mne-repr-table {\n",
       "        --mne-toggle-color: var(--theme-foreground, var(--jp-ui-font-color1));\n",
       "        --mne-button-bg-color: var(--theme-button-background, var(--jp-info-color0, var(--jp-content-link-color)));\n",
       "        --mne-button-fg-color: var(--theme-button-foreground, var(--jp-ui-inverse-font-color0, var(--jp-editor-background)));\n",
       "        --mne-button-hover-bg-color: var(--theme-button-hover-background, var(--jp-info-color1));\n",
       "        --mne-button-radius: var(--jp-border-radius, 0.25rem);\n",
       "    }\n",
       "    /* chevron position/alignment; in VSCode it looks ok without adjusting */\n",
       "    .accordion-body .mne-repr-section-toggle > button,\n",
       "    .jp-RenderedHTML .mne-repr-section-toggle > button {\n",
       "        padding: 0 0 45% 25% !important;\n",
       "    }\n",
       "    /* chevron color; MNE Report doesn't have light/dark mode */\n",
       "    div.output_html .mne-repr-section-toggle > button > svg > path,\n",
       "    .jp-RenderedHTML .mne-repr-section-toggle > button > svg > path {\n",
       "        fill: var(--mne-toggle-color);\n",
       "    }\n",
       "    .accordion-body .mne-ch-names-btn,\n",
       "    div.output_html .mne-ch-names-btn,\n",
       "    .jp-RenderedHTML .mne-ch-names-btn {\n",
       "        -webkit-border-radius: var(--mne-button-radius);\n",
       "        -moz-border-radius: var(--mne-button-radius);\n",
       "        border-radius: var(--mne-button-radius);\n",
       "        border: none;\n",
       "        background-image: none;\n",
       "        background-color: var(--mne-button-bg-color);\n",
       "        color: var(--mne-button-fg-color);\n",
       "        font-size: inherit;\n",
       "        min-width: 1.5rem;\n",
       "        padding: 0.25rem;\n",
       "        text-align: center;\n",
       "        text-decoration: none;\n",
       "    }\n",
       "    .accordion-body .mne-ch-names-btn:hover,\n",
       "    div.output_html .mne.ch-names-btn:hover,\n",
       "    .jp-RenderedHTML .mne-ch-names-btn:hover {\n",
       "        background-color: var(--mne-button-hover-bg-color);\n",
       "        text-decoration: underline;\n",
       "    }\n",
       "    .accordion-body .mne-ch-names-btn:focus-visible,\n",
       "    div.output_html .mne-ch-names-btn:focus-visible,\n",
       "    .jp-RenderedHTML .mne-ch-names-btn:focus-visible {\n",
       "        outline: 0.1875rem solid var(--mne-button-bg-color) !important;\n",
       "        outline-offset: 0.1875rem !important;\n",
       "    }\n",
       "}\n",
       "</style>\n",
       "\n",
       "\n",
       "\n",
       "<table class=\"table mne-repr-table\">\n",
       "    \n",
       "\n",
       "\n",
       "\n",
       "\n",
       "\n",
       "\n",
       "\n",
       "<tr class=\"mne-repr-section-header general-86527f8a-8a4d-4606-84c0-247cc451139c\"\n",
       "     title=\"Hide section\" \n",
       "    onclick=\"toggleVisibility('general-86527f8a-8a4d-4606-84c0-247cc451139c')\">\n",
       "    <th class=\"mne-repr-section-toggle\">\n",
       "        <button >\n",
       "            <svg xmlns=\"http://www.w3.org/2000/svg\" viewBox=\"0 0 512 512\"><!--!Font Awesome Free 6.6.0 by @fontawesome - https://fontawesome.com License - https://fontawesome.com/license/free Copyright 2024 Fonticons, Inc.--><path d=\"M233.4 406.6c12.5 12.5 32.8 12.5 45.3 0l192-192c12.5-12.5 12.5-32.8 0-45.3s-32.8-12.5-45.3 0L256 338.7 86.6 169.4c-12.5-12.5-32.8-12.5-45.3 0s-12.5 32.8 0 45.3l192 192z\"/></svg>\n",
       "        </button>\n",
       "    </th>\n",
       "    <th colspan=\"2\">\n",
       "        <strong>General</strong>\n",
       "    </th>\n",
       "</tr>\n",
       "\n",
       "\n",
       "<tr class=\"repr-element general-86527f8a-8a4d-4606-84c0-247cc451139c \">\n",
       "    <td class=\"mne-repr-section-toggle\"></td>\n",
       "    <td>MNE object type</td>\n",
       "    <td>Info</td>\n",
       "</tr>\n",
       "<tr class=\"repr-element general-86527f8a-8a4d-4606-84c0-247cc451139c \">\n",
       "    <td class=\"mne-repr-section-toggle\"></td>\n",
       "    <td>Measurement date</td>\n",
       "    \n",
       "    <td>2015-06-07 at 00:00:00 UTC</td>\n",
       "    \n",
       "</tr>\n",
       "<tr class=\"repr-element general-86527f8a-8a4d-4606-84c0-247cc451139c \">\n",
       "    <td class=\"mne-repr-section-toggle\"></td>\n",
       "    <td>Participant</td>\n",
       "    \n",
       "    \n",
       "    <td>sub-001</td>\n",
       "    \n",
       "    \n",
       "</tr>\n",
       "<tr class=\"repr-element general-86527f8a-8a4d-4606-84c0-247cc451139c \">\n",
       "    <td class=\"mne-repr-section-toggle\"></td>\n",
       "    <td>Experimenter</td>\n",
       "    \n",
       "    <td>John Doe</td>\n",
       "    \n",
       "</tr>\n",
       "    \n",
       "\n",
       "\n",
       "\n",
       "\n",
       "\n",
       "\n",
       "\n",
       "<tr class=\"mne-repr-section-header acquisition-5a30a0bd-01ab-49dc-bf7c-4d8eaeac1860\"\n",
       "     title=\"Hide section\" \n",
       "    onclick=\"toggleVisibility('acquisition-5a30a0bd-01ab-49dc-bf7c-4d8eaeac1860')\">\n",
       "    <th class=\"mne-repr-section-toggle\">\n",
       "        <button >\n",
       "            <svg xmlns=\"http://www.w3.org/2000/svg\" viewBox=\"0 0 512 512\"><!--!Font Awesome Free 6.6.0 by @fontawesome - https://fontawesome.com License - https://fontawesome.com/license/free Copyright 2024 Fonticons, Inc.--><path d=\"M233.4 406.6c12.5 12.5 32.8 12.5 45.3 0l192-192c12.5-12.5 12.5-32.8 0-45.3s-32.8-12.5-45.3 0L256 338.7 86.6 169.4c-12.5-12.5-32.8-12.5-45.3 0s-12.5 32.8 0 45.3l192 192z\"/></svg>\n",
       "        </button>\n",
       "    </th>\n",
       "    <th colspan=\"2\">\n",
       "        <strong>Acquisition</strong>\n",
       "    </th>\n",
       "</tr>\n",
       "\n",
       "\n",
       "\n",
       "\n",
       "\n",
       "\n",
       "\n",
       "\n",
       "\n",
       "<tr class=\"repr-element acquisition-5a30a0bd-01ab-49dc-bf7c-4d8eaeac1860 \">\n",
       "    <td class=\"mne-repr-section-toggle\"></td>\n",
       "    <td>Sampling frequency</td>\n",
       "    <td>1000.00 Hz</td>\n",
       "</tr>\n",
       "\n",
       "\n",
       "\n",
       "    \n",
       "\n",
       "\n",
       "\n",
       "\n",
       "\n",
       "\n",
       "\n",
       "<tr class=\"mne-repr-section-header channels-3f4f6aeb-75c9-400e-91fd-b1f4977c350e\"\n",
       "     title=\"Hide section\" \n",
       "    onclick=\"toggleVisibility('channels-3f4f6aeb-75c9-400e-91fd-b1f4977c350e')\">\n",
       "    <th class=\"mne-repr-section-toggle\">\n",
       "        <button >\n",
       "            <svg xmlns=\"http://www.w3.org/2000/svg\" viewBox=\"0 0 512 512\"><!--!Font Awesome Free 6.6.0 by @fontawesome - https://fontawesome.com License - https://fontawesome.com/license/free Copyright 2024 Fonticons, Inc.--><path d=\"M233.4 406.6c12.5 12.5 32.8 12.5 45.3 0l192-192c12.5-12.5 12.5-32.8 0-45.3s-32.8-12.5-45.3 0L256 338.7 86.6 169.4c-12.5-12.5-32.8-12.5-45.3 0s-12.5 32.8 0 45.3l192 192z\"/></svg>\n",
       "        </button>\n",
       "    </th>\n",
       "    <th colspan=\"2\">\n",
       "        <strong>Channels</strong>\n",
       "    </th>\n",
       "</tr>\n",
       "\n",
       "\n",
       "    \n",
       "<tr class=\"repr-element channels-3f4f6aeb-75c9-400e-91fd-b1f4977c350e \">\n",
       "    <td class=\"mne-repr-section-toggle\"></td>\n",
       "    <td>EEG</td>\n",
       "    <td>\n",
       "        <button class=\"mne-ch-names-btn sd-sphinx-override sd-btn sd-btn-info sd-text-wrap sd-shadow-sm\" onclick=\"alert('Good EEG:\\n\\nFp1, Fz, F7, FT9, FC5, FC1, T7, TP9, CP5, CP1, Pz, P3, P7, O1, Oz, O2, P4, P8, TP10, CP6, CP2, Cz, C4, T8, FT10, FC6, FC2, F4, F8, Fp2, AF7, AF3, AFz, F1, F5, FT7, FC3, C1, C5, TP7, CP3, P1, P5, PO7, PO3, POz, PO4, PO8, P6, P2, CPz, CP4, TP8, C6, C2, FC4, FT8, F6, AF8, AF4, F2, PPG, ECG')\" title=\"(Click to open in popup)&#13;&#13;Fp1, Fz, F7, FT9, FC5, FC1, T7, TP9, CP5, CP1, Pz, P3, P7, O1, Oz, O2, P4, P8, TP10, CP6, CP2, Cz, C4, T8, FT10, FC6, FC2, F4, F8, Fp2, AF7, AF3, AFz, F1, F5, FT7, FC3, C1, C5, TP7, CP3, P1, P5, PO7, PO3, POz, PO4, PO8, P6, P2, CPz, CP4, TP8, C6, C2, FC4, FT8, F6, AF8, AF4, F2, PPG, ECG\">\n",
       "            63\n",
       "        </button>\n",
       "\n",
       "        \n",
       "        \n",
       "        and <button class=\"mne-ch-names-btn sd-sphinx-override sd-btn sd-btn-info sd-text-wrap sd-shadow-sm\" onclick=\"alert('Bad EEG:\\n\\nF3, C3')\" title=\"(Click to open in popup)&#13;&#13;F3, C3\">\n",
       "            2 bad\n",
       "        </button>\n",
       "        \n",
       "    </td>\n",
       "</tr>\n",
       "\n",
       "\n",
       "<tr class=\"repr-element channels-3f4f6aeb-75c9-400e-91fd-b1f4977c350e \">\n",
       "    <td class=\"mne-repr-section-toggle\"></td>\n",
       "    <td>Head & sensor digitization</td>\n",
       "    \n",
       "    <td>68 points</td>\n",
       "    \n",
       "</tr>\n",
       "    \n",
       "\n",
       "\n",
       "\n",
       "\n",
       "\n",
       "\n",
       "\n",
       "<tr class=\"mne-repr-section-header filters-512c4c14-a5a2-4d84-8189-1466d8a44011\"\n",
       "     title=\"Hide section\" \n",
       "    onclick=\"toggleVisibility('filters-512c4c14-a5a2-4d84-8189-1466d8a44011')\">\n",
       "    <th class=\"mne-repr-section-toggle\">\n",
       "        <button >\n",
       "            <svg xmlns=\"http://www.w3.org/2000/svg\" viewBox=\"0 0 512 512\"><!--!Font Awesome Free 6.6.0 by @fontawesome - https://fontawesome.com License - https://fontawesome.com/license/free Copyright 2024 Fonticons, Inc.--><path d=\"M233.4 406.6c12.5 12.5 32.8 12.5 45.3 0l192-192c12.5-12.5 12.5-32.8 0-45.3s-32.8-12.5-45.3 0L256 338.7 86.6 169.4c-12.5-12.5-32.8-12.5-45.3 0s-12.5 32.8 0 45.3l192 192z\"/></svg>\n",
       "        </button>\n",
       "    </th>\n",
       "    <th colspan=\"2\">\n",
       "        <strong>Filters</strong>\n",
       "    </th>\n",
       "</tr>\n",
       "\n",
       "\n",
       "<tr class=\"repr-element filters-512c4c14-a5a2-4d84-8189-1466d8a44011 \">\n",
       "    <td class=\"mne-repr-section-toggle\"></td>\n",
       "    <td>Highpass</td>\n",
       "    <td>0.00 Hz</td>\n",
       "</tr>\n",
       "\n",
       "\n",
       "<tr class=\"repr-element filters-512c4c14-a5a2-4d84-8189-1466d8a44011 \">\n",
       "    <td class=\"mne-repr-section-toggle\"></td>\n",
       "    <td>Lowpass</td>\n",
       "    <td>500.00 Hz</td>\n",
       "</tr>\n",
       "\n",
       "\n",
       "</table>"
      ],
      "text/plain": [
       "<Info | 15 non-empty values\n",
       " bads: 2 items (C3, F3)\n",
       " ch_names: Fp1, Fz, F3, F7, FT9, FC5, FC1, C3, T7, TP9, CP5, CP1, Pz, P3, ...\n",
       " chs: 65 EEG\n",
       " custom_ref_applied: False\n",
       " description: a restingstate dataset\n",
       " device_info: 4 items (dict)\n",
       " dig: 68 items (3 Cardinal, 65 EEG)\n",
       " experimenter: John Doe\n",
       " helium_info: <helium_info | he_level_raw: 20.0, helium_level: 12.0, orig_file_guid: _, meas_date: 2015-06-07 00:00:00+00:00>\n",
       " highpass: 0.0 Hz\n",
       " line_freq: 50.0\n",
       " lowpass: 500.0 Hz\n",
       " meas_date: 2015-06-07 00:00:00 UTC\n",
       " nchan: 65\n",
       " projs: []\n",
       " sfreq: 1000.0 Hz\n",
       " subject_info: <subject_info | id: 1, his_id: sub-001, last_name: Doe, first_name: John, middle_name: A, birthday: 1985-06-07 00:00:00+00:00, sex: 2, hand: 1, weight: 70.0, height: 175.0>\n",
       ">"
      ]
     },
     "execution_count": 37,
     "metadata": {},
     "output_type": "execute_result"
    }
   ],
   "source": [
    "data.info\n"
   ]
  },
  {
   "cell_type": "code",
   "execution_count": 25,
   "id": "a64adbaf",
   "metadata": {},
   "outputs": [],
   "source": [
    "import pandas as pd"
   ]
  },
  {
   "cell_type": "code",
   "execution_count": 26,
   "id": "ed6c89a8",
   "metadata": {},
   "outputs": [],
   "source": [
    "participants_tsv = pd.read_csv(r'C:\\N8_internship_code\\bids_example\\participants.tsv', sep='\\t')"
   ]
  },
  {
   "cell_type": "code",
   "execution_count": 27,
   "id": "685ed1b9",
   "metadata": {},
   "outputs": [
    {
     "ename": "ValueError",
     "evalue": "Length of values (1) does not match length of index (2)",
     "output_type": "error",
     "traceback": [
      "\u001b[1;31m---------------------------------------------------------------------------\u001b[0m",
      "\u001b[1;31mValueError\u001b[0m                                Traceback (most recent call last)",
      "Cell \u001b[1;32mIn[27], line 3\u001b[0m\n\u001b[0;32m      1\u001b[0m education \u001b[38;5;241m=\u001b[39m [\u001b[38;5;124m\"\u001b[39m\u001b[38;5;124mHigh School\u001b[39m\u001b[38;5;124m\"\u001b[39m]  \n\u001b[1;32m----> 3\u001b[0m \u001b[43mparticipants_tsv\u001b[49m\u001b[43m[\u001b[49m\u001b[38;5;124;43m\"\u001b[39;49m\u001b[38;5;124;43mEducation\u001b[39;49m\u001b[38;5;124;43m\"\u001b[39;49m\u001b[43m]\u001b[49m \u001b[38;5;241m=\u001b[39m education\n\u001b[0;32m      4\u001b[0m participants_tsv\u001b[38;5;241m.\u001b[39mto_csv(\u001b[38;5;124mr\u001b[39m\u001b[38;5;124m'\u001b[39m\u001b[38;5;124mC:\u001b[39m\u001b[38;5;124m\\\u001b[39m\u001b[38;5;124mN8_internship_code\u001b[39m\u001b[38;5;124m\\\u001b[39m\u001b[38;5;124mbids_example\u001b[39m\u001b[38;5;124m\\\u001b[39m\u001b[38;5;124mparticipants.tsv\u001b[39m\u001b[38;5;124m'\u001b[39m, sep\u001b[38;5;241m=\u001b[39m \u001b[38;5;124m'\u001b[39m\u001b[38;5;130;01m\\t\u001b[39;00m\u001b[38;5;124m'\u001b[39m, index\u001b[38;5;241m=\u001b[39m\u001b[38;5;28;01mFalse\u001b[39;00m, na_rep\u001b[38;5;241m=\u001b[39m\u001b[38;5;124m'\u001b[39m\u001b[38;5;124mn/a\u001b[39m\u001b[38;5;124m'\u001b[39m)\n",
      "File \u001b[1;32mc:\\Users\\Ariana\\Lib\\site-packages\\pandas\\core\\frame.py:4311\u001b[0m, in \u001b[0;36mDataFrame.__setitem__\u001b[1;34m(self, key, value)\u001b[0m\n\u001b[0;32m   4308\u001b[0m     \u001b[38;5;28mself\u001b[39m\u001b[38;5;241m.\u001b[39m_setitem_array([key], value)\n\u001b[0;32m   4309\u001b[0m \u001b[38;5;28;01melse\u001b[39;00m:\n\u001b[0;32m   4310\u001b[0m     \u001b[38;5;66;03m# set column\u001b[39;00m\n\u001b[1;32m-> 4311\u001b[0m     \u001b[38;5;28;43mself\u001b[39;49m\u001b[38;5;241;43m.\u001b[39;49m\u001b[43m_set_item\u001b[49m\u001b[43m(\u001b[49m\u001b[43mkey\u001b[49m\u001b[43m,\u001b[49m\u001b[43m \u001b[49m\u001b[43mvalue\u001b[49m\u001b[43m)\u001b[49m\n",
      "File \u001b[1;32mc:\\Users\\Ariana\\Lib\\site-packages\\pandas\\core\\frame.py:4524\u001b[0m, in \u001b[0;36mDataFrame._set_item\u001b[1;34m(self, key, value)\u001b[0m\n\u001b[0;32m   4514\u001b[0m \u001b[38;5;28;01mdef\u001b[39;00m \u001b[38;5;21m_set_item\u001b[39m(\u001b[38;5;28mself\u001b[39m, key, value) \u001b[38;5;241m-\u001b[39m\u001b[38;5;241m>\u001b[39m \u001b[38;5;28;01mNone\u001b[39;00m:\n\u001b[0;32m   4515\u001b[0m \u001b[38;5;250m    \u001b[39m\u001b[38;5;124;03m\"\"\"\u001b[39;00m\n\u001b[0;32m   4516\u001b[0m \u001b[38;5;124;03m    Add series to DataFrame in specified column.\u001b[39;00m\n\u001b[0;32m   4517\u001b[0m \n\u001b[1;32m   (...)\u001b[0m\n\u001b[0;32m   4522\u001b[0m \u001b[38;5;124;03m    ensure homogeneity.\u001b[39;00m\n\u001b[0;32m   4523\u001b[0m \u001b[38;5;124;03m    \"\"\"\u001b[39;00m\n\u001b[1;32m-> 4524\u001b[0m     value, refs \u001b[38;5;241m=\u001b[39m \u001b[38;5;28;43mself\u001b[39;49m\u001b[38;5;241;43m.\u001b[39;49m\u001b[43m_sanitize_column\u001b[49m\u001b[43m(\u001b[49m\u001b[43mvalue\u001b[49m\u001b[43m)\u001b[49m\n\u001b[0;32m   4526\u001b[0m     \u001b[38;5;28;01mif\u001b[39;00m (\n\u001b[0;32m   4527\u001b[0m         key \u001b[38;5;129;01min\u001b[39;00m \u001b[38;5;28mself\u001b[39m\u001b[38;5;241m.\u001b[39mcolumns\n\u001b[0;32m   4528\u001b[0m         \u001b[38;5;129;01mand\u001b[39;00m value\u001b[38;5;241m.\u001b[39mndim \u001b[38;5;241m==\u001b[39m \u001b[38;5;241m1\u001b[39m\n\u001b[0;32m   4529\u001b[0m         \u001b[38;5;129;01mand\u001b[39;00m \u001b[38;5;129;01mnot\u001b[39;00m \u001b[38;5;28misinstance\u001b[39m(value\u001b[38;5;241m.\u001b[39mdtype, ExtensionDtype)\n\u001b[0;32m   4530\u001b[0m     ):\n\u001b[0;32m   4531\u001b[0m         \u001b[38;5;66;03m# broadcast across multiple columns if necessary\u001b[39;00m\n\u001b[0;32m   4532\u001b[0m         \u001b[38;5;28;01mif\u001b[39;00m \u001b[38;5;129;01mnot\u001b[39;00m \u001b[38;5;28mself\u001b[39m\u001b[38;5;241m.\u001b[39mcolumns\u001b[38;5;241m.\u001b[39mis_unique \u001b[38;5;129;01mor\u001b[39;00m \u001b[38;5;28misinstance\u001b[39m(\u001b[38;5;28mself\u001b[39m\u001b[38;5;241m.\u001b[39mcolumns, MultiIndex):\n",
      "File \u001b[1;32mc:\\Users\\Ariana\\Lib\\site-packages\\pandas\\core\\frame.py:5266\u001b[0m, in \u001b[0;36mDataFrame._sanitize_column\u001b[1;34m(self, value)\u001b[0m\n\u001b[0;32m   5263\u001b[0m     \u001b[38;5;28;01mreturn\u001b[39;00m _reindex_for_setitem(value, \u001b[38;5;28mself\u001b[39m\u001b[38;5;241m.\u001b[39mindex)\n\u001b[0;32m   5265\u001b[0m \u001b[38;5;28;01mif\u001b[39;00m is_list_like(value):\n\u001b[1;32m-> 5266\u001b[0m     \u001b[43mcom\u001b[49m\u001b[38;5;241;43m.\u001b[39;49m\u001b[43mrequire_length_match\u001b[49m\u001b[43m(\u001b[49m\u001b[43mvalue\u001b[49m\u001b[43m,\u001b[49m\u001b[43m \u001b[49m\u001b[38;5;28;43mself\u001b[39;49m\u001b[38;5;241;43m.\u001b[39;49m\u001b[43mindex\u001b[49m\u001b[43m)\u001b[49m\n\u001b[0;32m   5267\u001b[0m arr \u001b[38;5;241m=\u001b[39m sanitize_array(value, \u001b[38;5;28mself\u001b[39m\u001b[38;5;241m.\u001b[39mindex, copy\u001b[38;5;241m=\u001b[39m\u001b[38;5;28;01mTrue\u001b[39;00m, allow_2d\u001b[38;5;241m=\u001b[39m\u001b[38;5;28;01mTrue\u001b[39;00m)\n\u001b[0;32m   5268\u001b[0m \u001b[38;5;28;01mif\u001b[39;00m (\n\u001b[0;32m   5269\u001b[0m     \u001b[38;5;28misinstance\u001b[39m(value, Index)\n\u001b[0;32m   5270\u001b[0m     \u001b[38;5;129;01mand\u001b[39;00m value\u001b[38;5;241m.\u001b[39mdtype \u001b[38;5;241m==\u001b[39m \u001b[38;5;124m\"\u001b[39m\u001b[38;5;124mobject\u001b[39m\u001b[38;5;124m\"\u001b[39m\n\u001b[1;32m   (...)\u001b[0m\n\u001b[0;32m   5273\u001b[0m     \u001b[38;5;66;03m# TODO: Remove kludge in sanitize_array for string mode when enforcing\u001b[39;00m\n\u001b[0;32m   5274\u001b[0m     \u001b[38;5;66;03m# this deprecation\u001b[39;00m\n",
      "File \u001b[1;32mc:\\Users\\Ariana\\Lib\\site-packages\\pandas\\core\\common.py:573\u001b[0m, in \u001b[0;36mrequire_length_match\u001b[1;34m(data, index)\u001b[0m\n\u001b[0;32m    569\u001b[0m \u001b[38;5;250m\u001b[39m\u001b[38;5;124;03m\"\"\"\u001b[39;00m\n\u001b[0;32m    570\u001b[0m \u001b[38;5;124;03mCheck the length of data matches the length of the index.\u001b[39;00m\n\u001b[0;32m    571\u001b[0m \u001b[38;5;124;03m\"\"\"\u001b[39;00m\n\u001b[0;32m    572\u001b[0m \u001b[38;5;28;01mif\u001b[39;00m \u001b[38;5;28mlen\u001b[39m(data) \u001b[38;5;241m!=\u001b[39m \u001b[38;5;28mlen\u001b[39m(index):\n\u001b[1;32m--> 573\u001b[0m     \u001b[38;5;28;01mraise\u001b[39;00m \u001b[38;5;167;01mValueError\u001b[39;00m(\n\u001b[0;32m    574\u001b[0m         \u001b[38;5;124m\"\u001b[39m\u001b[38;5;124mLength of values \u001b[39m\u001b[38;5;124m\"\u001b[39m\n\u001b[0;32m    575\u001b[0m         \u001b[38;5;124mf\u001b[39m\u001b[38;5;124m\"\u001b[39m\u001b[38;5;124m(\u001b[39m\u001b[38;5;132;01m{\u001b[39;00m\u001b[38;5;28mlen\u001b[39m(data)\u001b[38;5;132;01m}\u001b[39;00m\u001b[38;5;124m) \u001b[39m\u001b[38;5;124m\"\u001b[39m\n\u001b[0;32m    576\u001b[0m         \u001b[38;5;124m\"\u001b[39m\u001b[38;5;124mdoes not match length of index \u001b[39m\u001b[38;5;124m\"\u001b[39m\n\u001b[0;32m    577\u001b[0m         \u001b[38;5;124mf\u001b[39m\u001b[38;5;124m\"\u001b[39m\u001b[38;5;124m(\u001b[39m\u001b[38;5;132;01m{\u001b[39;00m\u001b[38;5;28mlen\u001b[39m(index)\u001b[38;5;132;01m}\u001b[39;00m\u001b[38;5;124m)\u001b[39m\u001b[38;5;124m\"\u001b[39m\n\u001b[0;32m    578\u001b[0m     )\n",
      "\u001b[1;31mValueError\u001b[0m: Length of values (1) does not match length of index (2)"
     ]
    }
   ],
   "source": [
    "education = [\"High School\"]  \n",
    "\n",
    "participants_tsv[\"Education\"] = education\n",
    "participants_tsv.to_csv(r'C:\\N8_internship_code\\bids_example\\participants.tsv', sep= '\\t', index=False, na_rep='n/a')"
   ]
  },
  {
   "cell_type": "code",
   "execution_count": null,
   "id": "d2c8d313",
   "metadata": {},
   "outputs": [
    {
     "name": "stdout",
     "output_type": "stream",
     "text": [
      "['sub-001']\n"
     ]
    }
   ],
   "source": [
    "#way to iterate through participant IDs and print them\n",
    "ID_list = []\n",
    "for participant_id in participants_tsv[\"participant_id\"]:\n",
    "    ID_list.append(participant_id)\n",
    "    print(ID_list)"
   ]
  },
  {
   "cell_type": "code",
   "execution_count": null,
   "id": "bfb5b9ca",
   "metadata": {},
   "outputs": [
    {
     "name": "stdout",
     "output_type": "stream",
     "text": [
      "sub-001: Age = ['High School']\n"
     ]
    }
   ],
   "source": [
    "for _, row in participants_tsv.iterrows():\n",
    "    participant_id = row[\"participant_id\"]\n",
    "    edu = row.get(\"education\", \"None\")\n",
    "    print(f\"{participant_id}: Age = {edu}\")\n"
   ]
  },
  {
   "cell_type": "code",
   "execution_count": null,
   "id": "c7773870",
   "metadata": {},
   "outputs": [
    {
     "name": "stdout",
     "output_type": "stream",
     "text": [
      "  participant_id  age  sex  hand  weight  height Education education\n",
      "0        sub-001  NaN  NaN   NaN     NaN     NaN      None      none\n"
     ]
    }
   ],
   "source": [
    "import pandas as pd\n",
    "participants_tsv = pd.read_csv(r'C:\\N8_internship_code\\bids_example\\participants.tsv', sep='\\t')\n",
    "location = participants_tsv.loc[participants_tsv[\"participant_id\"] == \"sub-001\"].index[0]\n",
    "participants_tsv.loc[location, \"Education\"] = \"None\"\n",
    "print (participants_tsv)"
   ]
  },
  {
   "cell_type": "code",
   "execution_count": null,
   "id": "da025ffe",
   "metadata": {},
   "outputs": [
    {
     "name": "stdout",
     "output_type": "stream",
     "text": [
      "  participant_id  age  sex  hand  weight  height Education\n",
      "0        sub-001  NaN  NaN   NaN     NaN     NaN      none\n"
     ]
    }
   ],
   "source": [
    "import pandas as pd\n",
    "participants_tsv = pd.read_csv(r'C:\\N8_internship_code\\bids_example\\participants.tsv', sep='\\t')\n",
    "participants_tsv.loc[participants_tsv[\"participant_id\"] == \"sub-001\", \"Education\"] = \"none\"\n",
    "print(participants_tsv)\n",
    "participants_tsv.to_csv(r'C:\\N8_internship_code\\bids_example\\participants.tsv', sep= '\\t', index=False, na_rep='n/a')"
   ]
  },
  {
   "cell_type": "code",
   "execution_count": null,
   "id": "2d719f12",
   "metadata": {},
   "outputs": [
    {
     "name": "stdout",
     "output_type": "stream",
     "text": [
      "  participant_id  age  sex  hand  weight  height Education\n",
      "0        sub-001  NaN  NaN   NaN     NaN     NaN      none\n"
     ]
    }
   ],
   "source": [
    "print(participants_tsv)\n"
   ]
  },
  {
   "cell_type": "code",
   "execution_count": null,
   "id": "091173f5",
   "metadata": {},
   "outputs": [
    {
     "name": "stdout",
     "output_type": "stream",
     "text": [
      "  participant_id  age  sex  hand  weight  height Education\n",
      "0        sub-001  NaN  NaN   NaN     NaN     NaN      none\n"
     ]
    }
   ],
   "source": [
    "participants_tsv.drop([0, 0])\n",
    "print(participants_tsv)"
   ]
  },
  {
   "cell_type": "code",
   "execution_count": null,
   "id": "b8626b8e",
   "metadata": {},
   "outputs": [
    {
     "name": "stdout",
     "output_type": "stream",
     "text": [
      "  participant_id   age  sex  hand  weight  height Education\n",
      "0        sub-001   NaN  NaN   NaN     NaN     NaN      none\n",
      "1        sub-002  30.0    M   NaN     NaN     NaN       NaN\n",
      "2        sub-002  30.0    M   NaN     NaN     NaN       NaN\n"
     ]
    }
   ],
   "source": [
    "new_row = pd.DataFrame([{\"participant_id\": \"sub-002\", \"age\": 30, \"sex\":\"M\"}])\n",
    "participants_tsv = pd.concat([participants_tsv, new_row], ignore_index=True)\n",
    "print(participants_tsv)\n",
    "participants_tsv.to_csv(r'C:\\N8_internship_code\\bids_example\\participants.tsv', sep= '\\t', index=False, na_rep='n/a')"
   ]
  },
  {
   "cell_type": "code",
   "execution_count": null,
   "id": "683f3b02",
   "metadata": {},
   "outputs": [
    {
     "ename": "KeyError",
     "evalue": "'[1] not found in axis'",
     "output_type": "error",
     "traceback": [
      "\u001b[1;31m---------------------------------------------------------------------------\u001b[0m",
      "\u001b[1;31mKeyError\u001b[0m                                  Traceback (most recent call last)",
      "Cell \u001b[1;32mIn[36], line 1\u001b[0m\n\u001b[1;32m----> 1\u001b[0m participants_tsv \u001b[38;5;241m=\u001b[39m \u001b[43mparticipants_tsv\u001b[49m\u001b[38;5;241;43m.\u001b[39;49m\u001b[43mdrop\u001b[49m\u001b[43m(\u001b[49m\u001b[43mindex\u001b[49m\u001b[38;5;241;43m=\u001b[39;49m\u001b[38;5;241;43m1\u001b[39;49m\u001b[43m)\u001b[49m\n\u001b[0;32m      2\u001b[0m \u001b[38;5;28mprint\u001b[39m(participants_tsv)\n\u001b[0;32m      3\u001b[0m participants_tsv\u001b[38;5;241m.\u001b[39mto_csv(\u001b[38;5;124mr\u001b[39m\u001b[38;5;124m'\u001b[39m\u001b[38;5;124mC:\u001b[39m\u001b[38;5;124m\\\u001b[39m\u001b[38;5;124mN8_internship_code\u001b[39m\u001b[38;5;124m\\\u001b[39m\u001b[38;5;124mbids_example\u001b[39m\u001b[38;5;124m\\\u001b[39m\u001b[38;5;124mparticipants.tsv\u001b[39m\u001b[38;5;124m'\u001b[39m, sep\u001b[38;5;241m=\u001b[39m \u001b[38;5;124m'\u001b[39m\u001b[38;5;130;01m\\t\u001b[39;00m\u001b[38;5;124m'\u001b[39m, index\u001b[38;5;241m=\u001b[39m\u001b[38;5;28;01mFalse\u001b[39;00m, na_rep\u001b[38;5;241m=\u001b[39m\u001b[38;5;124m'\u001b[39m\u001b[38;5;124mn/a\u001b[39m\u001b[38;5;124m'\u001b[39m)\n",
      "File \u001b[1;32mc:\\Users\\Ariana\\Lib\\site-packages\\pandas\\core\\frame.py:5581\u001b[0m, in \u001b[0;36mDataFrame.drop\u001b[1;34m(self, labels, axis, index, columns, level, inplace, errors)\u001b[0m\n\u001b[0;32m   5433\u001b[0m \u001b[38;5;28;01mdef\u001b[39;00m \u001b[38;5;21mdrop\u001b[39m(\n\u001b[0;32m   5434\u001b[0m     \u001b[38;5;28mself\u001b[39m,\n\u001b[0;32m   5435\u001b[0m     labels: IndexLabel \u001b[38;5;241m|\u001b[39m \u001b[38;5;28;01mNone\u001b[39;00m \u001b[38;5;241m=\u001b[39m \u001b[38;5;28;01mNone\u001b[39;00m,\n\u001b[1;32m   (...)\u001b[0m\n\u001b[0;32m   5442\u001b[0m     errors: IgnoreRaise \u001b[38;5;241m=\u001b[39m \u001b[38;5;124m\"\u001b[39m\u001b[38;5;124mraise\u001b[39m\u001b[38;5;124m\"\u001b[39m,\n\u001b[0;32m   5443\u001b[0m ) \u001b[38;5;241m-\u001b[39m\u001b[38;5;241m>\u001b[39m DataFrame \u001b[38;5;241m|\u001b[39m \u001b[38;5;28;01mNone\u001b[39;00m:\n\u001b[0;32m   5444\u001b[0m \u001b[38;5;250m    \u001b[39m\u001b[38;5;124;03m\"\"\"\u001b[39;00m\n\u001b[0;32m   5445\u001b[0m \u001b[38;5;124;03m    Drop specified labels from rows or columns.\u001b[39;00m\n\u001b[0;32m   5446\u001b[0m \n\u001b[1;32m   (...)\u001b[0m\n\u001b[0;32m   5579\u001b[0m \u001b[38;5;124;03m            weight  1.0     0.8\u001b[39;00m\n\u001b[0;32m   5580\u001b[0m \u001b[38;5;124;03m    \"\"\"\u001b[39;00m\n\u001b[1;32m-> 5581\u001b[0m     \u001b[38;5;28;01mreturn\u001b[39;00m \u001b[38;5;28;43msuper\u001b[39;49m\u001b[43m(\u001b[49m\u001b[43m)\u001b[49m\u001b[38;5;241;43m.\u001b[39;49m\u001b[43mdrop\u001b[49m\u001b[43m(\u001b[49m\n\u001b[0;32m   5582\u001b[0m \u001b[43m        \u001b[49m\u001b[43mlabels\u001b[49m\u001b[38;5;241;43m=\u001b[39;49m\u001b[43mlabels\u001b[49m\u001b[43m,\u001b[49m\n\u001b[0;32m   5583\u001b[0m \u001b[43m        \u001b[49m\u001b[43maxis\u001b[49m\u001b[38;5;241;43m=\u001b[39;49m\u001b[43maxis\u001b[49m\u001b[43m,\u001b[49m\n\u001b[0;32m   5584\u001b[0m \u001b[43m        \u001b[49m\u001b[43mindex\u001b[49m\u001b[38;5;241;43m=\u001b[39;49m\u001b[43mindex\u001b[49m\u001b[43m,\u001b[49m\n\u001b[0;32m   5585\u001b[0m \u001b[43m        \u001b[49m\u001b[43mcolumns\u001b[49m\u001b[38;5;241;43m=\u001b[39;49m\u001b[43mcolumns\u001b[49m\u001b[43m,\u001b[49m\n\u001b[0;32m   5586\u001b[0m \u001b[43m        \u001b[49m\u001b[43mlevel\u001b[49m\u001b[38;5;241;43m=\u001b[39;49m\u001b[43mlevel\u001b[49m\u001b[43m,\u001b[49m\n\u001b[0;32m   5587\u001b[0m \u001b[43m        \u001b[49m\u001b[43minplace\u001b[49m\u001b[38;5;241;43m=\u001b[39;49m\u001b[43minplace\u001b[49m\u001b[43m,\u001b[49m\n\u001b[0;32m   5588\u001b[0m \u001b[43m        \u001b[49m\u001b[43merrors\u001b[49m\u001b[38;5;241;43m=\u001b[39;49m\u001b[43merrors\u001b[49m\u001b[43m,\u001b[49m\n\u001b[0;32m   5589\u001b[0m \u001b[43m    \u001b[49m\u001b[43m)\u001b[49m\n",
      "File \u001b[1;32mc:\\Users\\Ariana\\Lib\\site-packages\\pandas\\core\\generic.py:4788\u001b[0m, in \u001b[0;36mNDFrame.drop\u001b[1;34m(self, labels, axis, index, columns, level, inplace, errors)\u001b[0m\n\u001b[0;32m   4786\u001b[0m \u001b[38;5;28;01mfor\u001b[39;00m axis, labels \u001b[38;5;129;01min\u001b[39;00m axes\u001b[38;5;241m.\u001b[39mitems():\n\u001b[0;32m   4787\u001b[0m     \u001b[38;5;28;01mif\u001b[39;00m labels \u001b[38;5;129;01mis\u001b[39;00m \u001b[38;5;129;01mnot\u001b[39;00m \u001b[38;5;28;01mNone\u001b[39;00m:\n\u001b[1;32m-> 4788\u001b[0m         obj \u001b[38;5;241m=\u001b[39m \u001b[43mobj\u001b[49m\u001b[38;5;241;43m.\u001b[39;49m\u001b[43m_drop_axis\u001b[49m\u001b[43m(\u001b[49m\u001b[43mlabels\u001b[49m\u001b[43m,\u001b[49m\u001b[43m \u001b[49m\u001b[43maxis\u001b[49m\u001b[43m,\u001b[49m\u001b[43m \u001b[49m\u001b[43mlevel\u001b[49m\u001b[38;5;241;43m=\u001b[39;49m\u001b[43mlevel\u001b[49m\u001b[43m,\u001b[49m\u001b[43m \u001b[49m\u001b[43merrors\u001b[49m\u001b[38;5;241;43m=\u001b[39;49m\u001b[43merrors\u001b[49m\u001b[43m)\u001b[49m\n\u001b[0;32m   4790\u001b[0m \u001b[38;5;28;01mif\u001b[39;00m inplace:\n\u001b[0;32m   4791\u001b[0m     \u001b[38;5;28mself\u001b[39m\u001b[38;5;241m.\u001b[39m_update_inplace(obj)\n",
      "File \u001b[1;32mc:\\Users\\Ariana\\Lib\\site-packages\\pandas\\core\\generic.py:4830\u001b[0m, in \u001b[0;36mNDFrame._drop_axis\u001b[1;34m(self, labels, axis, level, errors, only_slice)\u001b[0m\n\u001b[0;32m   4828\u001b[0m         new_axis \u001b[38;5;241m=\u001b[39m axis\u001b[38;5;241m.\u001b[39mdrop(labels, level\u001b[38;5;241m=\u001b[39mlevel, errors\u001b[38;5;241m=\u001b[39merrors)\n\u001b[0;32m   4829\u001b[0m     \u001b[38;5;28;01melse\u001b[39;00m:\n\u001b[1;32m-> 4830\u001b[0m         new_axis \u001b[38;5;241m=\u001b[39m \u001b[43maxis\u001b[49m\u001b[38;5;241;43m.\u001b[39;49m\u001b[43mdrop\u001b[49m\u001b[43m(\u001b[49m\u001b[43mlabels\u001b[49m\u001b[43m,\u001b[49m\u001b[43m \u001b[49m\u001b[43merrors\u001b[49m\u001b[38;5;241;43m=\u001b[39;49m\u001b[43merrors\u001b[49m\u001b[43m)\u001b[49m\n\u001b[0;32m   4831\u001b[0m     indexer \u001b[38;5;241m=\u001b[39m axis\u001b[38;5;241m.\u001b[39mget_indexer(new_axis)\n\u001b[0;32m   4833\u001b[0m \u001b[38;5;66;03m# Case for non-unique axis\u001b[39;00m\n\u001b[0;32m   4834\u001b[0m \u001b[38;5;28;01melse\u001b[39;00m:\n",
      "File \u001b[1;32mc:\\Users\\Ariana\\Lib\\site-packages\\pandas\\core\\indexes\\base.py:7070\u001b[0m, in \u001b[0;36mIndex.drop\u001b[1;34m(self, labels, errors)\u001b[0m\n\u001b[0;32m   7068\u001b[0m \u001b[38;5;28;01mif\u001b[39;00m mask\u001b[38;5;241m.\u001b[39many():\n\u001b[0;32m   7069\u001b[0m     \u001b[38;5;28;01mif\u001b[39;00m errors \u001b[38;5;241m!=\u001b[39m \u001b[38;5;124m\"\u001b[39m\u001b[38;5;124mignore\u001b[39m\u001b[38;5;124m\"\u001b[39m:\n\u001b[1;32m-> 7070\u001b[0m         \u001b[38;5;28;01mraise\u001b[39;00m \u001b[38;5;167;01mKeyError\u001b[39;00m(\u001b[38;5;124mf\u001b[39m\u001b[38;5;124m\"\u001b[39m\u001b[38;5;132;01m{\u001b[39;00mlabels[mask]\u001b[38;5;241m.\u001b[39mtolist()\u001b[38;5;132;01m}\u001b[39;00m\u001b[38;5;124m not found in axis\u001b[39m\u001b[38;5;124m\"\u001b[39m)\n\u001b[0;32m   7071\u001b[0m     indexer \u001b[38;5;241m=\u001b[39m indexer[\u001b[38;5;241m~\u001b[39mmask]\n\u001b[0;32m   7072\u001b[0m \u001b[38;5;28;01mreturn\u001b[39;00m \u001b[38;5;28mself\u001b[39m\u001b[38;5;241m.\u001b[39mdelete(indexer)\n",
      "\u001b[1;31mKeyError\u001b[0m: '[1] not found in axis'"
     ]
    }
   ],
   "source": [
    "participants_tsv = participants_tsv.drop(index=1)\n",
    "print(participants_tsv)\n",
    "participants_tsv.to_csv(r'C:\\N8_internship_code\\bids_example\\participants.tsv', sep= '\\t', index=False, na_rep='n/a')"
   ]
  },
  {
   "cell_type": "code",
   "execution_count": null,
   "id": "d3e0f415",
   "metadata": {},
   "outputs": [
    {
     "ename": "TypeError",
     "evalue": "unsupported operand type(s) for /: 'str' and 'str'",
     "output_type": "error",
     "traceback": [
      "\u001b[1;31m---------------------------------------------------------------------------\u001b[0m",
      "\u001b[1;31mTypeError\u001b[0m                                 Traceback (most recent call last)",
      "Cell \u001b[1;32mIn[77], line 2\u001b[0m\n\u001b[0;32m      1\u001b[0m \u001b[38;5;28;01mimport\u001b[39;00m \u001b[38;5;21;01mpandas\u001b[39;00m \u001b[38;5;28;01mas\u001b[39;00m \u001b[38;5;21;01mpd\u001b[39;00m\n\u001b[1;32m----> 2\u001b[0m participants_tsv \u001b[38;5;241m=\u001b[39m pd\u001b[38;5;241m.\u001b[39mread_csv(\u001b[43mbids_root\u001b[49m\u001b[43m \u001b[49m\u001b[38;5;241;43m/\u001b[39;49m\u001b[43m \u001b[49m\u001b[38;5;124;43m\"\u001b[39;49m\u001b[38;5;124;43mparticipants.tsv\u001b[39;49m\u001b[38;5;124;43m\"\u001b[39;49m, sep\u001b[38;5;241m=\u001b[39m\u001b[38;5;124m\"\u001b[39m\u001b[38;5;130;01m\\t\u001b[39;00m\u001b[38;5;124m\"\u001b[39m)\n\u001b[0;32m      3\u001b[0m \u001b[38;5;28;01mfor\u001b[39;00m i, participant_id \u001b[38;5;129;01min\u001b[39;00m \u001b[38;5;28menumerate\u001b[39m(participant_ids):\n\u001b[0;32m      4\u001b[0m     kwargs \u001b[38;5;241m=\u001b[39m \u001b[38;5;28mdict\u001b[39m(\n\u001b[0;32m      5\u001b[0m         species\u001b[38;5;241m=\u001b[39m\u001b[38;5;124m\"\u001b[39m\u001b[38;5;124mhomo sapiens\u001b[39m\u001b[38;5;124m\"\u001b[39m,\n\u001b[0;32m      6\u001b[0m         age\u001b[38;5;241m=\u001b[39mage[i],\n\u001b[1;32m   (...)\u001b[0m\n\u001b[0;32m     14\u001b[0m         education_degree\u001b[38;5;241m=\u001b[39medu_deg[i],\n\u001b[0;32m     15\u001b[0m     )\n",
      "\u001b[1;31mTypeError\u001b[0m: unsupported operand type(s) for /: 'str' and 'str'"
     ]
    }
   ],
   "source": [
    "import pandas as pd\n",
    "participants_tsv = pd.read_csv(bids_root / \"participants.tsv\", sep=\"\\t\")\n",
    "for i, participant_id in enumerate(participant_ids):\n",
    "    kwargs = dict(\n",
    "        species=\"homo sapiens\",\n",
    "        age=age[i],\n",
    "        sex=sex[i],\n",
    "        handedness=hand[i],\n",
    "        lab=lab,\n",
    "        replication=study,\n",
    "        old_id=oldids[i],\n",
    "        tod=tod[i],\n",
    "        education_year=edu_y[i],\n",
    "        education_degree=edu_deg[i],\n",
    "    )\n",
    "    participants_tsv = _update_tsv(\n",
    "        participants_tsv, \"sub-\" + participant_id, **kwargs\n",
    "    )\n",
    "    #** split dictionary\n",
    "    #keyword arguments\n",
    "participants_tsv = participants_tsv.astype(\n",
    "    {\"age\": \"Int64\", \"education_year\": \"Int64\"}\n",
    ")\n",
    "participants_tsv.education_degree = (\n",
    "    participants_tsv.education_degree.str.title()\n",
    ")\n",
    "participants_tsv[\n",
    "    [\n",
    "        \"participant_id\",\n",
    "        \"species\",\n",
    "        \"age\",\n",
    "        \"sex\",\n",
    "        \"handedness\",\n",
    "        \"tod\",\n",
    "        \"education_year\",\n",
    "        \"education_degree\",\n",
    "        \"replication\",\n",
    "        \"lab\",\n",
    "        \"old_id\",\n",
    "    ]\n",
    "].to_csv(\n",
    "    BIDS_ROOT / \"participants.tsv\", sep=\"\\t\", index=False, na_rep=\"n/a\"\n",
    ")\n",
    "\n",
    "\n"
   ]
  },
  {
   "cell_type": "code",
   "execution_count": null,
   "id": "5610954c",
   "metadata": {},
   "outputs": [],
   "source": [
    "import matplotlib.pyplot as plt\n",
    "import numpy as np"
   ]
  },
  {
   "cell_type": "code",
   "execution_count": null,
   "id": "c9fbe877",
   "metadata": {},
   "outputs": [],
   "source": []
  },
  {
   "cell_type": "code",
   "execution_count": null,
   "id": "fe6946e7",
   "metadata": {},
   "outputs": [
    {
     "name": "stdout",
     "output_type": "stream",
     "text": [
      "References\n",
      "----------\n",
      "Appelhoff, S., Sanderson, M., Brooks, T., Vliet, M., Quentin, R., Holdgraf, C., Chaumon, M., Mikulan, E., Tavabi, K., Höchenberger, R., Welke, D., Brunner, C., Rockhill, A., Larson, E., Gramfort, A. and Jas, M. (2019). MNE-BIDS: Organizing electrophysiological data into the BIDS format and facilitating their analysis. Journal of Open Source Software 4: (1896).https://doi.org/10.21105/joss.01896\n",
      "\n",
      "Pernet, C. R., Appelhoff, S., Gorgolewski, K. J., Flandin, G., Phillips, C., Delorme, A., Oostenveld, R. (2019). EEG-BIDS, an extension to the brain imaging data structure for electroencephalography. Scientific Data, 6, 103.https://doi.org/10.1038/s41597-019-0104-8\n",
      "\n",
      "\n"
     ]
    }
   ],
   "source": [
    "readme = op.join(bids_root, \"README\")\n",
    "with open(readme, encoding=\"utf-8-sig\") as fid:\n",
    "    text = fid.read()\n",
    "print(text)"
   ]
  },
  {
   "cell_type": "code",
   "execution_count": null,
   "id": "b9380864",
   "metadata": {},
   "outputs": [
    {
     "ename": "SyntaxError",
     "evalue": "invalid syntax (4037140334.py, line 1)",
     "output_type": "error",
     "traceback": [
      "\u001b[1;36m  Cell \u001b[1;32mIn[20], line 1\u001b[1;36m\u001b[0m\n\u001b[1;33m    Possible code:\u001b[0m\n\u001b[1;37m             ^\u001b[0m\n\u001b[1;31mSyntaxError\u001b[0m\u001b[1;31m:\u001b[0m invalid syntax\n"
     ]
    }
   ],
   "source": [
    "Possible code:\n",
    "\n",
    "#mne bids code\n",
    "# Get the electrode coordinates\n",
    "testing_data = mne.datasets.testing.data_path()\n",
    "captrak_path = op.join(testing_data, \"montage\", \"captrak_coords.bvct\")\n",
    "montage = mne.channels.read_dig_captrak(captrak_path)\n",
    "\n",
    "# Rename the montage channel names only for this example, because as said\n",
    "# before, coordinate and EEG data were not actually collected together\n",
    "# Do *not* do this for your own data.\n",
    "montage.rename_channels(dict(zip(montage.ch_names, raw.ch_names)))\n",
    "\n",
    "# \"attach\" the electrode coordinates to the `raw` object\n",
    "# Note that this only works for some channel types (EEG/sEEG/ECoG/DBS/fNIRS)\n",
    "raw.set_montage(montage)\n",
    "\n",
    "# show the electrode positions\n",
    "raw.plot_sensors()\n"
   ]
  },
  {
   "cell_type": "code",
   "execution_count": null,
   "id": "40c45b3c",
   "metadata": {},
   "outputs": [],
   "source": [
    "possible code:\n",
    "\n",
    "Let’s pause and check that the information that we’ve written out to the sidecar files that describe our data is correct.\n",
    "# Get the sidecar ``.json`` file\n",
    "sidecar_json_bids_path = bids_path.copy().update(suffix=\"meg\", extension=\".json\")\n",
    "sidecar_json_content = sidecar_json_bids_path.fpath.read_text(encoding=\"utf-8-sig\")\n",
    "print(sidecar_json_content)"
   ]
  }
 ],
 "metadata": {
  "kernelspec": {
   "display_name": "base",
   "language": "python",
   "name": "python3"
  },
  "language_info": {
   "codemirror_mode": {
    "name": "ipython",
    "version": 3
   },
   "file_extension": ".py",
   "mimetype": "text/x-python",
   "name": "python",
   "nbconvert_exporter": "python",
   "pygments_lexer": "ipython3",
   "version": "3.12.7"
  }
 },
 "nbformat": 4,
 "nbformat_minor": 5
}
