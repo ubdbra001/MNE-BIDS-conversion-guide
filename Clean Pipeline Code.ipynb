{
 "cells": [
  {
   "cell_type": "code",
   "execution_count": null,
   "id": "e8bc795d",
   "metadata": {},
   "outputs": [],
   "source": [
    "import mne\n",
    "%pip install mne_bids\n",
    "%pip install --upgrade mne_bids\n",
    "\n",
    "from mne_bids import BIDSPath, print_dir_tree, write_raw_bids, make_dataset_description, update_sidecar_json"
   ]
  },
  {
   "cell_type": "code",
   "execution_count": null,
   "id": "ba2676a4",
   "metadata": {},
   "outputs": [],
   "source": [
    "#Allows us to work with file paths\n",
    "import os.path as op\n",
    "#Makes file path handling simpler\n",
    "from pathlib import Path"
   ]
  },
  {
   "cell_type": "code",
   "execution_count": null,
   "id": "abb7f985",
   "metadata": {},
   "outputs": [],
   "source": [
    "#Change the file path to your data's location\n",
    "data_dir = Path(r\"C:\\N8_internship_code\\second_tester_data\\source_data\")\n",
    "print_dir_tree(data_dir, max_depth=1)"
   ]
  },
  {
   "cell_type": "code",
   "execution_count": null,
   "id": "7ba1a7ad",
   "metadata": {},
   "outputs": [],
   "source": [
    "children = [child for child in data_dir.iterdir()]\n",
    "children"
   ]
  },
  {
   "cell_type": "code",
   "execution_count": null,
   "id": "f84eed44",
   "metadata": {},
   "outputs": [],
   "source": [
    "#Change this to match the file number\n",
    "dir_number = 0\n",
    "files = [file for file in children[dir_number].iterdir()]"
   ]
  },
  {
   "cell_type": "code",
   "execution_count": null,
   "id": "68c823cb",
   "metadata": {},
   "outputs": [
    {
     "ename": "NameError",
     "evalue": "name 'files' is not defined",
     "output_type": "error",
     "traceback": [
      "\u001b[1;31m---------------------------------------------------------------------------\u001b[0m",
      "\u001b[1;31mNameError\u001b[0m                                 Traceback (most recent call last)",
      "Cell \u001b[1;32mIn[1], line 1\u001b[0m\n\u001b[1;32m----> 1\u001b[0m file_path \u001b[38;5;241m=\u001b[39m \u001b[43mfiles\u001b[49m[\u001b[38;5;241m1\u001b[39m]\n\u001b[0;32m      2\u001b[0m file_path\n",
      "\u001b[1;31mNameError\u001b[0m: name 'files' is not defined"
     ]
    }
   ],
   "source": [
    "file_path = files[0]\n",
    "file_path"
   ]
  },
  {
   "cell_type": "code",
   "execution_count": null,
   "id": "0cdcecd4",
   "metadata": {},
   "outputs": [],
   "source": [
    "data = mne.io.read_raw_eeglab(file_path)"
   ]
  },
  {
   "cell_type": "code",
   "execution_count": null,
   "id": "601ac592",
   "metadata": {},
   "outputs": [],
   "source": [
    "data"
   ]
  },
  {
   "cell_type": "code",
   "execution_count": null,
   "id": "4386559f",
   "metadata": {},
   "outputs": [],
   "source": [
    "from datetime import datetime, timezone\n",
    "from dateutil.relativedelta import relativedelta\n",
    "from mne.transforms import Transform\n",
    "\n",
    "data.info[\"device_info\"] = {\n",
    "    \"type\": \"Emotiv Epoc X\",\n",
    "    \"model\": \"12-channel EEG\",\n",
    "    \"serial\": 33456423,\n",
    "    \"site\": \"yes\"\n",
    "    }\n",
    "\n",
    "\n",
    "\n",
    "# Generates the (approx) birthdate of the participant based on the measurement date and age\n",
    "data.set_meas_date(datetime(2015, 6, 7, tzinfo= timezone.utc))\n",
    "recording_date = data.info[\"meas_date\"]\n",
    "Birthdate = recording_date - relativedelta(years=30)\n",
    "\n",
    "\n",
    "data.info[\"subject_info\"] = {\n",
    "    \"id\": 1,\n",
    "    \"his_id\": \"sub-001\",\n",
    "    \"last_name\": \"Doe\",\n",
    "    \"first_name\": \"John\",\n",
    "    \"middle_name\": \"A\",\n",
    "    \"birthday\": Birthdate,\n",
    "    \"sex\": 2,\n",
    "    \"hand\": 1,\n",
    "    \"weight\": 70.0,\n",
    "    \"height\": 175.0,\n",
    "}\n",
    "\n",
    "data.info[\"line_freq\"] = 50\n",
    "\n",
    "data.info[\"bads\"] = [\"C3\", \"F3\" ]\n",
    "\n",
    "data.info[\"description\"] = \"a resting state dataset\"\n",
    "\n",
    "data.info[\"dev_head_t\"] = Transform(\"meg\", \"head\")\n",
    "\n",
    "data.info[\"experimenter\"] = \"John Doe\"\n",
    "\n",
    "data.info[\"helium_info\"] = {\n",
    "    \"he_level_raw\": 20,\n",
    "    \"helium_level\": 12,\n",
    "    \"orig_file_guid\": \"1234567890abcdef\",\n",
    "    \"meas_date\": (datetime(2015, 6, 7, tzinfo= timezone.utc))\n",
    "    }\n"
   ]
  },
  {
   "cell_type": "code",
   "execution_count": null,
   "id": "07b85174",
   "metadata": {},
   "outputs": [],
   "source": [
    "data"
   ]
  },
  {
   "cell_type": "code",
   "execution_count": null,
   "id": "670d2695",
   "metadata": {},
   "outputs": [],
   "source": [
    "bids_root = op.join(data_dir.parent, \"bids_example\")\n",
    "bids_root"
   ]
  },
  {
   "cell_type": "code",
   "execution_count": null,
   "id": "5708f1a4",
   "metadata": {},
   "outputs": [],
   "source": [
    "mne.channels.get_builtin_montages()"
   ]
  },
  {
   "cell_type": "code",
   "execution_count": null,
   "id": "99cd42ce",
   "metadata": {},
   "outputs": [],
   "source": [
    "builtin_montages = mne.channels.get_builtin_montages(descriptions=True)\n",
    "for montage_name, montage_description in builtin_montages:\n",
    "    print(f\"{montage_name}: {montage_description}\")"
   ]
  },
  {
   "cell_type": "code",
   "execution_count": null,
   "id": "d8095c40",
   "metadata": {},
   "outputs": [],
   "source": [
    "import mne\n",
    "\n",
    "my_montage = mne.channels.make_standard_montage(\"biosemi64\")\n",
    "\n",
    "# Printing montage information\n",
    "print(my_montage)\n",
    "\n",
    "# Viualising montage in 2D\n",
    "my_montage.plot()\n",
    "\n",
    "# Visualising montage in 3D\n",
    "fig = my_montage.plot(kind=\"3d\", show=False)  # 3D\n",
    "fig = fig.gca().view_init(azim=70, elev=15)  # set view angle"
   ]
  },
  {
   "cell_type": "code",
   "execution_count": null,
   "id": "56dae772",
   "metadata": {},
   "outputs": [],
   "source": [
    "data.set_montage(my_montage, match_case=True, match_alias=False, on_missing='ignore', verbose=None)"
   ]
  },
  {
   "cell_type": "code",
   "execution_count": null,
   "id": "1b5b0a20",
   "metadata": {},
   "outputs": [],
   "source": [
    "#Edit this information ot match your data\n",
    "subject_id = \"001\"\n",
    "task = \"rest\"\n",
    "\n",
    "bids_path = BIDSPath(subject=subject_id, task=task, root=bids_root)\n",
    "write_raw_bids(data, bids_path, overwrite=True, allow_preload=True, format=\"EEGLAB\")"
   ]
  },
  {
   "cell_type": "code",
   "execution_count": null,
   "id": "2a32fda6",
   "metadata": {},
   "outputs": [],
   "source": [
    "#Edit this information ot match your data\n",
    "subject_id = \"001\"\n",
    "task = \"rest\"\n",
    "\n",
    "bids_path = BIDSPath(subject=subject_id, task=task, root=bids_root)\n",
    "write_raw_bids(data, bids_path, overwrite=True, allow_preload=True, format=\"EEGLAB\")"
   ]
  },
  {
   "cell_type": "code",
   "execution_count": null,
   "id": "86d706db",
   "metadata": {},
   "outputs": [],
   "source": [
    "#creating a dataset description JSON file (separate to other data entry types) [for people who want a better description of their dataset than previously provided] \n",
    "# #{will overwrite any existing dataset_description.json file in the root of the BIDS directory}\n",
    "make_dataset_description(\n",
    "    path=bids_root,\n",
    "    name=\"EEGManyLabs Resting State Study\", \n",
    "    hed_version=\"1\",\n",
    "    dataset_type='raw',\n",
    "    data_license=\"CCO\",\n",
    "    authors=[\"Ariana Williams\", \"Daniel Brady\"],\n",
    "    acknowledgements=None,\n",
    "    how_to_acknowledge=\"Cite (Williams et al., 2025) when using this dataset\",\n",
    "    funding=[\"The NHS\", \"The Uk government\"],\n",
    "    ethics_approvals=\"Ethical approval was granted by the University of Leeds School of Psychology Ethics committee (12345 2025)\",\n",
    "    references_and_links=\"https://mne.tools/mne-bids/stable/whats_new_previous_releases.html\",\n",
    "    doi=\"doi:https://doi.org/10.1016/j.tins.2017.02.004\",\n",
    "    generated_by=[\n",
    "        {\n",
    "            \"Name\": \"MNE-BIDS\",\n",
    "            \"Version\": \"0.14\",\n",
    "            \"Description\": \"Used to convert MEG data into BIDS format.\"\n",
    "        },\n",
    "        {\n",
    "            \"Name\": \"MNE-Python\",\n",
    "            \"Version\": \"1.6.1\",\n",
    "            \"Description\": \"Used for MEG preprocessing and analysis.\"\n",
    "        }\n",
    "    ],\n",
    "    source_datasets=[\n",
    "        {\n",
    "            \"URL\": \"https://example.com/source_dataset\",\n",
    "            \"DOI\": \"10.1234/example.doi\",\n",
    "        }],\n",
    "            overwrite=True,\n",
    "            verbose=True)"
   ]
  },
  {
   "cell_type": "markdown",
   "id": "24ae0c59",
   "metadata": {},
   "source": [
    "----"
   ]
  },
  {
   "cell_type": "markdown",
   "id": "e32208f9",
   "metadata": {},
   "source": [
    "# SEPARATE"
   ]
  },
  {
   "cell_type": "markdown",
   "id": "aa03c02f",
   "metadata": {},
   "source": [
    "### iterating code\n",
    "removed all visualisations should be able to be run in one go"
   ]
  },
  {
   "cell_type": "code",
   "execution_count": null,
   "id": "44b10f06",
   "metadata": {},
   "outputs": [],
   "source": [
    "\n",
    "# Imports\n",
    "import mne\n",
    "%pip install mne_bids\n",
    "%pip install --upgrade mne_bids\n",
    "\n",
    "from mne_bids import BIDSPath, print_dir_tree, write_raw_bids, make_dataset_description, update_sidecar_json\n",
    "import os.path as op\n",
    "from pathlib import Path\n",
    "\n",
    "import pandas as pd\n",
    "\n",
    "from datetime import datetime, timezone\n",
    "from dateutil.relativedelta import relativedelta\n",
    "from mne.transforms import Transform\n",
    "\n",
    "# Setting overall file location [edit this]\n",
    "\n",
    "location = Path(r'c:\\N8_internship_code\\Motor_Imaging_Dataset')\n",
    "\n",
    "# Specifying the files\n",
    "data_dir = location\n",
    "children = [child for child in data_dir.iterdir()]\n",
    "dir_number = 5\n",
    "files = [file for file in children[dir_number].iterdir()]\n",
    "file_path = files[1]\n",
    "\n",
    "# Reading the files\n",
    "data = mne.io.read_raw_edf(file_path)\n",
    "\n",
    "# Load your Excel data into a dataframe [edit this]\n",
    "df = pd.read_excel(r'c:\\N8_internship_code\\N8 tester sheet.xlsx')\n",
    "\n",
    "# Making a list of (only) participant folders from the 'location' file path\n",
    "folders = [p_folder for p_folder in location.iterdir() if p_folder.is_dir()]\n",
    "\n",
    "\n",
    "\n",
    "\n",
    "\n",
    "\n",
    "# Looping through every participant folder and its index in the folders list, using enumerate\n",
    "for index, participant_folder in enumerate(folders):\n",
    "\n",
    "    # Setting contents of excel columns (at the current index row) to variables\n",
    "    participant_id = df.loc[index, 'participant_id']    \n",
    "    last_name = df.loc[index, 'last_name']\n",
    "    first_name = df.loc[index, 'first_name']\n",
    "    middle_name = df.loc[index, 'middle_name']\n",
    "    age = df.loc[index, 'age']\n",
    "    sex = df.loc[index, 'sex']\n",
    "    hand = df.loc[index, 'hand']\n",
    "    weight = df.loc[index, 'weight']\n",
    "    height = df.loc[index, 'height']\n",
    "\n",
    "    # Sets the variable 'years' to 'age' from the imported excel sheet\n",
    "    years = (age)\n",
    "\n",
    "    # Generates the (approximate) birthdate of the participant based on the measurement date and age\n",
    "    data.set_meas_date(datetime(2015, 6, 7, tzinfo= timezone.utc))\n",
    "    recording_date = data.info[\"meas_date\"]\n",
    "    Birthdate = recording_date - relativedelta(years)\n",
    "\n",
    "    # Setting the participant's metadata using the excel sheet (different for every participant)\n",
    "    data.info[\"subject_info\"] = {\n",
    "        \"id\": index,\n",
    "        \"his_id\": participant_id,\n",
    "        \"last_name\": last_name,\n",
    "        \"first_name\": first_name,\n",
    "        \"middle_name\": middle_name,\n",
    "        \"birthday\": Birthdate,\n",
    "        \"sex\": int(sex),\n",
    "        \"hand\": int(hand),\n",
    "        \"weight\": weight,\n",
    "        \"height\": height,\n",
    "    }\n",
    "    # Setting the dataset's metadata manually (inputs will be the same for all participants)\n",
    "    data.info[\"device_info\"] = {\n",
    "        \"type\": \"EEG\",\n",
    "        \"model\": \"12-channel EEG\",\n",
    "        \"serial\": 33456423,\n",
    "        \"site\": \"yes\"\n",
    "        }\n",
    "\n",
    "    data.info[\"line_freq\"] = 50\n",
    "\n",
    "    data.info[\"description\"] = \"a resting state dataset\"\n",
    "\n",
    "    data.info[\"dev_head_t\"] = Transform(\"meg\", \"head\")\n",
    "\n",
    "    data.info[\"experimenter\"] = \"John Doe\"\n",
    "\n",
    "    my_montage = mne.channels.make_standard_montage(\"biosemi64\")\n",
    "    \n",
    "\n",
    "    # Creating the\n",
    "    bids_root = op.join(data_dir.parent, \"iterate_test\")\n",
    "    \n",
    "    file_name = participant_folder.name\n",
    "\n",
    "    #Edit this information to match your data\n",
    "    subject_id = file_name\n",
    "    task = \"task1\"\n",
    "\n",
    "    bids_path = BIDSPath(subject=subject_id, task=task, root=bids_root)\n",
    "    write_raw_bids(data, bids_path, overwrite=True, allow_preload=True, format=\"EDF\")\n"
   ]
  }
 ],
 "metadata": {
  "kernelspec": {
   "display_name": "base",
   "language": "python",
   "name": "python3"
  },
  "language_info": {
   "codemirror_mode": {
    "name": "ipython",
    "version": 3
   },
   "file_extension": ".py",
   "mimetype": "text/x-python",
   "name": "python",
   "nbconvert_exporter": "python",
   "pygments_lexer": "ipython3",
   "version": "3.12.7"
  }
 },
 "nbformat": 4,
 "nbformat_minor": 5
}
